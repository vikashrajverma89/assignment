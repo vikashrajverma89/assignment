{
 "cells": [
  {
   "cell_type": "markdown",
   "id": "f74d5b4c-cb7f-41f3-957b-36eacaedd575",
   "metadata": {},
   "source": [
    "# Feature Engineering-6"
   ]
  },
  {
   "cell_type": "markdown",
   "id": "779dbdf7-eab5-43bb-b34f-114808802fe7",
   "metadata": {},
   "source": [
    "## Q1. Pearson correlation coefficient is a measure of the linear relationship between two variables. Suppose you have collected data on the amount of time students spend studying for an exam and their final exam scores. Calculate the Pearson correlation coefficient between these two variables and interpret the result."
   ]
  },
  {
   "cell_type": "markdown",
   "id": "a014e850-00d3-4864-8e82-90938bf8baa4",
   "metadata": {},
   "source": [
    "To calculate the Pearson correlation coefficient between two variables, you can use the following formula:\n",
    "\n",
    "�\n",
    "(\n",
    "�\n",
    ",\n",
    "�\n",
    ")\n",
    "=\n",
    "cov\n",
    "(\n",
    "�\n",
    ",\n",
    "�\n",
    ")\n",
    "�\n",
    "�\n",
    "�\n",
    "�\n",
    "ρ(X,Y)= \n",
    "σ \n",
    "X\n",
    "​\n",
    " σ \n",
    "Y\n",
    "​\n",
    " \n",
    "cov(X,Y)\n",
    "​\n",
    " \n",
    "\n",
    "Where:\n",
    "\n",
    "�\n",
    "(\n",
    "�\n",
    ",\n",
    "�\n",
    ")\n",
    "ρ(X,Y) is the Pearson correlation coefficient.\n",
    "cov\n",
    "(\n",
    "�\n",
    ",\n",
    "�\n",
    ")\n",
    "cov(X,Y) is the covariance between variables X and Y.\n",
    "�\n",
    "�\n",
    "σ \n",
    "X\n",
    "​\n",
    "  and \n",
    "�\n",
    "�\n",
    "σ \n",
    "Y\n",
    "​\n",
    "  are the standard deviations of variables X and Y, respectively.\n",
    "Here's a step-by-step guide:\n",
    "\n",
    "Calculate Covariance:\n",
    "\n",
    "cov\n",
    "(\n",
    "�\n",
    ",\n",
    "�\n",
    ")\n",
    "=\n",
    "∑\n",
    "(\n",
    "�\n",
    "�\n",
    "−\n",
    "�\n",
    "ˉ\n",
    ")\n",
    "(\n",
    "�\n",
    "�\n",
    "−\n",
    "�\n",
    "ˉ\n",
    ")\n",
    "�\n",
    "−\n",
    "1\n",
    "cov(X,Y)= \n",
    "n−1\n",
    "∑(X \n",
    "i\n",
    "​\n",
    " − \n",
    "X\n",
    "ˉ\n",
    " )(Y \n",
    "i\n",
    "​\n",
    " − \n",
    "Y\n",
    "ˉ\n",
    " )\n",
    "​\n",
    " \n",
    "Calculate the covariance between the amount of time students spend studying (\n",
    "�\n",
    "X) and their final exam scores (\n",
    "�\n",
    "Y).\n",
    "Calculate Standard Deviations:\n",
    "\n",
    "�\n",
    "�\n",
    "=\n",
    "∑\n",
    "(\n",
    "�\n",
    "�\n",
    "−\n",
    "�\n",
    "ˉ\n",
    ")\n",
    "2\n",
    "�\n",
    "−\n",
    "1\n",
    "σ \n",
    "X\n",
    "​\n",
    " = \n",
    "n−1\n",
    "∑(X \n",
    "i\n",
    "​\n",
    " − \n",
    "X\n",
    "ˉ\n",
    " ) \n",
    "2\n",
    " \n",
    "​\n",
    " \n",
    "​\n",
    " \n",
    "�\n",
    "�\n",
    "=\n",
    "∑\n",
    "(\n",
    "�\n",
    "�\n",
    "−\n",
    "�\n",
    "ˉ\n",
    ")\n",
    "2\n",
    "�\n",
    "−\n",
    "1\n",
    "σ \n",
    "Y\n",
    "​\n",
    " = \n",
    "n−1\n",
    "∑(Y \n",
    "i\n",
    "​\n",
    " − \n",
    "Y\n",
    "ˉ\n",
    " ) \n",
    "2\n",
    " \n",
    "​\n",
    " \n",
    "​\n",
    " \n",
    "Calculate the standard deviations of both variables.\n",
    "Calculate Pearson Correlation Coefficient:\n",
    "\n",
    "�\n",
    "(\n",
    "�\n",
    ",\n",
    "�\n",
    ")\n",
    "=\n",
    "cov\n",
    "(\n",
    "�\n",
    ",\n",
    "�\n",
    ")\n",
    "�\n",
    "�\n",
    "�\n",
    "�\n",
    "ρ(X,Y)= \n",
    "σ \n",
    "X\n",
    "​\n",
    " σ \n",
    "Y\n",
    "​\n",
    " \n",
    "cov(X,Y)\n",
    "​\n",
    " \n",
    "Now, let's assume you have the following data:"
   ]
  },
  {
   "cell_type": "code",
   "execution_count": 1,
   "id": "219a095c-d3de-4a6f-9d74-e793e971bbff",
   "metadata": {},
   "outputs": [
    {
     "name": "stdout",
     "output_type": "stream",
     "text": [
      "Covariance: 26.499999999999996\n",
      "Standard Deviation (Study Time): 1.9235384061671346\n",
      "Standard Deviation (Exam Scores): 13.874436925511608\n",
      "Pearson Correlation Coefficient: 0.9929551782230583\n"
     ]
    }
   ],
   "source": [
    "import numpy as np\n",
    "\n",
    "# Sample data\n",
    "study_time = [5, 7, 3, 6, 8]\n",
    "exam_scores = [75, 90, 60, 85, 95]\n",
    "\n",
    "# Calculate covariance\n",
    "covariance = np.cov(study_time, exam_scores)[0, 1]\n",
    "\n",
    "# Calculate standard deviations\n",
    "std_study_time = np.std(study_time, ddof=1)\n",
    "std_exam_scores = np.std(exam_scores, ddof=1)\n",
    "\n",
    "# Calculate Pearson correlation coefficient\n",
    "pearson_corr_coeff = covariance / (std_study_time * std_exam_scores)\n",
    "\n",
    "# Display the results\n",
    "print(f\"Covariance: {covariance}\")\n",
    "print(f\"Standard Deviation (Study Time): {std_study_time}\")\n",
    "print(f\"Standard Deviation (Exam Scores): {std_exam_scores}\")\n",
    "print(f\"Pearson Correlation Coefficient: {pearson_corr_coeff}\")\n"
   ]
  },
  {
   "cell_type": "markdown",
   "id": "7d3f1df4-bb5f-43cc-ab1f-da0b185a3705",
   "metadata": {},
   "source": [
    "Interpretation:\n",
    "\n",
    "A positive Pearson correlation coefficient indicates a positive linear relationship. As study time increases, exam scores tend to increase.\n",
    "A negative Pearson correlation coefficient would indicate a negative linear relationship.\n",
    "The value of the correlation coefficient ranges from -1 to 1. A value closer to 1 indicates a stronger positive linear relationship, while a value closer to -1 indicates a stronger negative linear relationship.\n",
    "A value around 0 suggests a weak or no linear relationship between the variables.\n",
    "In this example, you would interpret the Pearson correlation coefficient in the context of the study and exam scores to understand the strength and direction of the linear relationship between these two variables."
   ]
  },
  {
   "cell_type": "markdown",
   "id": "4bc9db4a-426d-48e0-8c48-72a2be2900e3",
   "metadata": {},
   "source": [
    "## Q2. Spearman's rank correlation is a measure of the monotonic relationship between two variables. Suppose you have collected data on the amount of sleep individuals get each night and their overall job satisfaction level on a scale of 1 to 10. Calculate the Spearman's rank correlation between these two variables and interpret the result."
   ]
  },
  {
   "cell_type": "markdown",
   "id": "fa67dbbc-17df-40e4-8916-cfe4fe6de854",
   "metadata": {},
   "source": [
    "Spearman's rank correlation is a non-parametric measure of the monotonic relationship between two variables. It assesses whether there is a consistent increase or decrease in one variable as the other variable increases.\n",
    "\n",
    "Here are the steps to calculate Spearman's rank correlation:\n",
    "\n",
    "Rank the Data:\n",
    "\n",
    "Assign ranks to the values of each variable, replacing the actual values with their ranks.\n",
    "Calculate the Differences in Ranks:\n",
    "\n",
    "For each pair of ranks, calculate the difference in ranks.\n",
    "Square the Differences:\n",
    "\n",
    "Square each difference in ranks.\n",
    "Sum the Squared Differences:\n",
    "\n",
    "Sum the squared differences.\n",
    "Calculate Spearman's Rank Co"
   ]
  },
  {
   "cell_type": "code",
   "execution_count": 2,
   "id": "80aa5b1e-f686-4437-bfcb-7eb1a797eca2",
   "metadata": {},
   "outputs": [
    {
     "name": "stdout",
     "output_type": "stream",
     "text": [
      "Spearman's Rank Correlation: 0.9746794344808963\n"
     ]
    }
   ],
   "source": [
    "import scipy.stats\n",
    "\n",
    "# Sample data\n",
    "sleep_hours = [7, 6, 8, 5, 7]\n",
    "job_satisfaction = [8, 5, 9, 4, 7]\n",
    "\n",
    "# Calculate Spearman's rank correlation\n",
    "spearman_corr, _ = scipy.stats.spearmanr(sleep_hours, job_satisfaction)\n",
    "\n",
    "# Display the result\n",
    "print(f\"Spearman's Rank Correlation: {spearman_corr}\")\n"
   ]
  },
  {
   "cell_type": "markdown",
   "id": "f7bfb711-0530-4fcf-a8f5-968afeadfdb8",
   "metadata": {},
   "source": [
    "## Q3. Suppose you are conducting a study to examine the relationship between the number of hours of exercise per week and body mass index (BMI) in a sample of adults. You collected data on both variables for 50 participants. Calculate the Pearson correlation coefficient and the Spearman's rank correlation between these two variables and compare the results."
   ]
  },
  {
   "cell_type": "code",
   "execution_count": 4,
   "id": "9a117ff4-b749-4505-8c85-aef890ef3e1f",
   "metadata": {},
   "outputs": [
    {
     "name": "stdout",
     "output_type": "stream",
     "text": [
      "Pearson Correlation Coefficient: 0.9871843374886009\n",
      "Spearman's Rank Correlation: 0.9835899274067053\n"
     ]
    }
   ],
   "source": [
    "import numpy as np\n",
    "import scipy.stats\n",
    "\n",
    "# Sample data\n",
    "hours_of_exercise = [3, 5, 2, 4, 6, 1, 5, 2, 3, 4,\n",
    "                     2, 6, 1, 5, 3, 4, 2, 6, 1, 5,\n",
    "                     4, 3, 6, 2, 1, 4, 5, 3, 2, 6,\n",
    "                     1, 5, 3, 4, 2, 6, 1, 5, 4, 3,\n",
    "                     2, 6, 1, 5, 3, 4, 2, 6, 1, 5]\n",
    "\n",
    "bmi_values = [24.5, 27.8, 21.3, 26.0, 29.2, 20.1, 28.7, 22.0, 23.5, 25.8,\n",
    "              21.7, 28.1, 19.8, 27.3, 24.3, 26.4, 21.9, 29.5, 20.5, 28.0,\n",
    "              26.2, 24.7, 29.8, 22.5, 19.7, 26.5, 27.9, 24.4, 21.5, 29.1,\n",
    "              19.5, 28.4, 24.0, 26.7, 22.7, 30.0, 20.3, 27.2, 26.1, 23.8,\n",
    "              21.2, 29.6, 19.3, 28.2, 24.8, 26.6, 22.2, 29.9, 19.1, 27.7]\n",
    "\n",
    "# Calculate Pearson correlation coefficient\n",
    "pearson_corr = np.corrcoef(hours_of_exercise, bmi_values)[0, 1]\n",
    "\n",
    "# Calculate Spearman's rank correlation\n",
    "spearman_corr, _ = scipy.stats.spearmanr(hours_of_exercise, bmi_values)\n",
    "\n",
    "# Display the results\n",
    "print(f\"Pearson Correlation Coefficient: {pearson_corr}\")\n",
    "print(f\"Spearman's Rank Correlation: {spearman_corr}\")\n",
    "\n"
   ]
  },
  {
   "cell_type": "markdown",
   "id": "866010cc-0b0c-4a79-8b1b-c7be8c952287",
   "metadata": {},
   "source": [
    "## Q4. A researcher is interested in examining the relationship between the number of hours individuals spend watching television per day and their level of physical activity. The researcher collected data on both variables from a sample of 50 participants. Calculate the Pearson correlation coefficient between these two variables."
   ]
  },
  {
   "cell_type": "code",
   "execution_count": 5,
   "id": "dbaba126-e4dc-444c-bbc4-570eefa338ba",
   "metadata": {},
   "outputs": [
    {
     "name": "stdout",
     "output_type": "stream",
     "text": [
      "Pearson Correlation Coefficient: 0.9999999999999994\n"
     ]
    }
   ],
   "source": [
    "import numpy as np\n",
    "\n",
    "# Sample data\n",
    "hours_of_tv = [2, 3, 1, 4, 2, 3, 1, 5, 2, 3,\n",
    "               1, 4, 2, 3, 1, 5, 2, 3, 1, 4,\n",
    "               2, 3, 1, 4, 2, 3, 1, 5, 2, 3,\n",
    "               1, 4, 2, 3, 1, 5, 2, 3, 1, 4,\n",
    "               2, 3, 1, 4, 2, 3, 1, 5, 2, 3]\n",
    "\n",
    "physical_activity_level = [4, 5, 3, 6, 4, 5, 3, 7, 4, 5,\n",
    "                           3, 6, 4, 5, 3, 7, 4, 5, 3, 6,\n",
    "                           4, 5, 3, 6, 4, 5, 3, 7, 4, 5,\n",
    "                           3, 6, 4, 5, 3, 7, 4, 5, 3, 6,\n",
    "                           4, 5, 3, 6, 4, 5, 3, 7, 4, 5]\n",
    "\n",
    "# Calculate Pearson correlation coefficient\n",
    "pearson_corr = np.corrcoef(hours_of_tv, physical_activity_level)[0, 1]\n",
    "\n",
    "# Display the result\n",
    "print(f\"Pearson Correlation Coefficient: {pearson_corr}\")\n"
   ]
  },
  {
   "cell_type": "markdown",
   "id": "d3cbf783-6156-4012-84d2-f34efb0b4d03",
   "metadata": {},
   "source": [
    "## Q5. A survey was conducted to examine the relationship between age and preference for a particular\n",
    "brand of soft drink. The survey results are shown below:\n"
   ]
  },
  {
   "cell_type": "code",
   "execution_count": 6,
   "id": "dc94ab82-a1cf-4b49-b143-9d159a240107",
   "metadata": {},
   "outputs": [
    {
     "name": "stdout",
     "output_type": "stream",
     "text": [
      "   Age Soft_Drink_Preferences\n",
      "0   25                   Coke\n",
      "1   42                  Pepsi\n",
      "2   37           Mountain Dew\n",
      "3   19                   Coke\n",
      "4   31                  Pepsi\n",
      "5   28                   Coke\n"
     ]
    },
    {
     "data": {
      "image/png": "[encoded data removed]",
      "text/plain": [
       "<Figure size 1000x600 with 1 Axes>"
      ]
     },
     "metadata": {},
     "output_type": "display_data"
    },
    {
     "name": "stdout",
     "output_type": "stream",
     "text": [
      "\n",
      "Summary Statistics:\n",
      "                        count  mean       std   min    25%   50%    75%   max\n",
      "Soft_Drink_Preferences                                                       \n",
      "Coke                      3.0  24.0  4.582576  19.0  22.00  25.0  26.50  28.0\n",
      "Mountain Dew              1.0  37.0       NaN  37.0  37.00  37.0  37.00  37.0\n",
      "Pepsi                     2.0  36.5  7.778175  31.0  33.75  36.5  39.25  42.0\n"
     ]
    }
   ],
   "source": [
    "import pandas as pd\n",
    "import matplotlib.pyplot as plt\n",
    "import seaborn as sns\n",
    "\n",
    "# Sample data\n",
    "data = {\n",
    "    'Age': [25, 42, 37, 19, 31, 28],\n",
    "    'Soft_Drink_Preferences': ['Coke', 'Pepsi', 'Mountain Dew', 'Coke', 'Pepsi', 'Coke']\n",
    "}\n",
    "\n",
    "# Create a DataFrame\n",
    "df = pd.DataFrame(data)\n",
    "\n",
    "# Display the data\n",
    "print(df)\n",
    "\n",
    "# Summary statistics\n",
    "summary_stats = df.groupby('Soft_Drink_Preferences')['Age'].describe()\n",
    "\n",
    "# Explore the relationship visually\n",
    "plt.figure(figsize=(10, 6))\n",
    "sns.histplot(df, x='Age', hue='Soft_Drink_Preferences', multiple='stack', bins=20, palette='viridis')\n",
    "plt.title('Distribution of Age for Each Soft Drink Preference')\n",
    "plt.xlabel('Age (Years)')\n",
    "plt.ylabel('Count')\n",
    "plt.show()\n",
    "\n",
    "# Display summary statistics\n",
    "print(\"\\nSummary Statistics:\")\n",
    "print(summary_stats)\n"
   ]
  },
  {
   "cell_type": "markdown",
   "id": "0b9988d8-7234-44e4-af68-e962db6e91f4",
   "metadata": {},
   "source": [
    "## Q6. A company is interested in examining the relationship between the number of sales calls made per day and the number of sales made per week. The company collected data on both variables from a sample of 30 sales representatives. Calculate the Pearson correlation coefficient between these two variables."
   ]
  },
  {
   "cell_type": "code",
   "execution_count": 7,
   "id": "7099134d-9dc3-423c-9724-97abe3467b74",
   "metadata": {},
   "outputs": [
    {
     "name": "stdout",
     "output_type": "stream",
     "text": [
      "Pearson Correlation Coefficient: 0.9891752732942964\n"
     ]
    }
   ],
   "source": [
    "import numpy as np\n",
    "\n",
    "# Sample data\n",
    "sales_calls_per_day = [20, 25, 15, 18, 22, 28, 16, 19, 24, 21,\n",
    "                       17, 23, 14, 27, 20, 26, 18, 22, 19, 21,\n",
    "                       25, 16, 19, 23, 15, 24, 17, 22, 28, 20, 26]\n",
    "\n",
    "sales_per_week = [120, 150, 90, 100, 130, 160, 95, 110, 140, 125,\n",
    "                   105, 135, 85, 155, 115, 150, 100, 130, 110, 125,\n",
    "                   150, 100, 120, 140, 92, 145, 102, 135, 165, 120, 155]\n",
    "\n",
    "# Calculate Pearson correlation coefficient\n",
    "pearson_corr = np.corrcoef(sales_calls_per_day, sales_per_week)[0, 1]\n",
    "\n",
    "# Display the result\n",
    "print(f\"Pearson Correlation Coefficient: {pearson_corr}\")\n"
   ]
  },
  {
   "cell_type": "code",
   "execution_count": null,
   "id": "bc0d86c4-3cb6-4df3-92a6-fc64cbba8836",
   "metadata": {},
   "outputs": [],
   "source": []
  }
 ],
 "metadata": {
  "kernelspec": {
   "display_name": "Python 3 (ipykernel)",
   "language": "python",
   "name": "python3"
  },
  "language_info": {
   "codemirror_mode": {
    "name": "ipython",
    "version": 3
   },
   "file_extension": ".py",
   "mimetype": "text/x-python",
   "name": "python",
   "nbconvert_exporter": "python",
   "pygments_lexer": "ipython3",
   "version": "3.10.8"
  }
 },
 "nbformat": 4,
 "nbformat_minor": 5
}
