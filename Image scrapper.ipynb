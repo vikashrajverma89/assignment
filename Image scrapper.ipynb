{
 "cells": [
  {
   "cell_type": "markdown",
   "id": "21adf850-937f-4686-9441-e89dcee0aa60",
   "metadata": {},
   "source": [
    "Go to this given URL and solve the following questions\n",
    "\n",
    "URL: https://www.youtube.com/@PW-Foundation/videos"
   ]
  },
  {
   "cell_type": "markdown",
   "id": "7176317c-5458-4e31-95d2-0c4d2ee8a17a",
   "metadata": {},
   "source": [
    "## Q1. Write a python program to extract the video URL of the first five videos."
   ]
  },
  {
   "cell_type": "code",
   "execution_count": 7,
   "id": "f77208b2-3646-45c6-99db-02dadb8629d9",
   "metadata": {},
   "outputs": [],
   "source": [
    "import requests\n",
    "from bs4 import BeautifulSoup\n",
    "from pandas import DataFrame\n",
    "from json import loads"
   ]
  },
  {
   "cell_type": "code",
   "execution_count": 8,
   "id": "50135184-1cbc-4777-9fcb-af294a3e9cc6",
   "metadata": {},
   "outputs": [
    {
     "data": {
      "text/plain": [
       "<Response [200]>"
      ]
     },
     "execution_count": 8,
     "metadata": {},
     "output_type": "execute_result"
    }
   ],
   "source": [
    "url = 'https://www.youtube.com/@PW-Foundation/videos'\n",
    "\n",
    "# Get the html by get method\n",
    "r = requests.get(url)\n",
    "r\n"
   ]
  },
  {
   "cell_type": "code",
   "execution_count": 9,
   "id": "c87b8cc5-7564-4707-a962-240d4ab1f9ac",
   "metadata": {},
   "outputs": [],
   "source": [
    "# Create BeautifulSoup object\n",
    "soup = BeautifulSoup(r.text, 'html.parser')"
   ]
  },
  {
   "cell_type": "code",
   "execution_count": 10,
   "id": "5dc53db3-869a-4eb7-a28d-df14c891f420",
   "metadata": {},
   "outputs": [],
   "source": [
    "all_script_tags = soup.findAll('script')"
   ]
  },
  {
   "cell_type": "code",
   "execution_count": 13,
   "id": "d078bd88-162e-42cb-87de-9f57f9460817",
   "metadata": {},
   "outputs": [],
   "source": [
    "def script_tag_to_json(tags: list) -> dict:\n",
    "    for tag in reversed(tags):\n",
    "        text: str = tag.text\n",
    "        if 'ytInitialData = {\"responseContext\"' in text:\n",
    "            return loads(text[20:-1])\n",
    "\n",
    "    raise ValueError('Required script tag not found in the given tags.')"
   ]
  },
  {
   "cell_type": "code",
   "execution_count": 14,
   "id": "70bee73d-15ea-4357-93a0-b4a4003ff8da",
   "metadata": {},
   "outputs": [],
   "source": [
    "data = script_tag_to_json(all_script_tags)"
   ]
  },
  {
   "cell_type": "code",
   "execution_count": 15,
   "id": "7a2710b2-2522-4e7b-a58e-275d51497d43",
   "metadata": {},
   "outputs": [],
   "source": [
    "def get_contents_dict(data):\n",
    "    return data['contents']['twoColumnBrowseResultsRenderer']['tabs'][1]['tabRenderer']['content']['richGridRenderer']['contents']"
   ]
  },
  {
   "cell_type": "markdown",
   "id": "3bf49352-de7e-4dc1-be2f-e29ddbbf73e2",
   "metadata": {},
   "source": [
    "## Get video id"
   ]
  },
  {
   "cell_type": "code",
   "execution_count": 16,
   "id": "34924133-b7f8-4d3f-949f-fd535d49bdc0",
   "metadata": {},
   "outputs": [
    {
     "data": {
      "text/plain": [
       "['https://www.youtube.com/watch?v=bnVfypUYGDA',\n",
       " 'https://www.youtube.com/watch?v=oRBVGPNSubE',\n",
       " 'https://www.youtube.com/watch?v=mWCG1rQt4vM',\n",
       " 'https://www.youtube.com/watch?v=xAEX042GdEs',\n",
       " 'https://www.youtube.com/watch?v=nInh_Y87Kpo']"
      ]
     },
     "execution_count": 16,
     "metadata": {},
     "output_type": "execute_result"
    }
   ],
   "source": [
    "def get_videoUrl(data:dict, n: int = 5):\n",
    "    contents = get_contents_dict(data)\n",
    "\n",
    "    if n > 30:\n",
    "        raise ValueError('Max Limit is 30.')\n",
    "\n",
    "    result = []\n",
    "    for i in range(n):\n",
    "        result.append('https://www.youtube.com/watch?v=' +\n",
    "                      contents[i]['richItemRenderer']['content']['videoRenderer']['videoId'])\n",
    "\n",
    "    return result\n",
    "\n",
    "get_videoUrl(data)"
   ]
  },
  {
   "cell_type": "markdown",
   "id": "aceaa813-934b-4a47-9977-4a4de78afcb4",
   "metadata": {},
   "source": [
    "## Q2. Write a python program to extract the URL of the video thumbnails of the first five videos."
   ]
  },
  {
   "cell_type": "markdown",
   "id": "649f32e6-c0fa-4ad4-a1dd-45b60292a191",
   "metadata": {},
   "source": [
    "## Get video thumbnails"
   ]
  },
  {
   "cell_type": "code",
   "execution_count": 17,
   "id": "9bcb17e4-14c3-423c-b444-c4c3bc8d7d60",
   "metadata": {},
   "outputs": [
    {
     "data": {
      "text/plain": [
       "['https://i.ytimg.com/vi/bnVfypUYGDA/hqdefault.jpg?sqp=-oaymwEjCNACELwBSFryq4qpAxUIARUAAAAAGAElAADIQj0AgKJDeAE=&rs=AOn4CLDCEHdnwgSzgHNYvox6swyrC4YEmQ',\n",
       " 'https://i.ytimg.com/vi/oRBVGPNSubE/hqdefault.jpg?sqp=-oaymwEjCNACELwBSFryq4qpAxUIARUAAAAAGAElAADIQj0AgKJDeAE=&rs=AOn4CLDYQix8jbkIvqT0sMx6dBsK-oJuiw',\n",
       " 'https://i.ytimg.com/vi/mWCG1rQt4vM/hqdefault.jpg?sqp=-oaymwEjCNACELwBSFryq4qpAxUIARUAAAAAGAElAADIQj0AgKJDeAE=&rs=AOn4CLD0KWK3ObCUPTAHPVtX1TdSJSLorw',\n",
       " 'https://i.ytimg.com/vi/xAEX042GdEs/hqdefault.jpg?sqp=-oaymwEjCNACELwBSFryq4qpAxUIARUAAAAAGAElAADIQj0AgKJDeAE=&rs=AOn4CLAaelIvpSMOAehX4XXRn2dnIGfNkw',\n",
       " 'https://i.ytimg.com/vi/nInh_Y87Kpo/hqdefault.jpg?sqp=-oaymwEjCNACELwBSFryq4qpAxUIARUAAAAAGAElAADIQj0AgKJDeAE=&rs=AOn4CLA699gHQoZOp7uYfz5_LjdTVijqHQ']"
      ]
     },
     "execution_count": 17,
     "metadata": {},
     "output_type": "execute_result"
    }
   ],
   "source": [
    "def get_thumbnails(data: dict, n: int = 5):\n",
    "    contents = get_contents_dict(data)\n",
    "\n",
    "    if n > 30:\n",
    "        raise ValueError('Max Limit is 30.')\n",
    "\n",
    "    result = []\n",
    "    for i in range(n):\n",
    "        result.append(contents[i]['richItemRenderer']['content']['videoRenderer']['thumbnail']['thumbnails'][-1]['url'])\n",
    "\n",
    "    return result\n",
    "\n",
    "get_thumbnails(data)"
   ]
  },
  {
   "cell_type": "markdown",
   "id": "1a3ab386-e92c-4022-8624-18b32d515208",
   "metadata": {},
   "source": [
    "## Q3. Write a python program to extract the title of the first five videos."
   ]
  },
  {
   "cell_type": "markdown",
   "id": "4117ee77-b976-4e18-b285-1119d3614fc6",
   "metadata": {},
   "source": [
    "## get video tittle"
   ]
  },
  {
   "cell_type": "code",
   "execution_count": 18,
   "id": "b47c40a5-a807-49ef-9ebb-84b8be5be63f",
   "metadata": {},
   "outputs": [
    {
     "data": {
      "text/plain": [
       "['Complete 1 Chapter in 1 Hour || Get 90% in 10 Days !! 🔥 Launching Exam Buddy BOT 🙌',\n",
       " 'Class 10th Science: Most Important 100 Questions for Board Exams | BOARD Exam 2024 @Class10th-UDAAN',\n",
       " 'Complete MATHS in Just 3 hours | LAST Minute Revision | Class 10th CBSE Boards',\n",
       " 'Class 10th BIOLOGY All Diagrams in 1 Shot | Full Syllabus Covered CBSE Board',\n",
       " 'Complete HINDI Course B in Just 3 hours | LAST Minute Revision | Class 10th CBSE Boards']"
      ]
     },
     "execution_count": 18,
     "metadata": {},
     "output_type": "execute_result"
    }
   ],
   "source": [
    "def get_title(data: dict, n:int = 5):\n",
    "    contents = get_contents_dict(data)\n",
    "\n",
    "    if n > 30:\n",
    "        raise ValueError('Max Limit is 30.')\n",
    "\n",
    "    result = []\n",
    "    for i in range(n):\n",
    "        result.append(contents[i]['richItemRenderer']['content']['videoRenderer']['title']['runs'][-1]['text'])\n",
    "\n",
    "    return result\n",
    "\n",
    "get_title(data)"
   ]
  },
  {
   "cell_type": "markdown",
   "id": "17f40a99-44f5-422a-a1a4-b2351f284442",
   "metadata": {},
   "source": [
    "## Q4. Write a python program to extract the number of views of the first five videos."
   ]
  },
  {
   "cell_type": "code",
   "execution_count": 19,
   "id": "0d0cbe81-2bca-498f-9554-49539793eed5",
   "metadata": {},
   "outputs": [
    {
     "data": {
      "text/plain": [
       "[63659, 40888, 33977, 31875, 145484]"
      ]
     },
     "execution_count": 19,
     "metadata": {},
     "output_type": "execute_result"
    }
   ],
   "source": [
    "def get_viwes(data: dict, n: int = 5):\n",
    "    contents = get_contents_dict(data)\n",
    "\n",
    "    if n > 30:\n",
    "        raise ValueError('Max Limit is 30.')\n",
    "\n",
    "    result = []\n",
    "    for i in range(n):\n",
    "        result.append(int(contents[i]['richItemRenderer']['content']['videoRenderer']['viewCountText']['simpleText']\n",
    "                      [:-6].replace(',', '')))\n",
    "\n",
    "    return result\n",
    "\n",
    "get_viwes(data)"
   ]
  },
  {
   "cell_type": "markdown",
   "id": "23b672ee-6784-4d00-99a9-dcad32dd0c15",
   "metadata": {
    "tags": []
   },
   "source": [
    "# Q5. Write a python program to extract the time of posting of video for the first five videos."
   ]
  },
  {
   "cell_type": "markdown",
   "id": "cde36aee-4233-496a-a793-38af42240dc0",
   "metadata": {},
   "source": [
    "## Get time of posting of video"
   ]
  },
  {
   "cell_type": "code",
   "execution_count": 20,
   "id": "5f6b1f59-ded5-41e6-9552-3470e12b914f",
   "metadata": {},
   "outputs": [
    {
     "data": {
      "text/plain": [
       "['20 hours ago', '23 hours ago', '1 day ago', '2 days ago', '3 days ago']"
      ]
     },
     "execution_count": 20,
     "metadata": {},
     "output_type": "execute_result"
    }
   ],
   "source": [
    "def get_time_of_posting(data: dict, n: int = 5):\n",
    "    contents = get_contents_dict(data)\n",
    "\n",
    "    if n > 30:\n",
    "        raise ValueError('Max Limit is 30.')\n",
    "\n",
    "    result = []\n",
    "    for i in range(n):\n",
    "        result.append(contents[i]['richItemRenderer']['content']['videoRenderer']['publishedTimeText']['simpleText'])\n",
    "\n",
    "    return result\n",
    "\n",
    "get_time_of_posting(data)"
   ]
  },
  {
   "cell_type": "markdown",
   "id": "98bf5273-2671-4fe3-90c8-6eade9194326",
   "metadata": {},
   "source": [
    "# Note: Save all the data scraped in the above questions in a CSV file.\n",
    "# Save data in CSV format"
   ]
  },
  {
   "cell_type": "code",
   "execution_count": 21,
   "id": "2f19bb94-9de6-407e-b4f1-0ef191ac76a3",
   "metadata": {},
   "outputs": [],
   "source": [
    "def get_channel_video_details(data: dict, n: int):\n",
    "    thumbnails = get_thumbnails(data, n)\n",
    "    time_of_posting = get_time_of_posting(data, n)\n",
    "    titles = get_title(data, n)\n",
    "    video_urls = get_videoUrl(data, n)\n",
    "\n",
    "    main_data = list(zip(video_urls, titles, thumbnails, time_of_posting))\n",
    "    \n",
    "    df = DataFrame.from_dict(main_data)\n",
    "    df.rename(\n",
    "        columns={\n",
    "            0: 'video_urls',\n",
    "            1: 'title',\n",
    "            2: 'thumbnail_url',\n",
    "            3: 'time_of_posting'\n",
    "        }, inplace=True)\n",
    "\n",
    "    return df"
   ]
  },
  {
   "cell_type": "code",
   "execution_count": 22,
   "id": "9924425a-3dcf-4a4a-804e-503a9e9dc74d",
   "metadata": {},
   "outputs": [],
   "source": [
    "channel_data = get_channel_video_details(data, 30)"
   ]
  },
  {
   "cell_type": "code",
   "execution_count": 23,
   "id": "dba804d7-f6e6-4366-a579-5f109b0cad12",
   "metadata": {},
   "outputs": [],
   "source": [
    "channel_data.to_csv('PW-Foundation.csv', index=False)"
   ]
  },
  {
   "cell_type": "markdown",
   "id": "1b5edd54-7fe1-4a1f-b186-bdc6e2df1cf0",
   "metadata": {},
   "source": [
    "# i dont have credit card to deploy on aws"
   ]
  },
  {
   "cell_type": "code",
   "execution_count": null,
   "id": "8b6e57c7-35e2-4ced-83de-99cb656d9b28",
   "metadata": {},
   "outputs": [],
   "source": []
  }
 ],
 "metadata": {
  "kernelspec": {
   "display_name": "Python 3 (ipykernel)",
   "language": "python",
   "name": "python3"
  },
  "language_info": {
   "codemirror_mode": {
    "name": "ipython",
    "version": 3
   },
   "file_extension": ".py",
   "mimetype": "text/x-python",
   "name": "python",
   "nbconvert_exporter": "python",
   "pygments_lexer": "ipython3",
   "version": "3.10.8"
  }
 },
 "nbformat": 4,
 "nbformat_minor": 5
}
