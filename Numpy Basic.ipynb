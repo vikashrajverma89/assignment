{
 "cells": [
  {
   "cell_type": "markdown",
   "id": "a49c7977-1585-425d-9e1d-7ad1c76c663b",
   "metadata": {},
   "source": [
    "# Consider the below code to answer further questions:\n"
   ]
  },
  {
   "cell_type": "code",
   "execution_count": 5,
   "id": "95425637-9de2-47b9-9ec5-fe0d7db31a1f",
   "metadata": {},
   "outputs": [],
   "source": [
    "import numpy as np\n",
    "list_ = ['1', '2', '3', '4', '5']\n",
    "array_list = np.array(object=list_)\n"
   ]
  },
  {
   "cell_type": "markdown",
   "id": "a0e67efd-3f60-4db2-8559-8bc231b3f523",
   "metadata": {},
   "source": [
    "## Q1. Is there any difference in the data type of variables list_ and array_list? If there is then write a code to print the data types of both the variables."
   ]
  },
  {
   "cell_type": "markdown",
   "id": "efc891d0-c18a-41f7-958d-c8af1935445c",
   "metadata": {},
   "source": [
    "\n",
    "Yes, there is a difference in the data types of variables list_ and array_list. The variable list_ is a Python list, and array_list is a NumPy array.\n",
    "\n",
    "You can print the data types of both variables using the type function. Here's the code"
   ]
  },
  {
   "cell_type": "code",
   "execution_count": 6,
   "id": "e3d75041-f78a-48b2-a974-0f547fc8b8a7",
   "metadata": {},
   "outputs": [
    {
     "name": "stdout",
     "output_type": "stream",
     "text": [
      "Data type of list_: <class 'list'>\n",
      "Data type of array_list: <class 'numpy.ndarray'>\n"
     ]
    }
   ],
   "source": [
    "import numpy as np\n",
    "\n",
    "list_ = ['1', '2', '3', '4', '5']\n",
    "array_list = np.array(object=list_)\n",
    "\n",
    "# Print the data types\n",
    "print(\"Data type of list_:\", type(list_))\n",
    "print(\"Data type of array_list:\", type(array_list))\n"
   ]
  },
  {
   "cell_type": "markdown",
   "id": "5a9ed8c1-1a8c-47e1-9de6-ac5391df1034",
   "metadata": {},
   "source": [
    "Here, <class 'list'> indicates the data type of the list_ variable is a Python list, and <class 'numpy.ndarray'> indicates the data type of the array_list variable is a NumPy array."
   ]
  },
  {
   "cell_type": "markdown",
   "id": "b5b712c2-e465-4b5a-8d0c-2633ba28b24e",
   "metadata": {},
   "source": [
    "# Q2. Write a code to print the data type of each and every element of both the variables list_ and arra_list."
   ]
  },
  {
   "cell_type": "code",
   "execution_count": 1,
   "id": "eb86682d-d1a9-44db-8792-c28d6b280a14",
   "metadata": {},
   "outputs": [
    {
     "name": "stdout",
     "output_type": "stream",
     "text": [
      "Data type of each element in list_:\n",
      "<class 'str'>\n",
      "<class 'str'>\n",
      "<class 'str'>\n",
      "<class 'str'>\n",
      "<class 'str'>\n",
      "\n",
      "Data type of each element in array_list:\n",
      "<class 'numpy.str_'>\n",
      "<class 'numpy.str_'>\n",
      "<class 'numpy.str_'>\n",
      "<class 'numpy.str_'>\n",
      "<class 'numpy.str_'>\n"
     ]
    }
   ],
   "source": [
    "import numpy as np\n",
    "\n",
    "list_ = ['1', '2', '3', '4', '5']\n",
    "array_list = np.array(object=list_)\n",
    "\n",
    "# Print the data type of each element in the list\n",
    "print(\"Data type of each element in list_:\")\n",
    "for element in list_:\n",
    "    print(type(element))\n",
    "\n",
    "# Print the data type of each element in the NumPy array\n",
    "print(\"\\nData type of each element in array_list:\")\n",
    "for element in array_list:\n",
    "    print(type(element))\n"
   ]
  },
  {
   "cell_type": "markdown",
   "id": "c44392d4-3f28-46fb-997f-917e0ac738be",
   "metadata": {},
   "source": [
    "# Q3. Considering the following changes in the variable, array_list:\n",
    "array_list = np.array(object = list_, dtype = int)\n",
    "Will there be any difference in the data type of the elements present in both the variables, list_ and\n",
    "arra_list? If so then print the data types of each and every element present in both the variables, list_\n",
    "and arra_list."
   ]
  },
  {
   "cell_type": "code",
   "execution_count": 2,
   "id": "89101d0a-bf8e-4b7c-a820-89eab6849529",
   "metadata": {},
   "outputs": [],
   "source": [
    "import numpy as np\n",
    "list_ = ['1', '2', '3', '4', '5']\n",
    "array_list = np.array(object=list_)\n"
   ]
  },
  {
   "cell_type": "code",
   "execution_count": 3,
   "id": "d75d7414-38a1-4be3-8697-818ef7bec7a6",
   "metadata": {},
   "outputs": [],
   "source": [
    "array_list = np.array(object=list_, dtype=int)\n"
   ]
  },
  {
   "cell_type": "code",
   "execution_count": 4,
   "id": "deb270ea-1842-41fd-a779-26f27dc0445d",
   "metadata": {},
   "outputs": [
    {
     "name": "stdout",
     "output_type": "stream",
     "text": [
      "Data type of each element in list_:\n",
      "<class 'str'>\n",
      "<class 'str'>\n",
      "<class 'str'>\n",
      "<class 'str'>\n",
      "<class 'str'>\n",
      "\n",
      "Data type of each element in array_list:\n",
      "<class 'numpy.int64'>\n",
      "<class 'numpy.int64'>\n",
      "<class 'numpy.int64'>\n",
      "<class 'numpy.int64'>\n",
      "<class 'numpy.int64'>\n"
     ]
    }
   ],
   "source": [
    "import numpy as np\n",
    "\n",
    "list_ = ['1', '2', '3', '4', '5']\n",
    "array_list = np.array(object=list_, dtype=int)\n",
    "\n",
    "# Print the data type of each element in the list\n",
    "print(\"Data type of each element in list_:\")\n",
    "for element in list_:\n",
    "    print(type(element))\n",
    "\n",
    "# Print the data type of each element in the NumPy array (after dtype=int)\n",
    "print(\"\\nData type of each element in array_list:\")\n",
    "for element in array_list:\n",
    "    print(type(element))\n"
   ]
  },
  {
   "cell_type": "markdown",
   "id": "255e6053-aad1-4c50-a2e8-681d7f9f1735",
   "metadata": {},
   "source": [
    "# Consider the below code to answer further questions:\n",
    "- import numpy as np\n",
    "- num_list = [ [ 1 , 2 , 3 ] , [ 4 , 5 , 6 ] ]\n",
    "- num_array = np.array(object = num_list)"
   ]
  },
  {
   "cell_type": "markdown",
   "id": "4f8f03fd-0da4-43e5-b49d-bf93a615a885",
   "metadata": {},
   "source": [
    "# Q4. Write a code to find the following characteristics of variable, num_array:\n",
    "(i) shape\n",
    "(ii) size"
   ]
  },
  {
   "cell_type": "code",
   "execution_count": 5,
   "id": "70bd14c6-df4b-4870-85e7-40305bbc932e",
   "metadata": {},
   "outputs": [
    {
     "name": "stdout",
     "output_type": "stream",
     "text": [
      "Shape of num_array: (2, 3)\n",
      "Size of num_array: 6\n"
     ]
    }
   ],
   "source": [
    "import numpy as np\n",
    "\n",
    "num_list = [[1, 2, 3], [4, 5, 6]]\n",
    "num_array = np.array(object=num_list)\n",
    "\n",
    "# Find characteristics of num_array\n",
    "shape_of_array = num_array.shape\n",
    "size_of_array = num_array.size\n",
    "\n",
    "# Print the results\n",
    "print(\"Shape of num_array:\", shape_of_array)\n",
    "print(\"Size of num_array:\", size_of_array)\n"
   ]
  },
  {
   "cell_type": "markdown",
   "id": "f21d835a-bc45-4b17-8733-61560783630e",
   "metadata": {},
   "source": [
    "# Q5. Write a code to create numpy array of 3*3 matrix containing zeros only, using a numpy array creation function.\n",
    "[Hint: The size of the array will be 9 and the shape will be (3,3)."
   ]
  },
  {
   "cell_type": "code",
   "execution_count": 6,
   "id": "0b3897a9-2d80-4896-a504-959577bc11e8",
   "metadata": {},
   "outputs": [
    {
     "name": "stdout",
     "output_type": "stream",
     "text": [
      "3x3 Matrix of Zeros:\n",
      "[[0. 0. 0.]\n",
      " [0. 0. 0.]\n",
      " [0. 0. 0.]]\n"
     ]
    }
   ],
   "source": [
    "import numpy as np\n",
    "\n",
    "# Create a numpy array of zeros with shape (3, 3)\n",
    "zero_matrix = np.zeros((3, 3))\n",
    "\n",
    "# Print the zero matrix\n",
    "print(\"3x3 Matrix of Zeros:\")\n",
    "print(zero_matrix)\n"
   ]
  },
  {
   "cell_type": "markdown",
   "id": "73c17f98-88e9-42dd-b8b8-6c2e819b3fa5",
   "metadata": {},
   "source": [
    "# Q6. Create an identity matrix of shape (5,5) using numpy functions?\n",
    "[Hint: An identity matrix is a matrix containing 1 diagonally and other elements will be 0.]"
   ]
  },
  {
   "cell_type": "code",
   "execution_count": 7,
   "id": "de82f8a4-e6dc-4e8c-8724-955db3a5d0c6",
   "metadata": {},
   "outputs": [
    {
     "name": "stdout",
     "output_type": "stream",
     "text": [
      "Identity Matrix of Shape (5, 5):\n",
      "[[1. 0. 0. 0. 0.]\n",
      " [0. 1. 0. 0. 0.]\n",
      " [0. 0. 1. 0. 0.]\n",
      " [0. 0. 0. 1. 0.]\n",
      " [0. 0. 0. 0. 1.]]\n"
     ]
    }
   ],
   "source": [
    "import numpy as np\n",
    "\n",
    "# Create an identity matrix of shape (5, 5)\n",
    "identity_matrix = np.eye(5)\n",
    "\n",
    "# Print the identity matrix\n",
    "print(\"Identity Matrix of Shape (5, 5):\")\n",
    "print(identity_matrix)\n"
   ]
  },
  {
   "cell_type": "code",
   "execution_count": null,
   "id": "cc7de59a-2d19-4075-a035-a19d7af28abf",
   "metadata": {},
   "outputs": [],
   "source": []
  }
 ],
 "metadata": {
  "kernelspec": {
   "display_name": "Python 3 (ipykernel)",
   "language": "python",
   "name": "python3"
  },
  "language_info": {
   "codemirror_mode": {
    "name": "ipython",
    "version": 3
   },
   "file_extension": ".py",
   "mimetype": "text/x-python",
   "name": "python",
   "nbconvert_exporter": "python",
   "pygments_lexer": "ipython3",
   "version": "3.10.8"
  }
 },
 "nbformat": 4,
 "nbformat_minor": 5
}
