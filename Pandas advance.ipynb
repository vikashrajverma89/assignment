{
 "cells": [
  {
   "cell_type": "markdown",
   "id": "c24ac96b-014a-43b0-a464-ceb898631034",
   "metadata": {},
   "source": [
    "# Q1. List any five functions of the pandas library with execution."
   ]
  },
  {
   "cell_type": "markdown",
   "id": "9ac8419e-0800-4b7b-9a16-4e766ff8b322",
   "metadata": {},
   "source": [
    "Certainly! Here are five functions from the Pandas library along with their execution in a sample code:\n",
    "\n",
    "read_csv():\n",
    "\n",
    "Function to read a CSV file into a DataFrame."
   ]
  },
  {
   "cell_type": "code",
   "execution_count": 3,
   "id": "6ae168ec-6714-465b-b3cc-3ed4390a042c",
   "metadata": {},
   "outputs": [
    {
     "name": "stdout",
     "output_type": "stream",
     "text": [
      "     PassengerId  Survived  Pclass  \\\n",
      "0            892         0       3   \n",
      "1            893         1       3   \n",
      "2            894         0       2   \n",
      "3            895         0       3   \n",
      "4            896         1       3   \n",
      "..           ...       ...     ...   \n",
      "413         1305         0       3   \n",
      "414         1306         1       1   \n",
      "415         1307         0       3   \n",
      "416         1308         0       3   \n",
      "417         1309         0       3   \n",
      "\n",
      "                                             Name     Sex   Age  SibSp  Parch  \\\n",
      "0                                Kelly, Mr. James    male  34.5      0      0   \n",
      "1                Wilkes, Mrs. James (Ellen Needs)  female  47.0      1      0   \n",
      "2                       Myles, Mr. Thomas Francis    male  62.0      0      0   \n",
      "3                                Wirz, Mr. Albert    male  27.0      0      0   \n",
      "4    Hirvonen, Mrs. Alexander (Helga E Lindqvist)  female  22.0      1      1   \n",
      "..                                            ...     ...   ...    ...    ...   \n",
      "413                            Spector, Mr. Woolf    male   NaN      0      0   \n",
      "414                  Oliva y Ocana, Dona. Fermina  female  39.0      0      0   \n",
      "415                  Saether, Mr. Simon Sivertsen    male  38.5      0      0   \n",
      "416                           Ware, Mr. Frederick    male   NaN      0      0   \n",
      "417                      Peter, Master. Michael J    male   NaN      1      1   \n",
      "\n",
      "                 Ticket      Fare Cabin Embarked  \n",
      "0                330911    7.8292   NaN        Q  \n",
      "1                363272    7.0000   NaN        S  \n",
      "2                240276    9.6875   NaN        Q  \n",
      "3                315154    8.6625   NaN        S  \n",
      "4               3101298   12.2875   NaN        S  \n",
      "..                  ...       ...   ...      ...  \n",
      "413           A.5. 3236    8.0500   NaN        S  \n",
      "414            PC 17758  108.9000  C105        C  \n",
      "415  SOTON/O.Q. 3101262    7.2500   NaN        S  \n",
      "416              359309    8.0500   NaN        S  \n",
      "417                2668   22.3583   NaN        C  \n",
      "\n",
      "[418 rows x 12 columns]\n"
     ]
    }
   ],
   "source": [
    "import pandas as pd\n",
    "\n",
    "# Reading a CSV file into a DataFrame\n",
    "df = pd.read_csv('titanic.csv')\n",
    "\n",
    "# Displaying the DataFrame\n",
    "print(df)\n"
   ]
  },
  {
   "cell_type": "markdown",
   "id": "f20ff0f7-04f2-4048-ae67-4bba0abe7725",
   "metadata": {},
   "source": [
    "head():\n",
    "\n",
    "Returns the first N rows of a DataFrame."
   ]
  },
  {
   "cell_type": "code",
   "execution_count": 4,
   "id": "d4ec5e52-5c1b-46c6-96db-69c3c246f872",
   "metadata": {},
   "outputs": [
    {
     "name": "stdout",
     "output_type": "stream",
     "text": [
      "    Name  Age  Gender\n",
      "0  Alice   25  Female\n",
      "1    Bob   30    Male\n"
     ]
    }
   ],
   "source": [
    "import pandas as pd\n",
    "\n",
    "# Creating a DataFrame\n",
    "data = {'Name': ['Alice', 'Bob', 'Claire'], 'Age': [25, 30, 27], 'Gender': ['Female', 'Male', 'Female']}\n",
    "df = pd.DataFrame(data)\n",
    "\n",
    "# Displaying the first 2 rows of the DataFrame\n",
    "print(df.head(2))\n"
   ]
  },
  {
   "cell_type": "markdown",
   "id": "e2d2c014-96d6-4496-9e27-bcd9a65e1f34",
   "metadata": {},
   "source": [
    "info():\n",
    "\n",
    "Provides a concise summary of a DataFrame, including data types and missing values"
   ]
  },
  {
   "cell_type": "code",
   "execution_count": 6,
   "id": "5e37f852-ec38-4972-9a38-b67eb1d0e694",
   "metadata": {},
   "outputs": [
    {
     "name": "stdout",
     "output_type": "stream",
     "text": [
      "<class 'pandas.core.frame.DataFrame'>\n",
      "RangeIndex: 3 entries, 0 to 2\n",
      "Data columns (total 3 columns):\n",
      " #   Column  Non-Null Count  Dtype \n",
      "---  ------  --------------  ----- \n",
      " 0   Name    3 non-null      object\n",
      " 1   Age     3 non-null      int64 \n",
      " 2   Gender  3 non-null      object\n",
      "dtypes: int64(1), object(2)\n",
      "memory usage: 200.0+ bytes\n",
      "None\n"
     ]
    }
   ],
   "source": [
    "import pandas as pd\n",
    "\n",
    "# Creating a DataFrame\n",
    "data = {'Name': ['Alice', 'Bob', 'Claire'], 'Age': [25, 30, 27], 'Gender': ['Female', 'Male', 'Female']}\n",
    "df = pd.DataFrame(data)\n",
    "\n",
    "# Displaying information about the DataFrame\n",
    "print(df.info())\n"
   ]
  },
  {
   "cell_type": "markdown",
   "id": "7c9dc5ef-238d-414e-93f4-0ff1d01451a6",
   "metadata": {},
   "source": [
    "groupby():\n",
    "\n",
    "Groups rows based on a specified column and allows for aggregation"
   ]
  },
  {
   "cell_type": "code",
   "execution_count": 7,
   "id": "10d17375-87b7-4e51-bea5-8b9f26810442",
   "metadata": {},
   "outputs": [
    {
     "name": "stdout",
     "output_type": "stream",
     "text": [
      "Gender\n",
      "Female    26.0\n",
      "Male      30.0\n",
      "Name: Age, dtype: float64\n"
     ]
    }
   ],
   "source": [
    "import pandas as pd\n",
    "\n",
    "# Creating a DataFrame\n",
    "data = {'Name': ['Alice', 'Bob', 'Claire'], 'Age': [25, 30, 27], 'Gender': ['Female', 'Male', 'Female']}\n",
    "df = pd.DataFrame(data)\n",
    "\n",
    "# Grouping by 'Gender' and calculating the mean age\n",
    "group_by_gender = df.groupby('Gender')['Age'].mean()\n",
    "print(group_by_gender)\n"
   ]
  },
  {
   "cell_type": "markdown",
   "id": "b3523005-e706-4b0c-b326-6b9a1385d5c0",
   "metadata": {},
   "source": [
    "describe():\n",
    "\n",
    "Generates descriptive statistics of a DataFrame, including measures of central tendency and variability."
   ]
  },
  {
   "cell_type": "code",
   "execution_count": 8,
   "id": "ef04aa0e-d0cd-498b-9625-e82eab799477",
   "metadata": {},
   "outputs": [
    {
     "name": "stdout",
     "output_type": "stream",
     "text": [
      "             Age\n",
      "count   3.000000\n",
      "mean   27.333333\n",
      "std     2.516611\n",
      "min    25.000000\n",
      "25%    26.000000\n",
      "50%    27.000000\n",
      "75%    28.500000\n",
      "max    30.000000\n"
     ]
    }
   ],
   "source": [
    "import pandas as pd\n",
    "\n",
    "# Creating a DataFrame\n",
    "data = {'Name': ['Alice', 'Bob', 'Claire'], 'Age': [25, 30, 27], 'Gender': ['Female', 'Male', 'Female']}\n",
    "df = pd.DataFrame(data)\n",
    "\n",
    "# Displaying descriptive statistics of the DataFrame\n",
    "print(df.describe())\n"
   ]
  },
  {
   "cell_type": "markdown",
   "id": "c12f6fc3-01f6-4c3a-9a8f-413d80a1ed3c",
   "metadata": {},
   "source": [
    "# These are just a few examples, and Pandas offers many more functions for data manipulation, analysis, and exploration.\n",
    "\n",
    "\n",
    "\n",
    "\n"
   ]
  },
  {
   "cell_type": "markdown",
   "id": "5f9da4a6-13dc-4c96-b3d0-e8160246f1d7",
   "metadata": {},
   "source": [
    "# Q2. Given a Pandas DataFrame df with columns 'A', 'B', and 'C', write a Python function to re-index the DataFrame with a new index that starts from 1 and increments by 2 for each row."
   ]
  },
  {
   "cell_type": "code",
   "execution_count": 12,
   "id": "c2fb7044-b0cf-414f-bc36-ed6b97c015a0",
   "metadata": {},
   "outputs": [
    {
     "name": "stdout",
     "output_type": "stream",
     "text": [
      "Original DataFrame:\n",
      "    A   B   C\n",
      "0  10  40  70\n",
      "1  20  50  80\n",
      "2  30  60  90\n",
      "\n",
      "DataFrame after re-indexing:\n",
      "    A   B   C\n",
      "1  10  40  70\n",
      "3  20  50  80\n",
      "5  30  60  90\n"
     ]
    }
   ],
   "source": [
    "#Certainly! You can use the index attribute of the DataFrame to re-index it with a new index. Here's a Python function that re-indexes a DataFrame with a new index starting from 1 and incrementing by 2 for each row:\n",
    "\n",
    "\n",
    "import pandas as pd\n",
    "\n",
    "def reindex_dataframe(df):\n",
    "    # Create a new index starting from 1 and incrementing by 2\n",
    "    new_index = range(1, len(df)*2, 2)\n",
    "\n",
    "    # Re-index the DataFrame\n",
    "    df_reindexed = df.set_index(pd.Index(new_index))\n",
    "\n",
    "    return df_reindexed\n",
    "\n",
    "# Example DataFrame\n",
    "data = {'A': [10, 20, 30], 'B': [40, 50, 60], 'C': [70, 80, 90]}\n",
    "df = pd.DataFrame(data)\n",
    "\n",
    "# Display the original DataFrame\n",
    "print(\"Original DataFrame:\")\n",
    "print(df)\n",
    "\n",
    "# Re-index the DataFrame using the function\n",
    "df_reindexed = reindex_dataframe(df)\n",
    "\n",
    "# Display the DataFrame after re-indexing\n",
    "print(\"\\nDataFrame after re-indexing:\")\n",
    "print(df_reindexed)"
   ]
  },
  {
   "cell_type": "markdown",
   "id": "88247cee-4e9f-4a62-b4e9-bd76cd7d6dc7",
   "metadata": {},
   "source": [
    "# Q3. You have a Pandas DataFrame df with a column named 'Values'. Write a Python function that iterates over the DataFrame and calculates the sum of the first three values in the 'Values' column. The function should print the sum to the console."
   ]
  },
  {
   "cell_type": "code",
   "execution_count": 15,
   "id": "0e248274-a401-464c-ba01-321b2abbbd24",
   "metadata": {},
   "outputs": [
    {
     "name": "stdout",
     "output_type": "stream",
     "text": [
      "Sum of the first three values in 'Values' column: 60\n"
     ]
    }
   ],
   "source": [
    "import pandas as pd\n",
    "\n",
    "def calculate_sum_of_first_three(df):\n",
    "    # Check if 'Values' column exists in the DataFrame\n",
    "    if 'Values' in df.columns:\n",
    "        # Extract the first three values from the 'Values' column\n",
    "        first_three_values = df['Values'].head(3)\n",
    "\n",
    "        # Calculate the sum of the first three values\n",
    "        sum_of_first_three = first_three_values.sum()\n",
    "\n",
    "        # Print the sum to the console\n",
    "        print(\"Sum of the first three values in 'Values' column:\", sum_of_first_three)\n",
    "    else:\n",
    "        print(\"Error: 'Values' column not found in the DataFrame.\")\n",
    "\n",
    "# Example DataFrame\n",
    "data = {'Values': [10, 20, 30, 40, 50]}\n",
    "df = pd.DataFrame(data)\n",
    "\n",
    "# Call the function to calculate the sum of the first three values\n",
    "calculate_sum_of_first_three(df)\n"
   ]
  },
  {
   "cell_type": "markdown",
   "id": "e9bd57a0-bcd4-4c1c-9f93-dd1d4d1b9488",
   "metadata": {},
   "source": [
    "# Q4. Given a Pandas DataFrame df with a column 'Text', write a Python function to create a new column 'Word_Count' that contains the number of words in each row of the 'Text' column."
   ]
  },
  {
   "cell_type": "code",
   "execution_count": 16,
   "id": "e18e4c35-e806-460a-a2aa-c9d6576d5538",
   "metadata": {},
   "outputs": [
    {
     "name": "stdout",
     "output_type": "stream",
     "text": [
      "Original DataFrame:\n",
      "                         Text\n",
      "0  This is a sample sentence.\n",
      "1   Count words in this text.\n",
      "2            Another example.\n",
      "                         Text  Word_Count\n",
      "0  This is a sample sentence.           5\n",
      "1   Count words in this text.           5\n",
      "2            Another example.           2\n"
     ]
    }
   ],
   "source": [
    "import pandas as pd\n",
    "\n",
    "def add_word_count_column(df):\n",
    "    # Check if 'Text' column exists in the DataFrame\n",
    "    if 'Text' in df.columns:\n",
    "        # Apply a lambda function to count words in each row and create 'Word_Count' column\n",
    "        df['Word_Count'] = df['Text'].apply(lambda x: len(str(x).split()))\n",
    "\n",
    "        # Print the DataFrame with the new 'Word_Count' column\n",
    "        print(df)\n",
    "    else:\n",
    "        print(\"Error: 'Text' column not found in the DataFrame.\")\n",
    "\n",
    "# Example DataFrame\n",
    "data = {'Text': [\"This is a sample sentence.\", \"Count words in this text.\", \"Another example.\"]}\n",
    "df = pd.DataFrame(data)\n",
    "\n",
    "# Display the original DataFrame\n",
    "print(\"Original DataFrame:\")\n",
    "print(df)\n",
    "\n",
    "# Call the function to add the 'Word_Count' column\n",
    "add_word_count_column(df)\n"
   ]
  },
  {
   "cell_type": "markdown",
   "id": "be111b26-cb25-4bbd-a279-fe28cb3cb67a",
   "metadata": {},
   "source": [
    "# Q5. How are DataFrame.size() and DataFrame.shape() different?"
   ]
  },
  {
   "cell_type": "markdown",
   "id": "6b8b73f3-8374-4ca0-abd5-f23a1eb8dfb5",
   "metadata": {},
   "source": [
    "The methods DataFrame.size and DataFrame.shape in Pandas serve different purposes:\n",
    "\n",
    "DataFrame.size:\n",
    "\n",
    "The DataFrame.size attribute returns the total number of elements in the DataFrame.\n",
    "It calculates the size by multiplying the number of rows by the number of columns.\n",
    "The result is a single integer representing the total number of elements in the DataFrame.\n",
    "\n"
   ]
  },
  {
   "cell_type": "code",
   "execution_count": 17,
   "id": "0a35b095-aa07-45d6-bdee-18d23f103d16",
   "metadata": {},
   "outputs": [
    {
     "name": "stdout",
     "output_type": "stream",
     "text": [
      "DataFrame size: 6\n"
     ]
    }
   ],
   "source": [
    "import pandas as pd\n",
    "\n",
    "# Creating a DataFrame\n",
    "data = {'A': [1, 2, 3], 'B': [4, 5, 6]}\n",
    "df = pd.DataFrame(data)\n",
    "\n",
    "# Displaying the size of the DataFrame\n",
    "print(\"DataFrame size:\", df.size)\n"
   ]
  },
  {
   "cell_type": "markdown",
   "id": "24c72c7e-2b19-4bb9-a297-3272557d44b9",
   "metadata": {},
   "source": [
    "DataFrame.shape:\n",
    "\n",
    "The DataFrame.shape attribute returns a tuple representing the dimensions of the DataFrame.\n",
    "It provides information about the number of rows and columns in the DataFrame.\n",
    "The result is a tuple in the format (number_of_rows, number_of_columns).\n",
    "Example:"
   ]
  },
  {
   "cell_type": "code",
   "execution_count": 18,
   "id": "35dd6796-176a-4017-8343-47b829b2c23e",
   "metadata": {},
   "outputs": [
    {
     "name": "stdout",
     "output_type": "stream",
     "text": [
      "DataFrame shape: (3, 2)\n"
     ]
    }
   ],
   "source": [
    "import pandas as pd\n",
    "\n",
    "# Creating a DataFrame\n",
    "data = {'A': [1, 2, 3], 'B': [4, 5, 6]}\n",
    "df = pd.DataFrame(data)\n",
    "\n",
    "# Displaying the shape of the DataFrame\n",
    "print(\"DataFrame shape:\", df.shape)\n"
   ]
  },
  {
   "cell_type": "markdown",
   "id": "66c2373e-056b-4c7f-b76c-3b2d7abfc055",
   "metadata": {},
   "source": [
    "In summary, DataFrame.size provides the total number of elements in the DataFrame, while DataFrame.shape provides a tuple representing the dimensions (number of rows and columns) of the DataFrame.\n",
    "\n",
    "\n",
    "2 / 2\n",
    "\n",
    "\n",
    "\n",
    "\n"
   ]
  },
  {
   "cell_type": "markdown",
   "id": "1518cf2f-15bb-48f2-a47b-4b21a3b2929c",
   "metadata": {},
   "source": [
    "# Q6. Which function of pandas do we use to read an excel file?"
   ]
  },
  {
   "cell_type": "markdown",
   "id": "f013914d-6dd0-44f6-8953-d6bd90e11906",
   "metadata": {},
   "source": [
    "In Pandas, the function used to read an Excel file is pd.read_excel(). This function is part of the Pandas library and is specifically designed to read data from Excel files and create a DataFrame.\n",
    "\n",
    "Here's a simple example of how to use pd.read_excel():\n",
    "\n",
    "import pandas as pd\n",
    "\n",
    "# Provide the path to the Excel file\n",
    "excel_file_path = 'path/to/your/excel/file.xlsx'\n",
    "\n",
    "# Use pd.read_excel() to read the Excel file into a DataFrame\n",
    "df = pd.read_excel(excel_file_path)\n",
    "\n",
    "# Display the DataFrame\n",
    "print(df)\n"
   ]
  },
  {
   "cell_type": "markdown",
   "id": "fab32901-fc3c-4823-963e-bad0107f27e3",
   "metadata": {},
   "source": [
    "# Q7. You have a Pandas DataFrame df that contains a column named 'Email' that contains email addresses in the format 'username@domain.com'. Write a Python function that creates a new column 'Username' in df that contains only the username part of each email address. The username is the part of the email address that appears before the '@' symbol. For example, if the email address is 'john.doe@example.com', the 'Username' column should contain 'john.doe'. Your  function should extract the username from each email address and store it in the new 'Username' column."
   ]
  },
  {
   "cell_type": "markdown",
   "id": "eae80326-f30f-456b-b6ec-6981f2d2c085",
   "metadata": {},
   "source": [
    "\n",
    "Certainly! You can use the str.split() function along with the str.get() function to extract the username from each email address and create a new 'Username' column. Here's a Python function to achieve this:"
   ]
  },
  {
   "cell_type": "code",
   "execution_count": 19,
   "id": "655f4cb0-8d22-4b12-a627-3e9c67290ef5",
   "metadata": {},
   "outputs": [
    {
     "name": "stdout",
     "output_type": "stream",
     "text": [
      "Original DataFrame:\n",
      "                     Email\n",
      "0     john.doe@example.com\n",
      "1  alice.smith@example.com\n",
      "2    bob.jones@example.com\n",
      "                     Email     Username\n",
      "0     john.doe@example.com     john.doe\n",
      "1  alice.smith@example.com  alice.smith\n",
      "2    bob.jones@example.com    bob.jones\n"
     ]
    }
   ],
   "source": [
    "import pandas as pd\n",
    "\n",
    "def extract_username_from_email(df):\n",
    "    # Check if 'Email' column exists in the DataFrame\n",
    "    if 'Email' in df.columns:\n",
    "        # Extract the username from each email address and create 'Username' column\n",
    "        df['Username'] = df['Email'].str.split('@').str.get(0)\n",
    "\n",
    "        # Print the DataFrame with the new 'Username' column\n",
    "        print(df)\n",
    "    else:\n",
    "        print(\"Error: 'Email' column not found in the DataFrame.\")\n",
    "\n",
    "# Example DataFrame\n",
    "data = {'Email': ['john.doe@example.com', 'alice.smith@example.com', 'bob.jones@example.com']}\n",
    "df = pd.DataFrame(data)\n",
    "\n",
    "# Display the original DataFrame\n",
    "print(\"Original DataFrame:\")\n",
    "print(df)\n",
    "\n",
    "# Call the function to add the 'Username' column\n",
    "extract_username_from_email(df)\n"
   ]
  },
  {
   "cell_type": "markdown",
   "id": "f8b2a397-7796-46a4-8707-c333c428cf23",
   "metadata": {},
   "source": [
    "# Q8. You have a Pandas DataFrame df with columns 'A', 'B', and 'C'. Write a Python function that selects\n",
    "all rows where the value in column 'A' is greater than 5 and the value in column 'B' is less than 10. The\n",
    "function should return a new DataFrame that contains only the selected rows.\n",
    "For example, if df contains the following values:\n",
    "A B C\n",
    "0 3 5 1\n",
    "1 8 2 7\n",
    "2 6 9 4\n",
    "3 2 3 5\n",
    "4 9 1 2"
   ]
  },
  {
   "cell_type": "code",
   "execution_count": 20,
   "id": "c81deb74-541d-427b-94d9-a2bd06382bbf",
   "metadata": {},
   "outputs": [
    {
     "name": "stdout",
     "output_type": "stream",
     "text": [
      "Original DataFrame:\n",
      "   A  B  C\n",
      "0  3  5  1\n",
      "1  8  2  7\n",
      "2  6  9  4\n",
      "3  2  3  5\n",
      "4  9  1  2\n",
      "\n",
      "DataFrame with selected rows:\n",
      "   A  B  C\n",
      "1  8  2  7\n",
      "2  6  9  4\n",
      "4  9  1  2\n"
     ]
    }
   ],
   "source": [
    "import pandas as pd\n",
    "\n",
    "def select_rows_based_on_conditions(df):\n",
    "    # Check if columns 'A' and 'B' exist in the DataFrame\n",
    "    if 'A' in df.columns and 'B' in df.columns:\n",
    "        # Use boolean indexing to select rows based on conditions\n",
    "        selected_rows = df[(df['A'] > 5) & (df['B'] < 10)]\n",
    "\n",
    "        # Return the new DataFrame with selected rows\n",
    "        return selected_rows\n",
    "    else:\n",
    "        print(\"Error: Columns 'A' and 'B' not found in the DataFrame.\")\n",
    "        return pd.DataFrame()  # Return an empty DataFrame if columns are not found\n",
    "\n",
    "# Example DataFrame\n",
    "data = {'A': [3, 8, 6, 2, 9],\n",
    "        'B': [5, 2, 9, 3, 1],\n",
    "        'C': [1, 7, 4, 5, 2]}\n",
    "df = pd.DataFrame(data)\n",
    "\n",
    "# Display the original DataFrame\n",
    "print(\"Original DataFrame:\")\n",
    "print(df)\n",
    "\n",
    "# Call the function to select rows based on conditions\n",
    "selected_df = select_rows_based_on_conditions(df)\n",
    "\n",
    "# Display the new DataFrame with selected rows\n",
    "print(\"\\nDataFrame with selected rows:\")\n",
    "print(selected_df)\n"
   ]
  },
  {
   "cell_type": "code",
   "execution_count": null,
   "id": "d50bea47-e7ea-415f-9cef-2d2a07490464",
   "metadata": {},
   "outputs": [],
   "source": []
  }
 ],
 "metadata": {
  "kernelspec": {
   "display_name": "Python 3 (ipykernel)",
   "language": "python",
   "name": "python3"
  },
  "language_info": {
   "codemirror_mode": {
    "name": "ipython",
    "version": 3
   },
   "file_extension": ".py",
   "mimetype": "text/x-python",
   "name": "python",
   "nbconvert_exporter": "python",
   "pygments_lexer": "ipython3",
   "version": "3.10.8"
  }
 },
 "nbformat": 4,
 "nbformat_minor": 5
}
