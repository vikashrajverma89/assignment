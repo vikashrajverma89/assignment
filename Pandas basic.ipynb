{
 "cells": [
  {
   "cell_type": "markdown",
   "id": "1c797675-758d-44d6-9856-4becdb8909de",
   "metadata": {},
   "source": [
    "# Q1. Create a Pandas Series that contains the following data: 4, 8, 15, 16, 23, and 42. Then, print the series."
   ]
  },
  {
   "cell_type": "code",
   "execution_count": 1,
   "id": "3a36cd2c-aba6-4019-99ba-ae019a3ee801",
   "metadata": {},
   "outputs": [
    {
     "name": "stdout",
     "output_type": "stream",
     "text": [
      "0     4\n",
      "1     8\n",
      "2    15\n",
      "3    16\n",
      "4    23\n",
      "5    42\n",
      "dtype: int64\n"
     ]
    }
   ],
   "source": [
    "import pandas as pd\n",
    "\n",
    "# Create a Pandas Series\n",
    "data = [4, 8, 15, 16, 23, 42]\n",
    "my_series = pd.Series(data)\n",
    "\n",
    "# Print the Series\n",
    "print(my_series)\n"
   ]
  },
  {
   "cell_type": "markdown",
   "id": "588c3649-3f6a-409a-8bdf-4ceb1986ad45",
   "metadata": {},
   "source": [
    "# Q2. Create a variable of list type containing 10 elements in it, and apply pandas.Series function on the variable print it."
   ]
  },
  {
   "cell_type": "code",
   "execution_count": 3,
   "id": "12dfa56a-f694-4228-b6eb-346c850554ee",
   "metadata": {},
   "outputs": [
    {
     "name": "stdout",
     "output_type": "stream",
     "text": [
      "0     1\n",
      "1     2\n",
      "2     3\n",
      "3     4\n",
      "4     5\n",
      "5     6\n",
      "6     7\n",
      "7     8\n",
      "8     9\n",
      "9    10\n",
      "dtype: int64\n"
     ]
    }
   ],
   "source": [
    "import pandas as pd\n",
    "\n",
    "# Create a list with 10 elements\n",
    "data = [1, 2, 3, 4, 5, 6, 7, 8, 9, 10]\n",
    "\n",
    "# Convert the list to a Pandas Series\n",
    "my_series = pd.Series(data)\n",
    "\n",
    "# Print the Series\n",
    "print(my_series)\n"
   ]
  },
  {
   "cell_type": "markdown",
   "id": "86f180da-2737-406a-9a35-0c53753630ee",
   "metadata": {},
   "source": [
    "#Q3. Create a Pandas DataFrame that contains the following data:\n",
    "\n",
    "Name\n",
    "Alice\n",
    "Bob\n",
    "Claire\n",
    "\n",
    "Age\n",
    "25\n",
    "30\n",
    "27\n",
    "\n",
    "Gender\n",
    "Female\n",
    "Male\n",
    "Female\n",
    "\n",
    "Then, print the DataFrame."
   ]
  },
  {
   "cell_type": "code",
   "execution_count": 5,
   "id": "4dd0ca64-911a-45ff-bd8f-586e2fd4b4c0",
   "metadata": {},
   "outputs": [
    {
     "name": "stdout",
     "output_type": "stream",
     "text": [
      "     Name  Age  Gender\n",
      "0   Alice   25  Female\n",
      "1     Bob   30    Male\n",
      "2  Claire   27  Female\n"
     ]
    }
   ],
   "source": [
    "import pandas as pd\n",
    "\n",
    "# Given data\n",
    "data = {\n",
    "    'Name': ['Alice', 'Bob', 'Claire'],\n",
    "    'Age': [25, 30, 27],\n",
    "    'Gender': ['Female', 'Male', 'Female']\n",
    "}\n",
    "\n",
    "# Create a Pandas DataFrame\n",
    "df = pd.DataFrame(data)\n",
    "\n",
    "# Print the DataFrame\n",
    "print(df)\n"
   ]
  },
  {
   "cell_type": "markdown",
   "id": "f6faa841-4d47-4b3f-97d6-5ed471d65cba",
   "metadata": {},
   "source": [
    "# Q4. What is ‘DataFrame’ in pandas and how is it different from pandas.series? Explain with an example."
   ]
  },
  {
   "cell_type": "markdown",
   "id": "7bc35bb7-efb5-4adc-b3e0-18685b9b4d64",
   "metadata": {},
   "source": [
    "\n",
    "In Pandas, a DataFrame is a two-dimensional, tabular data structure with labeled axes (rows and columns). It is a primary data structure used for data manipulation and analysis. A DataFrame can be thought of as a container for Pandas Series. Each column in a DataFrame is essentially a Pandas Series, and the DataFrame provides a structure to organize and work with multiple Series together.\n",
    "\n",
    "Here's a brief explanation of both DataFrame and Series:\n",
    "\n",
    "DataFrame:\n",
    "\n",
    "A DataFrame is a 2D data structure with rows and columns.\n",
    "It can be created using various data sources, such as lists, dictionaries, NumPy arrays, or by reading data from files like CSV, Excel, SQL databases, etc.\n",
    "Columns in a DataFrame can have different data types.\n",
    "It is suitable for representing structured, tabular data, often resembling a spreadsheet or a SQL table.\n",
    "Allows easy manipulation, filtering, and analysis of data.\n",
    "Series:\n",
    "\n",
    "A Series is a 1D labeled array capable of holding any data type.\n",
    "It can be created using lists, NumPy arrays, or other data structures.\n",
    "A Series has a single index associated with its values, which makes it different from a NumPy array.\n",
    "It is useful for representing a single column or row of data.\n",
    "Provides vectorized operations, similar to NumPy arrays.\n",
    "Now, let's illustrate the difference with an example:"
   ]
  },
  {
   "cell_type": "code",
   "execution_count": 6,
   "id": "c4bc244b-561c-4499-842c-6a7f8b107b3a",
   "metadata": {},
   "outputs": [
    {
     "name": "stdout",
     "output_type": "stream",
     "text": [
      "Pandas Series:\n",
      "0    10\n",
      "1    20\n",
      "2    30\n",
      "3    40\n",
      "Name: MySeries, dtype: int64\n",
      "\n",
      "Pandas DataFrame:\n",
      "     Name  Age  Gender\n",
      "0   Alice   25  Female\n",
      "1     Bob   30    Male\n",
      "2  Claire   27  Female\n"
     ]
    }
   ],
   "source": [
    "import pandas as pd\n",
    "\n",
    "# Creating a Pandas Series\n",
    "series_data = pd.Series([10, 20, 30, 40], name='MySeries')\n",
    "\n",
    "# Creating a Pandas DataFrame\n",
    "df_data = pd.DataFrame({\n",
    "    'Name': ['Alice', 'Bob', 'Claire'],\n",
    "    'Age': [25, 30, 27],\n",
    "    'Gender': ['Female', 'Male', 'Female']\n",
    "})\n",
    "\n",
    "# Printing the Series and DataFrame\n",
    "print(\"Pandas Series:\")\n",
    "print(series_data)\n",
    "print(\"\\nPandas DataFrame:\")\n",
    "print(df_data)\n"
   ]
  },
  {
   "cell_type": "markdown",
   "id": "d22ed2e5-f47c-4e2e-bc0d-777e39c0df7a",
   "metadata": {},
   "source": [
    "# Q5. What are some common functions you can use to manipulate data in a Pandas DataFrame? Can you give an example of when you might use one of these functions?"
   ]
  },
  {
   "cell_type": "markdown",
   "id": "dc083d70-a2c5-4711-a712-fd11ae741295",
   "metadata": {},
   "source": [
    "Pandas provides a wide range of functions for manipulating data in a DataFrame. Here are some common functions along with examples:\n",
    "\n",
    "1. **`head()` and `tail()`:**\n",
    "   - Display the first or last N rows of the DataFrame.\n",
    "   ```python\n",
    "   df.head(3)  # Display the first 3 rows\n",
    "   df.tail(2)  # Display the last 2 rows\n",
    "   ```\n",
    "\n",
    "2. **`info()`:**\n",
    "   - Display a concise summary of the DataFrame, including data types and missing values.\n",
    "   ```python\n",
    "   df.info()\n",
    "   ```\n",
    "\n",
    "3. **`describe()`:**\n",
    "   - Generate descriptive statistics, including measures of central tendency and variability.\n",
    "   ```python\n",
    "   df.describe()\n",
    "   ```\n",
    "\n",
    "4. **`shape`:**\n",
    "   - Return a tuple representing the dimensionality of the DataFrame.\n",
    "   ```python\n",
    "   df.shape  # Output: (rows, columns)\n",
    "   ```\n",
    "\n",
    "5. **`columns`:**\n",
    "   - Return the column labels of the DataFrame.\n",
    "   ```python\n",
    "   df.columns  # Output: Index(['Name', 'Age', 'Gender'], dtype='object')\n",
    "   ```\n",
    "\n",
    "6. **`loc[]` and `iloc[]`:**\n",
    "   - Access a group of rows and columns by labels (`loc[]`) or integer location (`iloc[]`).\n",
    "   ```python\n",
    "   df.loc[0, 'Name']  # Access the value in the first row and 'Name' column\n",
    "   df.iloc[1, 2]  # Access the value in the second row and third column\n",
    "   ```\n",
    "\n",
    "7. **`sort_values()`:**\n",
    "   - Sort the DataFrame by specified column(s).\n",
    "   ```python\n",
    "   df.sort_values(by='Age', ascending=False)\n",
    "   ```\n",
    "\n",
    "8. **`groupby()`:**\n",
    "   - Group rows by a specified column and perform aggregation.\n",
    "   ```python\n",
    "   df.groupby('Gender')['Age'].mean()  # Calculate the mean age for each gender\n",
    "   ```\n",
    "\n",
    "9. **`drop()`:**\n",
    "   - Drop specified labels from rows or columns.\n",
    "   ```python\n",
    "   df.drop(0, axis=0)  # Drop the first row\n",
    "   ```\n",
    "\n",
    "10. **`apply()`:**\n",
    "    - Apply a function along the axis of the DataFrame.\n",
    "    ```python\n",
    "    df['Age'] = df['Age'].apply(lambda x: x + 1)  # Increment each age by 1\n",
    "    ```\n",
    "\n",
    "These are just a few examples, and Pandas offers many more functions for data manipulation. The choice of function depends on the specific task you want to perform, such as filtering data, handling missing values, merging DataFrames, and more."
   ]
  },
  {
   "cell_type": "markdown",
   "id": "2f6d5efc-09e7-45e6-849d-90e28ef2ec3b",
   "metadata": {},
   "source": [
    "# Q6. Which of the following is mutable in nature Series, DataFrame, Panel?"
   ]
  },
  {
   "cell_type": "markdown",
   "id": "0fa01e22-6f6a-4501-bbef-0fcc51c6bf7c",
   "metadata": {},
   "source": [
    "\n",
    "In Pandas, both Series and DataFrame are mutable, while Panel is deprecated and not recommended for use in recent versions of Pandas.\n",
    "\n",
    "Series:\n",
    "\n",
    "A Pandas Series is mutable, meaning you can modify its elements, change its size, and perform various operations on it.\n",
    "Example:"
   ]
  },
  {
   "cell_type": "code",
   "execution_count": 7,
   "id": "7dd30574-3b56-4d6f-8440-a6ca400bb8a5",
   "metadata": {},
   "outputs": [],
   "source": [
    "import pandas as pd\n",
    "\n",
    "series_data = pd.Series([10, 20, 30])\n",
    "series_data[1] = 25  # Modifying an element\n"
   ]
  },
  {
   "cell_type": "markdown",
   "id": "d0095aa0-e854-4635-b84a-f334b7cd8887",
   "metadata": {},
   "source": [
    "DataFrame:\n",
    "\n",
    "A Pandas DataFrame is also mutable. You can modify values in specific cells, add or remove columns, and perform various operations on the DataFrame.\n",
    "Example:"
   ]
  },
  {
   "cell_type": "code",
   "execution_count": 9,
   "id": "43799b69-33a6-40f3-9577-44260a25d43c",
   "metadata": {},
   "outputs": [
    {
     "name": "stderr",
     "output_type": "stream",
     "text": [
      "/tmp/ipykernel_2773/664458859.py:5: SettingWithCopyWarning: \n",
      "A value is trying to be set on a copy of a slice from a DataFrame\n",
      "\n",
      "See the caveats in the documentation: https://pandas.pydata.org/pandas-docs/stable/user_guide/indexing.html#returning-a-view-versus-a-copy\n",
      "  df['Age'][1] = 32  # Modifying a value in the DataFrame\n"
     ]
    }
   ],
   "source": [
    "import pandas as pd\n",
    "\n",
    "data = {'Name': ['Alice', 'Bob'], 'Age': [25, 30]}\n",
    "df = pd.DataFrame(data)\n",
    "df['Age'][1] = 32  # Modifying a value in the DataFrame\n"
   ]
  },
  {
   "cell_type": "markdown",
   "id": "f640fb4a-8fb1-4088-83d5-dd0a5f183c2d",
   "metadata": {},
   "source": [
    "Panel:\n",
    "\n",
    "The Panel data structure was deprecated in Pandas, and its usage is discouraged. As of Pandas version 0.25.0, the Panel class is no longer actively developed or supported. Instead, multi-index DataFrames are recommended for handling three-dimensional data.\n",
    "Example (deprecated):"
   ]
  },
  {
   "cell_type": "code",
   "execution_count": null,
   "id": "31632cec-2191-46ab-bdaa-8a21d316f1e7",
   "metadata": {},
   "outputs": [],
   "source": [
    "import pandas as pd\n",
    "\n",
    "# Creating a Panel (deprecated)\n",
    "panel_data = pd.Panel({'Item1': df1, 'Item2': df2})\n"
   ]
  },
  {
   "cell_type": "markdown",
   "id": "5af48bd0-c088-41df-a2a0-752d22c935a7",
   "metadata": {},
   "source": [
    "For current and future projects, it is recommended to use Series and DataFrame for handling one-dimensional and two-dimensional data, respectively. If you need to work with three-dimensional data, multi-index DataFrames provide a more flexible and widely supported solution."
   ]
  },
  {
   "cell_type": "markdown",
   "id": "63611ed9-acc0-4e47-ac98-0e5115fabf32",
   "metadata": {},
   "source": [
    "# Q7. Create a DataFrame using multiple Series. Explain with an example."
   ]
  },
  {
   "cell_type": "markdown",
   "id": "553a5659-d753-431f-b760-a9c21fca86ac",
   "metadata": {},
   "source": [
    "You can create a DataFrame using multiple Series by combining them into a dictionary and then converting that dictionary to a DataFrame. Each Series will represent a column in the DataFrame. Here's an example:"
   ]
  },
  {
   "cell_type": "code",
   "execution_count": 11,
   "id": "faf489ab-da0d-4b83-8a35-66bd0841f897",
   "metadata": {},
   "outputs": [
    {
     "name": "stdout",
     "output_type": "stream",
     "text": [
      "     Name  Age  Gender\n",
      "0   Alice   25  Female\n",
      "1     Bob   30    Male\n",
      "2  Claire   27  Female\n"
     ]
    }
   ],
   "source": [
    "import pandas as pd\n",
    "\n",
    "# Creating multiple Pandas Series\n",
    "names = pd.Series(['Alice', 'Bob', 'Claire'])\n",
    "ages = pd.Series([25, 30, 27])\n",
    "genders = pd.Series(['Female', 'Male', 'Female'])\n",
    "\n",
    "# Combining the Series into a dictionary\n",
    "data = {'Name': names, 'Age': ages, 'Gender': genders}\n",
    "\n",
    "# Creating a Pandas DataFrame from the dictionary\n",
    "df = pd.DataFrame(data)\n",
    "\n",
    "# Display the resulting DataFrame\n",
    "print(df)\n"
   ]
  },
  {
   "cell_type": "markdown",
   "id": "a9cf46d9-1df9-4ffe-90d8-f7aee747fe7d",
   "metadata": {},
   "source": [
    "In this example, three Pandas Series (names, ages, and genders) are created. These Series represent columns of the DataFrame. The data dictionary is then created, where each key-value pair corresponds to a column name and its associated Series. Finally, the pd.DataFrame() constructor is used to create the DataFrame (df) from the dictionary.\n",
    "\n",
    "This way, you can easily create a DataFrame from multiple Series, and each Series becomes a column in the resulting DataFrame."
   ]
  },
  {
   "cell_type": "code",
   "execution_count": null,
   "id": "dfbd2ef5-93ec-4372-acc3-8c442894f68e",
   "metadata": {},
   "outputs": [],
   "source": []
  }
 ],
 "metadata": {
  "kernelspec": {
   "display_name": "Python 3 (ipykernel)",
   "language": "python",
   "name": "python3"
  },
  "language_info": {
   "codemirror_mode": {
    "name": "ipython",
    "version": 3
   },
   "file_extension": ".py",
   "mimetype": "text/x-python",
   "name": "python",
   "nbconvert_exporter": "python",
   "pygments_lexer": "ipython3",
   "version": "3.10.8"
  }
 },
 "nbformat": 4,
 "nbformat_minor": 5
}
