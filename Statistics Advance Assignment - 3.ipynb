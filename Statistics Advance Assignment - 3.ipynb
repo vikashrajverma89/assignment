{
 "cells": [
  {
   "cell_type": "markdown",
   "id": "2bec9a6b-bfbe-45bd-bc77-4282e8935d8c",
   "metadata": {},
   "source": [
    "## Q1: What is Estimation Statistics? Explain point estimate and interval estimate."
   ]
  },
  {
   "cell_type": "markdown",
   "id": "25895aad-1269-4330-896a-c38d9b3ea292",
   "metadata": {},
   "source": [
    "**Estimation Statistics:**\n",
    "\n",
    "Estimation statistics is a branch of statistics that deals with estimating population parameters based on sample data. It involves making inferences or predictions about population characteristics using information obtained from a sample.\n",
    "\n",
    "**Point Estimate:**\n",
    "\n",
    "A point estimate is a single value that serves as the best guess or estimate of a population parameter. It is calculated using sample data and provides an approximation of the true population parameter. Point estimates are often used when a single value is sufficient for decision-making or analysis.\n",
    "\n",
    "For example, if we want to estimate the average height of students in a school, we might calculate the sample mean height and use it as the point estimate of the population mean height.\n",
    "\n",
    "**Interval Estimate:**\n",
    "\n",
    "An interval estimate, also known as a confidence interval, is a range of values within which the true population parameter is likely to fall. Unlike a point estimate, which provides only a single value, an interval estimate provides a range of values along with a level of confidence associated with the estimate.\n",
    "\n",
    "Interval estimates are calculated by specifying a confidence level (e.g., 95% confidence) and using statistical methods to determine the upper and lower bounds of the confidence interval based on sample data.\n",
    "\n",
    "For example, if we want to estimate the average weight of newborn babies born in a hospital, we might calculate a 95% confidence interval for the population mean weight. This interval would provide a range of values within which we are 95% confident that the true population mean weight lies.\n",
    "\n",
    "**Key Differences:**\n",
    "\n",
    "1. **Nature:**\n",
    "   - Point Estimate: Provides a single value.\n",
    "   - Interval Estimate: Provides a range of values.\n",
    "\n",
    "2. **Certainty:**\n",
    "   - Point Estimate: Does not provide information about the uncertainty associated with the estimate.\n",
    "   - Interval Estimate: Provides information about the uncertainty associated with the estimate through the confidence level.\n",
    "\n",
    "3. **Usage:**\n",
    "   - Point Estimate: Often used when a single value is sufficient for decision-making or analysis.\n",
    "   - Interval Estimate: Used when a range of values is needed to account for uncertainty and variability in the data.\n",
    "\n",
    "In summary, estimation statistics involves estimating population parameters from sample data. Point estimates provide single-value approximations, while interval estimates provide ranges of values along with a level of confidence. Both types of estimates play important roles in statistical inference and decision-making."
   ]
  },
  {
   "cell_type": "markdown",
   "id": "d87afee5-bac4-4085-8528-9092b63d03b4",
   "metadata": {},
   "source": [
    "## Q2. Write a Python function to estimate the population mean using a sample mean and standard deviation."
   ]
  },
  {
   "cell_type": "code",
   "execution_count": 2,
   "id": "968bf751-e42a-44b6-af0a-74993a6c1223",
   "metadata": {},
   "outputs": [
    {
     "name": "stdout",
     "output_type": "stream",
     "text": [
      "Estimated Population Mean: 25.60\n",
      "95% Confidence Interval: (24.10, 27.10)\n"
     ]
    }
   ],
   "source": [
    "import math\n",
    "from scipy.stats import norm\n",
    "\n",
    "def estimate_population_mean(sample_mean, sample_std, sample_size, confidence_level=0.95):\n",
    "    \"\"\"\n",
    "    Estimate the population mean using a sample mean, standard deviation, and sample size.\n",
    "\n",
    "    Parameters:\n",
    "    - sample_mean: The mean of the sample.\n",
    "    - sample_std: The standard deviation of the sample.\n",
    "    - sample_size: The size of the sample.\n",
    "    - confidence_level: The desired confidence level for the estimate (default is 0.95).\n",
    "\n",
    "    Returns:\n",
    "    - Tuple containing the lower and upper bounds of the confidence interval.\n",
    "    \"\"\"\n",
    "\n",
    "    # Calculate the margin of error\n",
    "    margin_of_error = sample_std / math.sqrt(sample_size)\n",
    "\n",
    "    # Determine the critical value based on the confidence level (assuming a two-tailed interval)\n",
    "    z_critical = norm.ppf((1 + confidence_level) / 2)\n",
    "\n",
    "    # Calculate the lower and upper bounds of the confidence interval\n",
    "    lower_bound = sample_mean - z_critical * margin_of_error\n",
    "    upper_bound = sample_mean + z_critical * margin_of_error\n",
    "\n",
    "    return lower_bound, upper_bound\n",
    "\n",
    "# Example usage:\n",
    "sample_mean = 25.6\n",
    "sample_std = 4.2\n",
    "sample_size = 30\n",
    "confidence_level = 0.95\n",
    "\n",
    "confidence_interval = estimate_population_mean(sample_mean, sample_std, sample_size, confidence_level)\n",
    "print(f\"Estimated Population Mean: {sample_mean:.2f}\")\n",
    "print(f\"95% Confidence Interval: ({confidence_interval[0]:.2f}, {confidence_interval[1]:.2f})\")\n"
   ]
  },
  {
   "cell_type": "markdown",
   "id": "9276b7b0-b355-4cdc-ae61-e8cd8c5b51ae",
   "metadata": {},
   "source": [
    "## Q3: What is Hypothesis testing? Why is it used? State the importance of Hypothesis testing."
   ]
  },
  {
   "cell_type": "markdown",
   "id": "f9a9a038-39c7-460d-94c4-68058e527762",
   "metadata": {},
   "source": [
    "**Hypothesis Testing:**\n",
    "\n",
    "Hypothesis testing is a statistical method used to make inferences or draw conclusions about a population based on a sample of data. It involves formulating a hypothesis about a population parameter, collecting and analyzing data, and making decisions about the validity of the hypothesis.\n",
    "\n",
    "The process typically involves two competing hypotheses:\n",
    "\n",
    "1. **Null Hypothesis (\\(H_0\\)):** This hypothesis generally represents a default or status quo assumption. It often states that there is no effect, no difference, or no relationship in the population.\n",
    "\n",
    "2. **Alternative Hypothesis (\\(H_1\\) or \\(H_a\\)):** This hypothesis contradicts the null hypothesis. It suggests that there is a significant effect, difference, or relationship in the population.\n",
    "\n",
    "The goal of hypothesis testing is to assess the evidence provided by the sample data and decide whether to reject the null hypothesis in favor of the alternative hypothesis.\n",
    "\n",
    "**Steps in Hypothesis Testing:**\n",
    "\n",
    "1. **Formulate Hypotheses:**\n",
    "   - State the null hypothesis (\\(H_0\\)) and the alternative hypothesis (\\(H_1\\)).\n",
    "\n",
    "2. **Collect Data:**\n",
    "   - Collect and analyze a sample of data.\n",
    "\n",
    "3. **Test Statistic Calculation:**\n",
    "   - Calculate a test statistic based on the sample data. This statistic is used to assess the evidence against the null hypothesis.\n",
    "\n",
    "4. **Decision Rule:**\n",
    "   - Determine a critical region or a p-value threshold. If the test statistic falls in the critical region or if the p-value is below the threshold, the null hypothesis is rejected.\n",
    "\n",
    "5. **Make a Decision:**\n",
    "   - Based on the test statistic and the decision rule, decide whether to reject the null hypothesis in favor of the alternative hypothesis or fail to reject the null hypothesis.\n",
    "\n",
    "**Importance of Hypothesis Testing:**\n",
    "\n",
    "1. **Scientific Inquiry:**\n",
    "   - Hypothesis testing is fundamental to the scientific method. It allows researchers to systematically evaluate hypotheses and make evidence-based conclusions about the population.\n",
    "\n",
    "2. **Decision-Making in Business and Industry:**\n",
    "   - Businesses use hypothesis testing to make decisions about product improvements, marketing strategies, and process optimizations. It aids in data-driven decision-making.\n",
    "\n",
    "3. **Medical and Pharmaceutical Research:**\n",
    "   - Hypothesis testing is crucial in medical and pharmaceutical research to assess the effectiveness of treatments, medications, and interventions.\n",
    "\n",
    "4. **Quality Control and Process Improvement:**\n",
    "   - Industries use hypothesis testing to monitor and improve processes, ensuring quality control and efficiency.\n",
    "\n",
    "5. **Public Policy and Social Sciences:**\n",
    "   - Hypothesis testing is applied in public policy research and social sciences to analyze the impact of interventions, policies, and social programs.\n",
    "\n",
    "6. **Legal System:**\n",
    "   - Hypothesis testing is used in legal settings to evaluate evidence, assess guilt or innocence, and make decisions in court cases.\n",
    "\n",
    "7. **Education and Psychology:**\n",
    "   - Educational researchers and psychologists use hypothesis testing to study the effectiveness of educational interventions and psychological treatments.\n",
    "\n",
    "In summary, hypothesis testing is a fundamental tool in statistics that enables researchers and decision-makers to draw conclusions based on data. It is widely used across various disciplines to inform decisions, make predictions, and contribute to scientific understanding."
   ]
  },
  {
   "cell_type": "markdown",
   "id": "509e44c6-2f80-4fa1-9df2-ad8bac0fd851",
   "metadata": {},
   "source": [
    "## Q4. Create a hypothesis that states whether the average weight of male college students is greater than the average weight of female college students."
   ]
  },
  {
   "cell_type": "markdown",
   "id": "94bea9f3-cfb9-447b-ab38-7f43f1c9d488",
   "metadata": {},
   "source": [
    "**Null Hypothesis (\\(H_0\\)):**\n",
    "The average weight of male college students is equal to or less than the average weight of female college students.\n",
    "\n",
    "\\[ H_0: \\mu_{\\text{male}} \\leq \\mu_{\\text{female}} \\]\n",
    "\n",
    "**Alternative Hypothesis (\\(H_1\\) or \\(H_a\\)):**\n",
    "The average weight of male college students is greater than the average weight of female college students.\n",
    "\n",
    "\\[ H_1: \\mu_{\\text{male}} > \\mu_{\\text{female}} \\]\n",
    "\n",
    "Here,\n",
    "- \\( \\mu_{\\text{male}} \\) represents the population mean weight of male college students.\n",
    "- \\( \\mu_{\\text{female}} \\) represents the population mean weight of female college students.\n",
    "\n",
    "In this hypothesis, we are testing whether there is evidence to suggest that, on average, male college students weigh more than female college students. This is a one-tailed hypothesis test, specifically a right-tailed test, as we are interested in the possibility of the average weight of males being greater than females. The null hypothesis assumes no difference or that males weigh equal to or less than females. The alternative hypothesis suggests a directional difference, stating that males weigh more than females."
   ]
  },
  {
   "cell_type": "markdown",
   "id": "2771e3a9-d731-4aca-8e7e-aaf1fd219889",
   "metadata": {},
   "source": [
    "## Q5. Write a Python script to conduct a hypothesis test on the difference between two population means, given a sample from each population."
   ]
  },
  {
   "cell_type": "code",
   "execution_count": 3,
   "id": "4138bf76-256b-4737-b3cf-3a6822be58eb",
   "metadata": {},
   "outputs": [
    {
     "name": "stdout",
     "output_type": "stream",
     "text": [
      "Test Statistic: -6.1761\n",
      "P-Value: 0.0000\n",
      "Reject Null Hypothesis: True\n"
     ]
    }
   ],
   "source": [
    "from scipy import stats\n",
    "\n",
    "def two_sample_t_test(sample1, sample2, alpha=0.05, alternative='two-sided'):\n",
    "    \"\"\"\n",
    "    Conducts a two-sample t-test for the difference between means.\n",
    "\n",
    "    Parameters:\n",
    "    - sample1: The first sample.\n",
    "    - sample2: The second sample.\n",
    "    - alpha: The significance level (default is 0.05).\n",
    "    - alternative: The alternative hypothesis, which can be 'two-sided', 'greater', or 'less' (default is 'two-sided').\n",
    "\n",
    "    Returns:\n",
    "    - Tuple containing the test statistic and p-value.\n",
    "    \"\"\"\n",
    "\n",
    "    # Perform two-sample t-test\n",
    "    t_statistic, p_value = stats.ttest_ind(sample1, sample2)\n",
    "\n",
    "    # Check the alternative hypothesis and adjust the p-value accordingly\n",
    "    if alternative == 'two-sided':\n",
    "        p_value *= 2\n",
    "    elif alternative == 'greater':\n",
    "        p_value /= 2\n",
    "        t_statistic = -t_statistic  # Adjust the sign for a one-sided test\n",
    "\n",
    "    # Check if the p-value is less than the significance level\n",
    "    reject_null = p_value < alpha\n",
    "\n",
    "    return t_statistic, p_value, reject_null\n",
    "\n",
    "# Example usage:\n",
    "# Replace sample1 and sample2 with your actual sample data\n",
    "sample1 = [73, 74, 76, 77, 75, 78, 72, 76, 74, 76]\n",
    "sample2 = [68, 71, 70, 73, 69, 72, 67, 70, 68, 71]\n",
    "\n",
    "alpha = 0.05\n",
    "alternative = 'greater'  # Use 'two-sided' for a two-sided test\n",
    "\n",
    "t_stat, p_val, reject_null = two_sample_t_test(sample1, sample2, alpha, alternative)\n",
    "\n",
    "print(f\"Test Statistic: {t_stat:.4f}\")\n",
    "print(f\"P-Value: {p_val:.4f}\")\n",
    "print(f\"Reject Null Hypothesis: {reject_null}\")\n"
   ]
  },
  {
   "cell_type": "markdown",
   "id": "56f48df2-b380-42f0-8731-b2d65557706d",
   "metadata": {},
   "source": [
    "## Q6: What is a null and alternative hypothesis? Give some examples."
   ]
  },
  {
   "cell_type": "markdown",
   "id": "623eded1-be03-4085-85b2-a3821bd11c4b",
   "metadata": {},
   "source": [
    "**Null Hypothesis (\\(H_0\\)):**\n",
    "The null hypothesis is a statement that there is no significant difference or effect, often representing a default or status quo assumption. It is denoted by \\(H_0\\). In hypothesis testing, the null hypothesis is what we test against to determine if there is enough evidence to reject it.\n",
    "\n",
    "**Alternative Hypothesis (\\(H_1\\) or \\(H_a\\)):**\n",
    "The alternative hypothesis is a statement that contradicts the null hypothesis. It represents the researcher's claim or the presence of a significant difference, effect, or relationship. It is denoted by \\(H_1\\) or \\(H_a\\).\n",
    "\n",
    "Here are some examples to illustrate the concepts:\n",
    "\n",
    "1. **Example: Mean Height**\n",
    "   - **Null Hypothesis (\\(H_0\\)):** The mean height of a population is 65 inches.\n",
    "   - **Alternative Hypothesis (\\(H_1\\)):** The mean height of the population is not equal to 65 inches.\n",
    "\n",
    "   This is a two-sided test where the alternative hypothesis suggests that the mean height is different from 65 inches.\n",
    "\n",
    "2. **Example: Drug Efficacy**\n",
    "   - **Null Hypothesis (\\(H_0\\)):** The new drug has no effect on blood pressure.\n",
    "   - **Alternative Hypothesis (\\(H_1\\)):** The new drug significantly reduces blood pressure.\n",
    "\n",
    "   This is a one-sided test where the alternative hypothesis suggests a specific direction of effect (reduction in blood pressure).\n",
    "\n",
    "3. **Example: Gender Ratio**\n",
    "   - **Null Hypothesis (\\(H_0\\)):** The gender ratio in a given population is 1:1 (equal numbers of males and females).\n",
    "   - **Alternative Hypothesis (\\(H_1\\)):** The gender ratio in the population is not equal to 1:1.\n",
    "\n",
    "   This is a two-sided test, as the alternative hypothesis does not specify whether there are more males or females.\n",
    "\n",
    "4. **Example: Website Conversion Rate**\n",
    "   - **Null Hypothesis (\\(H_0\\)):** The conversion rate of a website is less than or equal to 5%.\n",
    "   - **Alternative Hypothesis (\\(H_1\\)):** The conversion rate of the website is greater than 5%.\n",
    "\n",
    "   This is a one-sided test where the alternative hypothesis suggests an increase in the conversion rate.\n",
    "\n",
    "5. **Example: Educational Intervention**\n",
    "   - **Null Hypothesis (\\(H_0\\)):** The average test scores with and without an educational intervention are the same.\n",
    "   - **Alternative Hypothesis (\\(H_1\\)):** The average test scores with the educational intervention are higher than without.\n",
    "\n",
    "   This is a one-sided test indicating that the educational intervention is expected to have a positive effect on test scores.\n",
    "\n",
    "In each example, the null hypothesis represents a statement of no effect or no difference, while the alternative hypothesis represents a statement of a significant effect or difference. The goal of hypothesis testing is to evaluate the evidence from sample data and make a decision about whether to reject the null hypothesis in favor of the alternative hypothesis."
   ]
  },
  {
   "cell_type": "markdown",
   "id": "f631a467-c0d5-4601-accc-2ae13e80e1eb",
   "metadata": {},
   "source": [
    "## Q7: Write down the steps involved in hypothesis testing."
   ]
  },
  {
   "cell_type": "markdown",
   "id": "0c99c294-a447-4462-a75b-d9a9037bcca9",
   "metadata": {},
   "source": [
    "Hypothesis testing involves a systematic process to make inferences about a population based on sample data. Here are the general steps involved in hypothesis testing:\n",
    "\n",
    "1. **Formulate Hypotheses:**\n",
    "   - State the null hypothesis (\\(H_0\\)) and the alternative hypothesis (\\(H_1\\) or \\(H_a\\)). The null hypothesis typically represents a default or status quo assumption, while the alternative hypothesis represents the claim or the presence of an effect, difference, or relationship.\n",
    "\n",
    "2. **Choose Significance Level (\\(\\alpha\\)):**\n",
    "   - Select a significance level (\\(\\alpha\\)), often set to 0.05. This represents the probability of rejecting the null hypothesis when it is true (Type I error).\n",
    "\n",
    "3. **Collect Data:**\n",
    "   - Collect and analyze a sample of data relevant to the hypothesis.\n",
    "\n",
    "4. **Choose the Appropriate Test:**\n",
    "   - Depending on the nature of the data and the hypothesis, choose the appropriate statistical test (e.g., t-test, z-test, chi-square test) and determine whether it is a one-tailed or two-tailed test.\n",
    "\n",
    "5. **Calculate Test Statistic:**\n",
    "   - Compute the test statistic based on the sample data. The test statistic measures how far the sample result is from what is expected under the null hypothesis.\n",
    "\n",
    "6. **Determine Critical Region or P-Value:**\n",
    "   - Determine the critical region in the distribution of the test statistic or calculate the p-value associated with the test statistic. The critical region is the set of values that would lead to the rejection of the null hypothesis.\n",
    "\n",
    "7. **Make a Decision:**\n",
    "   - Compare the test statistic to the critical values or compare the p-value to the significance level. If the test statistic falls in the critical region or if the p-value is less than \\(\\alpha\\), reject the null hypothesis. Otherwise, fail to reject the null hypothesis.\n",
    "\n",
    "8. **Draw Conclusion:**\n",
    "   - State the conclusion in the context of the problem. If the null hypothesis is rejected, it suggests evidence in favor of the alternative hypothesis. If the null hypothesis is not rejected, there is insufficient evidence to support the alternative hypothesis.\n",
    "\n",
    "9. **Consider Practical Significance:**\n",
    "   - Even if a hypothesis test indicates statistical significance, consider whether the observed effect is practically significant and relevant in the real-world context.\n",
    "\n",
    "10. **Report Results:**\n",
    "    - Clearly report the results of the hypothesis test, including the test statistic, p-value, and the decision regarding the null hypothesis. Provide context and interpretations relevant to the problem.\n",
    "\n",
    "These steps provide a structured approach to hypothesis testing, ensuring a systematic and logical process in drawing conclusions about population parameters based on sample data. It's essential to carefully consider the context of the problem, the nature of the data, and the appropriateness of the chosen statistical test during each step."
   ]
  },
  {
   "cell_type": "markdown",
   "id": "a72ff150-fe11-47c7-86c1-2e2d83d06494",
   "metadata": {},
   "source": [
    "## Q8. Define p-value and explain its significance in hypothesis testing."
   ]
  },
  {
   "cell_type": "markdown",
   "id": "ef438ab9-320c-4d2a-aa2f-d36eee91b2fc",
   "metadata": {},
   "source": [
    "**P-value Definition:**\n",
    "\n",
    "The p-value, or probability value, is a measure that helps assess the strength of evidence against a null hypothesis in hypothesis testing. It represents the probability of obtaining an observed result (or more extreme) if the null hypothesis is true. In other words, the p-value quantifies the likelihood of observing the data under the assumption that there is no effect or difference in the population.\n",
    "\n",
    "**Significance of P-value in Hypothesis Testing:**\n",
    "\n",
    "1. **Decision Rule:**\n",
    "   - The p-value is compared to the significance level (\\(\\alpha\\)) chosen for the test. The significance level is the threshold for rejecting the null hypothesis. If the p-value is less than or equal to \\(\\alpha\\), the null hypothesis is rejected. If the p-value is greater than \\(\\alpha\\), the null hypothesis is not rejected.\n",
    "\n",
    "2. **Strength of Evidence:**\n",
    "   - A smaller p-value indicates stronger evidence against the null hypothesis. The smaller the p-value, the less likely it is that the observed result occurred by random chance alone.\n",
    "\n",
    "3. **Interpretation:**\n",
    "   - If the p-value is very small (typically below 0.05), it suggests that the observed data is unlikely to have occurred if the null hypothesis is true. This leads to the rejection of the null hypothesis in favor of the alternative hypothesis.\n",
    "\n",
    "4. **Fail to Reject the Null Hypothesis:**\n",
    "   - If the p-value is relatively large, it suggests that the observed data is not surprising under the assumption of the null hypothesis. In such cases, there is insufficient evidence to reject the null hypothesis.\n",
    "\n",
    "5. **Two-Tailed and One-Tailed Tests:**\n",
    "   - For two-tailed tests, the p-value represents the probability of observing a result as extreme as the one obtained in either tail of the distribution. For one-tailed tests, the p-value is associated with only one tail of the distribution, depending on the direction specified in the alternative hypothesis.\n",
    "\n",
    "6. **Continuous Scale:**\n",
    "   - The p-value is a continuous scale ranging from 0 to 1. A p-value close to 1 suggests that the observed result is likely under the null hypothesis, while a p-value close to 0 suggests that the observed result is unlikely under the null hypothesis.\n",
    "\n",
    "7. **No Absolute Threshold:**\n",
    "   - There is no absolute threshold for a \"good\" or \"bad\" p-value. The interpretation depends on the chosen significance level, the context of the problem, and whether the result is practically significant.\n",
    "\n",
    "In summary, the p-value is a key metric in hypothesis testing that guides the decision-making process. It provides a quantitative measure of the evidence against the null hypothesis and helps determine whether the observed result is statistically significant. Researchers use the p-value in conjunction with the chosen significance level to make decisions about accepting or rejecting the null hypothesis."
   ]
  },
  {
   "cell_type": "markdown",
   "id": "24977b7e-7e90-47d4-aaf1-c83920e09cc2",
   "metadata": {},
   "source": [
    "## Q9. Generate a Student's t-distribution plot using Python's matplotlib library, with the degrees of freedom parameter set to 10."
   ]
  },
  {
   "cell_type": "code",
   "execution_count": 4,
   "id": "4abafac7-8b5f-4dd1-881f-b86202ca131d",
   "metadata": {},
   "outputs": [
    {
     "data": {
      "image/png": "[encoded data removed]",
      "text/plain": [
       "<Figure size 640x480 with 1 Axes>"
      ]
     },
     "metadata": {},
     "output_type": "display_data"
    }
   ],
   "source": [
    "import numpy as np\n",
    "import matplotlib.pyplot as plt\n",
    "from scipy.stats import t\n",
    "\n",
    "# Set the degrees of freedom\n",
    "degrees_of_freedom = 10\n",
    "\n",
    "# Generate values for the x-axis\n",
    "x_values = np.linspace(-4, 4, 1000)\n",
    "\n",
    "# Calculate the probability density function (PDF) for each x-value\n",
    "pdf_values = t.pdf(x_values, df=degrees_of_freedom)\n",
    "\n",
    "# Plot the t-distribution\n",
    "plt.plot(x_values, pdf_values, label=f\"t-distribution (df={degrees_of_freedom})\")\n",
    "plt.title(\"Student's t-Distribution\")\n",
    "plt.xlabel(\"X-axis\")\n",
    "plt.ylabel(\"Probability Density Function (PDF)\")\n",
    "plt.legend()\n",
    "plt.grid(True)\n",
    "plt.show()\n"
   ]
  },
  {
   "cell_type": "markdown",
   "id": "fd8e110f-6de6-485c-9584-2052ae2b2b1c",
   "metadata": {},
   "source": [
    "## Q10. Write a Python program to calculate the two-sample t-test for independent samples, given two random samples of equal size and a null hypothesis that the population means are equal."
   ]
  },
  {
   "cell_type": "code",
   "execution_count": 5,
   "id": "24910521-839c-4a42-adca-d96399828cb7",
   "metadata": {},
   "outputs": [
    {
     "name": "stdout",
     "output_type": "stream",
     "text": [
      "Test Statistic: 3.9020\n",
      "P-Value: 0.0010\n",
      "Reject Null Hypothesis: True\n"
     ]
    }
   ],
   "source": [
    "import numpy as np\n",
    "from scipy import stats\n",
    "\n",
    "def two_sample_t_test(sample1, sample2, alpha=0.05):\n",
    "    \"\"\"\n",
    "    Perform a two-sample t-test for independent samples.\n",
    "\n",
    "    Parameters:\n",
    "    - sample1: The first sample.\n",
    "    - sample2: The second sample.\n",
    "    - alpha: The significance level (default is 0.05).\n",
    "\n",
    "    Returns:\n",
    "    - Tuple containing the test statistic, p-value, and a boolean indicating whether to reject the null hypothesis.\n",
    "    \"\"\"\n",
    "\n",
    "    # Perform two-sample t-test\n",
    "    t_statistic, p_value = stats.ttest_ind(sample1, sample2)\n",
    "\n",
    "    # Check if the p-value is less than the significance level\n",
    "    reject_null = p_value < alpha\n",
    "\n",
    "    return t_statistic, p_value, reject_null\n",
    "\n",
    "# Example usage:\n",
    "# Replace sample1 and sample2 with your actual sample data\n",
    "sample1 = np.array([23, 25, 28, 30, 22, 26, 27, 29, 24, 28])\n",
    "sample2 = np.array([19, 21, 25, 20, 18, 23, 22, 24, 20, 25])\n",
    "\n",
    "alpha = 0.05\n",
    "\n",
    "t_stat, p_val, reject_null = two_sample_t_test(sample1, sample2, alpha)\n",
    "\n",
    "print(f\"Test Statistic: {t_stat:.4f}\")\n",
    "print(f\"P-Value: {p_val:.4f}\")\n",
    "print(f\"Reject Null Hypothesis: {reject_null}\")\n"
   ]
  },
  {
   "cell_type": "markdown",
   "id": "e3aa01c0-0cbc-4cc2-bea0-6c8e509a515c",
   "metadata": {},
   "source": [
    "## Q11: What is Student’s t distribution? When to use the t-Distribution."
   ]
  },
  {
   "cell_type": "markdown",
   "id": "833a6eb6-f48e-480a-aba7-d8ee1486323c",
   "metadata": {},
   "source": [
    "**Student's t-Distribution:**\n",
    "\n",
    "Student's t-distribution, often referred to as the t-distribution, is a probability distribution that is used in statistical hypothesis testing when the sample size is small, and the population standard deviation is unknown. It is named after William Sealy Gosset, who used the pseudonym \"Student\" when publishing his work.\n",
    "\n",
    "The t-distribution is similar to the standard normal distribution (z-distribution) but has heavier tails. As the sample size increases, the t-distribution approaches the normal distribution. The shape of the t-distribution is determined by the degrees of freedom (\\(df\\)), where higher degrees of freedom result in a distribution that is closer to the normal distribution.\n",
    "\n",
    "**When to Use the t-Distribution:**\n",
    "\n",
    "The t-distribution is used in several scenarios, especially when dealing with small sample sizes and unknown population standard deviations. Here are situations where the t-distribution is commonly employed:\n",
    "\n",
    "1. **Small Sample Sizes:**\n",
    "   - When the sample size is small (typically less than 30), the t-distribution is more appropriate than the normal distribution for making inferences about the population mean. This is because the t-distribution accounts for the increased uncertainty associated with small samples.\n",
    "\n",
    "2. **Unknown Population Standard Deviation:**\n",
    "   - When the population standard deviation is unknown, and it is estimated using the sample standard deviation, the t-distribution is used. The z-distribution requires the population standard deviation, which is often unknown in practice.\n",
    "\n",
    "3. **Hypothesis Testing for Means:**\n",
    "   - In hypothesis testing scenarios where the goal is to make inferences about the population mean based on a small sample, the t-distribution is commonly used. This includes situations like t-tests for means.\n",
    "\n",
    "4. **Confidence Intervals for Means:**\n",
    "   - When constructing confidence intervals for the population mean, especially with small sample sizes and unknown population standard deviation, the t-distribution is used to account for the additional uncertainty.\n",
    "\n",
    "5. **Quality Control and Process Monitoring:**\n",
    "   - In quality control applications and process monitoring, where sample sizes are limited, the t-distribution is often employed for statistical analysis.\n",
    "\n",
    "**Key Characteristics of the t-Distribution:**\n",
    "\n",
    "- **Symmetry:** The t-distribution is symmetric around its mean.\n",
    "- **Center:** The mean of the t-distribution is 0.\n",
    "- **Spread:** The spread of the distribution increases with decreasing degrees of freedom.\n",
    "- **Tail Heaviness:** As degrees of freedom increase, the tails of the distribution become lighter and approach the standard normal distribution.\n",
    "\n",
    "In summary, the t-distribution is a valuable tool in statistics for dealing with small sample sizes and situations where the population standard deviation is unknown. It provides a more realistic model for the distribution of sample means under these conditions and is commonly used in hypothesis testing and confidence interval construction."
   ]
  },
  {
   "cell_type": "markdown",
   "id": "49527ddc-fab1-4e19-a26f-8390882817ca",
   "metadata": {},
   "source": [
    "## Q12: What is t-statistic? State the formula for t-statistic."
   ]
  },
  {
   "cell_type": "markdown",
   "id": "2e4b9a5c-726b-420e-bf69-8ac56c739e87",
   "metadata": {},
   "source": [
    "**T-Statistic:**\n",
    "\n",
    "The t-statistic is a measure that quantifies how far a sample mean is from the hypothesized population mean in terms of the estimated standard error. It is often used in hypothesis testing to assess whether the observed difference between the sample mean and the population mean is statistically significant. The t-statistic is particularly useful when the sample size is small and the population standard deviation is unknown.\n",
    "\n",
    "**Formula for T-Statistic:**\n",
    "\n",
    "The formula for the t-statistic is given by:\n",
    "\n",
    "\\[ t = \\frac{\\bar{X} - \\mu}{s/\\sqrt{n}} \\]\n",
    "\n",
    "where:\n",
    "- \\( \\bar{X} \\) is the sample mean,\n",
    "- \\( \\mu \\) is the hypothesized population mean under the null hypothesis,\n",
    "- \\( s \\) is the sample standard deviation,\n",
    "- \\( n \\) is the sample size.\n",
    "\n",
    "The t-statistic is essentially a standardized measure that indicates how many standard errors the sample mean is away from the hypothesized population mean. It follows a t-distribution with \\(n-1\\) degrees of freedom.\n",
    "\n",
    "**Interpretation:**\n",
    "- If the absolute value of the t-statistic is large, it suggests that the observed sample mean is significantly different from the hypothesized population mean.\n",
    "- The sign of the t-statistic indicates the direction of the difference (whether the sample mean is greater or smaller than the hypothesized mean).\n",
    "\n",
    "In hypothesis testing, the t-statistic is used to compare against critical values from the t-distribution or to calculate the p-value, helping in the decision of whether to reject the null hypothesis."
   ]
  },
  {
   "cell_type": "markdown",
   "id": "e66a9044-eb54-49d1-8fba-1369836f2b5e",
   "metadata": {},
   "source": [
    "## Q13. A coffee shop owner wants to estimate the average daily revenue for their shop. They take a random sample of 50 days and find the sample mean revenue to be $500 with a standard deviation of $50. Estimate the population mean revenue with a 95% confidence interval."
   ]
  },
  {
   "cell_type": "markdown",
   "id": "43cbeb27-ebaa-47ea-b482-fd42c9e019db",
   "metadata": {},
   "source": [
    "To estimate the population mean revenue with a 95% confidence interval, you can use the formula for a confidence interval for the population mean (μμ):\n",
    "\n",
    "Confidence Interval=Xˉ±(t⋅sn)Confidence Interval=Xˉ±(n\n",
    "\n",
    "​t⋅s​)\n",
    "\n",
    "where:\n",
    "\n",
    "    XˉXˉ is the sample mean,\n",
    "    ss is the sample standard deviation,\n",
    "    nn is the sample size,\n",
    "    tt is the critical t-value for the desired confidence level.\n",
    "\n",
    "For a 95% confidence interval with 49 degrees of freedom (50 - 1), the critical t-value can be obtained from a t-table or using a statistical software. Let's assume a two-tailed test for this calculation."
   ]
  },
  {
   "cell_type": "code",
   "execution_count": 7,
   "id": "32a41dbc-6573-451f-8132-82ca99e5d0fd",
   "metadata": {},
   "outputs": [
    {
     "name": "stdout",
     "output_type": "stream",
     "text": [
      "95% Confidence Interval: ($485.79, $514.21)\n"
     ]
    }
   ],
   "source": [
    "import scipy.stats as stats\n",
    "import math\n",
    "\n",
    "# Given values\n",
    "sample_mean = 500\n",
    "sample_std = 50\n",
    "sample_size = 50\n",
    "confidence_level = 0.95\n",
    "\n",
    "# Calculate the critical t-value\n",
    "degrees_of_freedom = sample_size - 1\n",
    "t_value = stats.t.ppf((1 + confidence_level) / 2, df=degrees_of_freedom)\n",
    "\n",
    "# Calculate the margin of error\n",
    "margin_of_error = t_value * (sample_std / math.sqrt(sample_size))\n",
    "\n",
    "# Calculate the confidence interval\n",
    "lower_bound = sample_mean - margin_of_error\n",
    "upper_bound = sample_mean + margin_of_error\n",
    "\n",
    "# Print the results\n",
    "print(f\"95% Confidence Interval: (${lower_bound:.2f}, ${upper_bound:.2f})\")\n"
   ]
  },
  {
   "cell_type": "markdown",
   "id": "07abb000-b48b-4fad-b13a-76704ffdf8b8",
   "metadata": {},
   "source": [
    "## Q14. A researcher hypothesizes that a new drug will decrease blood pressure by 10 mmHg. They conduct a clinical trial with 100 patients and find that the sample mean decrease in blood pressure is 8 mmHg with a standard deviation of 3 mmHg. Test the hypothesis with a significance level of 0.05."
   ]
  },
  {
   "cell_type": "markdown",
   "id": "53d51723-bb36-47ce-89ac-844f496b19e6",
   "metadata": {},
   "source": [
    "To test the hypothesis that the new drug decreases blood pressure by 10 mmHg, you can perform a one-sample t-test. The null hypothesis (H0H0​) is that the mean decrease in blood pressure is equal to 10 mmHg, and the alternative hypothesis (H1H1​ or HaHa​) is that the mean decrease is not equal to 10 mmHg.\n",
    "\n",
    "The one-sample t-test formula is given by:\n",
    "\n",
    "t=Xˉ−μ0s/nt=s/n\n",
    "\n",
    "​Xˉ−μ0​​\n",
    "\n",
    "where:\n",
    "\n",
    "    XˉXˉ is the sample mean,\n",
    "    μ0μ0​ is the hypothesized population mean under the null hypothesis,\n",
    "    ss is the sample standard deviation,\n",
    "    nn is the sample size.\n",
    "\n",
    "The decision rule is to reject the null hypothesis if the absolute value of the calculated t-statistic is greater than the critical t-value for a two-tailed test with 99 degrees of freedom (100 - 1) and a significance level of 0.05."
   ]
  },
  {
   "cell_type": "code",
   "execution_count": 8,
   "id": "e8f76407-2f4e-4b06-bf24-965eeec38b1e",
   "metadata": {},
   "outputs": [
    {
     "name": "stdout",
     "output_type": "stream",
     "text": [
      "T-Statistic: -6.6667\n",
      "Critical T-Value: 1.9842\n",
      "Reject the null hypothesis\n"
     ]
    }
   ],
   "source": [
    "import scipy.stats as stats\n",
    "import math\n",
    "\n",
    "# Given values\n",
    "sample_mean = 8\n",
    "hypothesized_mean = 10\n",
    "sample_std = 3\n",
    "sample_size = 100\n",
    "significance_level = 0.05\n",
    "\n",
    "# Calculate the t-statistic\n",
    "t_statistic = (sample_mean - hypothesized_mean) / (sample_std / math.sqrt(sample_size))\n",
    "\n",
    "# Calculate the critical t-value for a two-tailed test\n",
    "degrees_of_freedom = sample_size - 1\n",
    "critical_t_value = stats.t.ppf(1 - significance_level / 2, df=degrees_of_freedom)\n",
    "\n",
    "# Print the results\n",
    "print(f\"T-Statistic: {t_statistic:.4f}\")\n",
    "print(f\"Critical T-Value: {critical_t_value:.4f}\")\n",
    "\n",
    "# Compare the t-statistic with the critical t-value\n",
    "if abs(t_statistic) > critical_t_value:\n",
    "    print(\"Reject the null hypothesis\")\n",
    "else:\n",
    "    print(\"Fail to reject the null hypothesis\")\n"
   ]
  },
  {
   "cell_type": "markdown",
   "id": "8d3bec55-4068-4acf-9dcc-9e0f69d1ae6b",
   "metadata": {},
   "source": [
    "## Q15. An electronics company produces a certain type of product with a mean weight of 5 pounds and a standard deviation of 0.5 pounds. A random sample of 25 products is taken, and the sample mean weight is found to be 4.8 pounds. Test the hypothesis that the true mean weight of the products is less than 5 pounds with a significance level of 0.01."
   ]
  },
  {
   "cell_type": "markdown",
   "id": "dfe5424d-0cd2-46eb-ab20-1377956cb0e2",
   "metadata": {},
   "source": [
    "To test the hypothesis that the true mean weight of the products is less than 5 pounds, you can perform a one-sample t-test for a one-tailed test. The null hypothesis (H0H0​) is that the mean weight is equal to or greater than 5 pounds, and the alternative hypothesis (H1H1​ or HaHa​) is that the mean weight is less than 5 pounds.\n",
    "\n",
    "The one-sample t-test formula for a one-tailed test is given by:\n",
    "\n",
    "t=Xˉ−μ0s/nt=s/n\n",
    "\n",
    "​Xˉ−μ0​​\n",
    "\n",
    "where:\n",
    "\n",
    "    XˉXˉ is the sample mean,\n",
    "    μ0μ0​ is the hypothesized population mean under the null hypothesis,\n",
    "    ss is the sample standard deviation,\n",
    "    nn is the sample size.\n",
    "\n",
    "The decision rule is to reject the null hypothesis if the calculated t-statistic is less than the critical t-value for a one-tailed test with 24 degrees of freedom (25 - 1) and a significance level of 0.01"
   ]
  },
  {
   "cell_type": "code",
   "execution_count": 10,
   "id": "e7157849-1a42-43f3-998d-79e9cea89c08",
   "metadata": {},
   "outputs": [
    {
     "name": "stdout",
     "output_type": "stream",
     "text": [
      "T-Statistic: -2.0000\n",
      "Critical T-Value: -2.4922\n",
      "Fail to reject the null hypothesis\n"
     ]
    }
   ],
   "source": [
    "import scipy.stats as stats\n",
    "import math\n",
    "\n",
    "# Given values\n",
    "sample_mean = 4.8\n",
    "hypothesized_mean = 5\n",
    "sample_std = 0.5\n",
    "sample_size = 25\n",
    "significance_level = 0.01\n",
    "\n",
    "# Calculate the t-statistic\n",
    "t_statistic = (sample_mean - hypothesized_mean) / (sample_std / math.sqrt(sample_size))\n",
    "\n",
    "# Calculate the critical t-value for a one-tailed test\n",
    "degrees_of_freedom = sample_size - 1\n",
    "critical_t_value = stats.t.ppf(significance_level, df=degrees_of_freedom)\n",
    "\n",
    "# Print the results\n",
    "print(f\"T-Statistic: {t_statistic:.4f}\")\n",
    "print(f\"Critical T-Value: {critical_t_value:.4f}\")\n",
    "\n",
    "# Compare the t-statistic with the critical t-value\n",
    "if t_statistic < critical_t_value:\n",
    "    print(\"Reject the null hypothesis\")\n",
    "else:\n",
    "    print(\"Fail to reject the null hypothesis\")\n"
   ]
  },
  {
   "cell_type": "markdown",
   "id": "b861a697-0012-455f-a3e0-e1714c34319d",
   "metadata": {},
   "source": [
    "## Q16. Two groups of students are given different study materials to prepare for a test. The first group (n1 =30) has a mean score of 80 with a standard deviation of 10, and the second group (n2 = 40) has a meanscore of 75 with a standard deviation of 8. Test the hypothesis that the population means for the two groups are equal with a significance level of 0.01."
   ]
  },
  {
   "cell_type": "markdown",
   "id": "7223d80c-d5c9-4913-9c43-02552e8df5aa",
   "metadata": {},
   "source": [
    "To test the hypothesis that the population means for the two groups are equal, you can perform a two-sample t-test for independent samples. The null hypothesis (H0H0​) is that the means are equal, and the alternative hypothesis (H1H1​ or HaHa​) is that the means are not equal.\n",
    "\n",
    "The two-sample t-test formula is given by:\n",
    "\n",
    "t=Xˉ1−Xˉ2(s12n1)+(s22n2)t=(n1​s12​​)+(n2​s22​​)\n",
    "\n",
    "​Xˉ1​−Xˉ2​​\n",
    "\n",
    "where:\n",
    "\n",
    "    Xˉ1Xˉ1​ and Xˉ2Xˉ2​ are the sample means,\n",
    "    s1s1​ and s2s2​ are the sample standard deviations,\n",
    "    n1n1​ and n2n2​ are the sample sizes.\n",
    "\n",
    "The decision rule is to reject the null hypothesis if the absolute value of the calculated t-statistic is greater than the critical t-value for a two-tailed test with degrees of freedom given by the Welch's degrees of freedom formula."
   ]
  },
  {
   "cell_type": "code",
   "execution_count": 11,
   "id": "0cf9ce36-096e-486a-93cb-4fc04e8eff7c",
   "metadata": {},
   "outputs": [
    {
     "name": "stdout",
     "output_type": "stream",
     "text": [
      "T-Statistic: 2.2511\n",
      "Degrees of Freedom: 54.23\n",
      "Critical T-Value: 2.6696\n",
      "Fail to reject the null hypothesis\n"
     ]
    }
   ],
   "source": [
    "import scipy.stats as stats\n",
    "import math\n",
    "\n",
    "# Given values for Group 1\n",
    "mean1 = 80\n",
    "std1 = 10\n",
    "n1 = 30\n",
    "\n",
    "# Given values for Group 2\n",
    "mean2 = 75\n",
    "std2 = 8\n",
    "n2 = 40\n",
    "\n",
    "# Significance level\n",
    "significance_level = 0.01\n",
    "\n",
    "# Calculate the t-statistic\n",
    "t_statistic = (mean1 - mean2) / math.sqrt((std1**2 / n1) + (std2**2 / n2))\n",
    "\n",
    "# Calculate the degrees of freedom using Welch's formula\n",
    "degrees_of_freedom = (((std1**2 / n1) + (std2**2 / n2))**2) / (((std1**2 / n1)**2) / (n1 - 1) + ((std2**2 / n2)**2) / (n2 - 1))\n",
    "\n",
    "# Calculate the critical t-value for a two-tailed test\n",
    "critical_t_value = stats.t.ppf(1 - significance_level / 2, df=degrees_of_freedom)\n",
    "\n",
    "# Print the results\n",
    "print(f\"T-Statistic: {t_statistic:.4f}\")\n",
    "print(f\"Degrees of Freedom: {degrees_of_freedom:.2f}\")\n",
    "print(f\"Critical T-Value: {critical_t_value:.4f}\")\n",
    "\n",
    "# Compare the t-statistic with the critical t-value\n",
    "if abs(t_statistic) > critical_t_value:\n",
    "    print(\"Reject the null hypothesis\")\n",
    "else:\n",
    "    print(\"Fail to reject the null hypothesis\")\n"
   ]
  },
  {
   "cell_type": "markdown",
   "id": "934a9208-c5c8-46b4-92a6-fe66ed041938",
   "metadata": {},
   "source": [
    "## Q17. A marketing company wants to estimate the average number of ads watched by viewers during a TV program. They take a random sample of 50 viewers and find that the sample mean is 4 with a standard deviation of 1.5. Estimate the population mean with a 99% confidence interval."
   ]
  },
  {
   "cell_type": "markdown",
   "id": "fd5e137c-8013-403c-8f20-a833f2cd13d6",
   "metadata": {},
   "source": [
    "To estimate the population mean with a 99% confidence interval, you can use the formula for a confidence interval for the population mean (μμ):\n",
    "\n",
    "Confidence Interval=Xˉ±(t⋅sn)Confidence Interval=Xˉ±(n\n",
    "\n",
    "​t⋅s​)\n",
    "\n",
    "where:\n",
    "\n",
    "    XˉXˉ is the sample mean,\n",
    "    ss is the sample standard deviation,\n",
    "    nn is the sample size,\n",
    "    tt is the critical t-value for the desired confidence level.\n",
    "\n",
    "For a 99% confidence interval with 49 degrees of freedom (50 - 1), the critical t-value can be obtained from a t-table or using a statistical software. Let's assume a two-tailed test for this calculation."
   ]
  },
  {
   "cell_type": "code",
   "execution_count": 12,
   "id": "a51de432-a38c-4b30-a3ee-d4a15e544a37",
   "metadata": {},
   "outputs": [
    {
     "name": "stdout",
     "output_type": "stream",
     "text": [
      "99% Confidence Interval: (3.4315, 4.5685)\n"
     ]
    }
   ],
   "source": [
    "import scipy.stats as stats\n",
    "import math\n",
    "\n",
    "# Given values\n",
    "sample_mean = 4\n",
    "sample_std = 1.5\n",
    "sample_size = 50\n",
    "confidence_level = 0.99\n",
    "\n",
    "# Calculate the critical t-value\n",
    "degrees_of_freedom = sample_size - 1\n",
    "t_value = stats.t.ppf((1 + confidence_level) / 2, df=degrees_of_freedom)\n",
    "\n",
    "# Calculate the margin of error\n",
    "margin_of_error = t_value * (sample_std / math.sqrt(sample_size))\n",
    "\n",
    "# Calculate the confidence interval\n",
    "lower_bound = sample_mean - margin_of_error\n",
    "upper_bound = sample_mean + margin_of_error\n",
    "\n",
    "# Print the results\n",
    "print(f\"99% Confidence Interval: ({lower_bound:.4f}, {upper_bound:.4f})\")\n"
   ]
  },
  {
   "cell_type": "code",
   "execution_count": null,
   "id": "48ece822-456a-46b2-9c67-0f5ea7d45fa9",
   "metadata": {},
   "outputs": [],
   "source": []
  }
 ],
 "metadata": {
  "kernelspec": {
   "display_name": "Python 3 (ipykernel)",
   "language": "python",
   "name": "python3"
  },
  "language_info": {
   "codemirror_mode": {
    "name": "ipython",
    "version": 3
   },
   "file_extension": ".py",
   "mimetype": "text/x-python",
   "name": "python",
   "nbconvert_exporter": "python",
   "pygments_lexer": "ipython3",
   "version": "3.10.8"
  }
 },
 "nbformat": 4,
 "nbformat_minor": 5
}
