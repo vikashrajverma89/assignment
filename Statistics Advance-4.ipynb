{
 "cells": [
  {
   "cell_type": "markdown",
   "id": "37880753-4917-4664-b20f-0e10eaf1f332",
   "metadata": {},
   "source": [
    "## Q1: What is the difference between a t-test and a z-test? Provide an example scenario where you would use each type of test."
   ]
  },
  {
   "cell_type": "markdown",
   "id": "db29e04f-7a90-4fe2-9fcd-da8393588037",
   "metadata": {},
   "source": [
    "Difference between a t-test and a z-test:\n",
    "\n",
    "The key difference between a t-test and a z-test lies in the circumstances under which they are used, particularly with respect to the knowledge of the population standard deviation.\n",
    "\n",
    "    Z-Test:\n",
    "        Used when the population standard deviation (σσ) is known.\n",
    "        Assumes a normal distribution of the population.\n",
    "        Typically applied to large sample sizes.\n",
    "\n",
    "    T-Test:\n",
    "        Used when the population standard deviation (σσ) is unknown.\n",
    "        Appropriate for small sample sizes.\n",
    "        Relies on the t-distribution, which has heavier tails than the normal distribution.\n",
    "\n",
    "Example Scenarios:\n",
    "\n",
    "    Z-Test Scenario:\n",
    "        Scenario: You are conducting a study on the average height of adults in a town, and you have access to the entire population's data.\n",
    "        Usage: Since you have the complete population data and know the population standard deviation, you can use a z-test to make inferences about the average height."
   ]
  },
  {
   "cell_type": "code",
   "execution_count": 1,
   "id": "e46702c9-310a-48e9-b09f-674c9f597e81",
   "metadata": {},
   "outputs": [
    {
     "name": "stdout",
     "output_type": "stream",
     "text": [
      "Z-Statistic: -1.6667\n",
      "P-Value: 0.0956\n"
     ]
    }
   ],
   "source": [
    "# Example code for a z-test (assuming known population standard deviation)\n",
    "from scipy.stats import norm\n",
    "\n",
    "population_mean = 68  # hypothetical population mean\n",
    "population_std_dev = 3  # hypothetical population standard deviation\n",
    "sample_mean = 67.5  # sample mean of the observed data\n",
    "sample_size = 100  # sample size\n",
    "\n",
    "z_statistic = (sample_mean - population_mean) / (population_std_dev / (sample_size ** 0.5))\n",
    "p_value = 2 * (1 - norm.cdf(abs(z_statistic)))\n",
    "\n",
    "print(f\"Z-Statistic: {z_statistic:.4f}\")\n",
    "print(f\"P-Value: {p_value:.4f}\")\n"
   ]
  },
  {
   "cell_type": "markdown",
   "id": "9dfa9607-76e5-44e2-b9a6-b6b7703b2be1",
   "metadata": {},
   "source": [
    "T-Test Scenario:\n",
    "\n",
    "    Scenario: You are investigating the effectiveness of a new teaching method, and you have a sample of 30 students' test scores.\n",
    "    Usage: Since you only have a sample and don't know the population standard deviation, you would use a t-test."
   ]
  },
  {
   "cell_type": "code",
   "execution_count": 3,
   "id": "a51c1c42-f35d-405b-97f3-3d42e48379a6",
   "metadata": {},
   "outputs": [
    {
     "name": "stdout",
     "output_type": "stream",
     "text": [
      "T-Statistic: 3.4233\n",
      "P-Value: 0.0019\n"
     ]
    }
   ],
   "source": [
    "# Example code for a t-test (assuming unknown population standard deviation)\n",
    "from scipy.stats import t\n",
    "\n",
    "sample_mean = 75  # sample mean of the observed data\n",
    "sample_std_dev = 8  # sample standard deviation\n",
    "sample_size = 30  # sample size\n",
    "hypothesized_mean = 70  # hypothesized population mean under the null hypothesis\n",
    "\n",
    "t_statistic = (sample_mean - hypothesized_mean) / (sample_std_dev / (sample_size ** 0.5))\n",
    "p_value = 2 * (1 - t.cdf(abs(t_statistic), df=sample_size - 1))\n",
    "\n",
    "print(f\"T-Statistic: {t_statistic:.4f}\")\n",
    "print(f\"P-Value: {p_value:.4f}\")\n"
   ]
  },
  {
   "cell_type": "markdown",
   "id": "dbae5f7f-7f85-4f8a-b685-b83795bdfa52",
   "metadata": {},
   "source": [
    "## Q2: Differentiate between one-tailed and two-tailed tests."
   ]
  },
  {
   "cell_type": "markdown",
   "id": "51086fd4-9f1e-451a-ae78-e228efffada8",
   "metadata": {},
   "source": [
    "**One-Tailed Test:**\n",
    "- In a one-tailed test, the critical region for rejection is located in only one tail of the distribution (either the left or the right).\n",
    "- Used when the research hypothesis specifies a directional relationship or when there is only interest in one side of the distribution.\n",
    "- The critical region is defined by a single critical value.\n",
    "- Provides more power to detect an effect in a specific direction.\n",
    "- Notation for critical regions: \\(H_1: \\mu > \\mu_0\\) (right-tailed) or \\(H_1: \\mu < \\mu_0\\) (left-tailed).\n",
    "\n",
    "**Two-Tailed Test:**\n",
    "- In a two-tailed test, the critical region for rejection is located in both tails of the distribution.\n",
    "- Used when the research hypothesis does not specify a directional relationship, and there is interest in detecting any significant difference.\n",
    "- The critical region is divided into two parts, often symmetrically positioned around the center of the distribution.\n",
    "- Provides the ability to detect a significant effect in either direction.\n",
    "- Notation for critical region: \\(H_1: \\mu \\neq \\mu_0\\).\n",
    "\n",
    "**Example:**\n",
    "Suppose you are testing whether a new drug increases or decreases blood pressure. \n",
    "\n",
    "- **One-Tailed Test:**\n",
    "  - If you are specifically interested in whether the drug decreases blood pressure, you would use a one-tailed test with the null hypothesis \\(H_0: \\mu \\geq \\mu_0\\) and the alternative hypothesis \\(H_1: \\mu < \\mu_0\\).\n",
    "\n",
    "- **Two-Tailed Test:**\n",
    "  - If you are interested in finding out whether the drug has any effect on blood pressure (either increase or decrease), you would use a two-tailed test with the null hypothesis \\(H_0: \\mu = \\mu_0\\) and the alternative hypothesis \\(H_1: \\mu \\neq \\mu_0\\).\n",
    "\n",
    "In summary, the choice between a one-tailed and a two-tailed test depends on the specific research question and whether the hypothesis specifies a directional effect."
   ]
  },
  {
   "cell_type": "markdown",
   "id": "81533d9c-e918-4b46-a89e-1933564811d8",
   "metadata": {},
   "source": [
    "## Q3: Explain the concept of Type 1 and Type 2 errors in hypothesis testing. Provide an example scenario for each type of error."
   ]
  },
  {
   "cell_type": "markdown",
   "id": "019637da-c2c2-4d6a-8da2-cd62120ff963",
   "metadata": {},
   "source": [
    "**Type 1 Error (False Positive):**\n",
    "- Occurs when the null hypothesis (\\(H_0\\)) is incorrectly rejected when it is actually true.\n",
    "- Probability of committing a Type 1 error is denoted as \\(\\alpha\\) (alpha), the significance level.\n",
    "- Researchers control \\(\\alpha\\) by setting a predetermined significance level (e.g., 0.05).\n",
    "\n",
    "**Example Scenario for Type 1 Error:**\n",
    "- **Scenario:** A pharmaceutical company is testing a new drug for its effectiveness in reducing blood pressure. The null hypothesis (\\(H_0\\)) states that the drug has no effect on blood pressure.\n",
    "- **Type 1 Error:** Rejecting \\(H_0\\) when it is true would mean concluding that the drug is effective when, in fact, it is not. This could lead to the drug being marketed as effective when it is not, potentially causing harm and wasted resources.\n",
    "\n",
    "**Type 2 Error (False Negative):**\n",
    "- Occurs when the null hypothesis (\\(H_0\\)) is not rejected when it is actually false.\n",
    "- Probability of committing a Type 2 error is denoted as \\(\\beta\\) (beta).\n",
    "- Power of a test (\\(1 - \\beta\\)) is the probability of correctly rejecting a false null hypothesis.\n",
    "\n",
    "**Example Scenario for Type 2 Error:**\n",
    "- **Scenario:** Using the same example of testing a new drug for reducing blood pressure. The null hypothesis (\\(H_0\\)) states that the drug has no effect on blood pressure.\n",
    "- **Type 2 Error:** Failing to reject \\(H_0\\) when the drug does have an effect means missing an opportunity to identify a beneficial treatment. In this case, patients might be deprived of a potentially effective medication.\n",
    "\n",
    "**Trade-off between Type 1 and Type 2 Errors:**\n",
    "- There is often a trade-off between Type 1 and Type 2 errors. As you decrease the probability of one type of error, the probability of the other type of error typically increases. This trade-off is influenced by factors such as sample size, significance level, and effect size.\n",
    "\n",
    "Understanding and controlling Type 1 and Type 2 errors are crucial in hypothesis testing, as they directly impact the reliability of the conclusions drawn from statistical analyses. Researchers aim to strike an appropriate balance between the risks of these errors based on the context and consequences of the decision."
   ]
  },
  {
   "cell_type": "markdown",
   "id": "efb24ea8-d217-448d-9a8a-674a2459a663",
   "metadata": {},
   "source": [
    "## Q4: Explain Bayes's theorem with an example."
   ]
  },
  {
   "cell_type": "markdown",
   "id": "c19e831d-cef2-4f24-a6c2-06173e796e51",
   "metadata": {},
   "source": [
    "**Bayes's Theorem:**\n",
    "\n",
    "Bayes's Theorem is a mathematical formula that describes the probability of an event based on prior knowledge of conditions that might be related to the event. It is named after the Reverend Thomas Bayes, who introduced the concept. The theorem is particularly useful in updating probabilities when new evidence becomes available.\n",
    "\n",
    "The formula for Bayes's Theorem is:\n",
    "\n",
    "\\[ P(A|B) = \\frac{P(B|A) \\cdot P(A)}{P(B)} \\]\n",
    "\n",
    "Where:\n",
    "- \\( P(A|B) \\) is the probability of event A given that event B has occurred.\n",
    "- \\( P(B|A) \\) is the probability of event B given that event A has occurred.\n",
    "- \\( P(A) \\) is the prior probability of event A.\n",
    "- \\( P(B) \\) is the prior probability of event B.\n",
    "\n",
    "**Example:**\n",
    "\n",
    "Let's consider a medical scenario to illustrate Bayes's Theorem. Suppose a certain rare disease affects 1 in 10,000 people, and there is a diagnostic test for this disease. The test is quite accurate, with a sensitivity of 99% (true positive rate) and a specificity of 95% (true negative rate).\n",
    "\n",
    "1. **Prior Probability:**\n",
    "   - \\( P(\\text{Disease}) = 0.0001 \\) (prior probability of having the disease).\n",
    "   - \\( P(\\text{No Disease}) = 1 - P(\\text{Disease}) = 0.9999 \\) (prior probability of not having the disease).\n",
    "\n",
    "2. **Diagnostic Test Performance:**\n",
    "   - \\( P(\\text{Positive Test | Disease}) = 0.99 \\) (sensitivity).\n",
    "   - \\( P(\\text{Negative Test | No Disease}) = 0.95 \\) (specificity).\n",
    "\n",
    "Now, let's say an individual takes the test and receives a positive result. We want to calculate the probability that the individual actually has the disease (\\( P(\\text{Disease | Positive Test}) \\)).\n",
    "\n",
    "Using Bayes's Theorem:\n",
    "\n",
    "\\[ P(\\text{Disease | Positive Test}) = \\frac{P(\\text{Positive Test | Disease}) \\cdot P(\\text{Disease})}{P(\\text{Positive Test})} \\]\n",
    "\n",
    "The denominator \\( P(\\text{Positive Test}) \\) can be calculated using the law of total probability:\n",
    "\n",
    "\\[ P(\\text{Positive Test}) = P(\\text{Positive Test | Disease}) \\cdot P(\\text{Disease}) + P(\\text{Positive Test | No Disease}) \\cdot P(\\text{No Disease}) \\]\n",
    "\n",
    "You can substitute the values into the formula to find the updated probability.\n",
    "\n",
    "In summary, Bayes's Theorem allows us to update our beliefs about the probability of an event based on new evidence or information."
   ]
  },
  {
   "cell_type": "markdown",
   "id": "d99c9c32-3aa8-415c-92a5-4f8e17e752e6",
   "metadata": {},
   "source": [
    "## Q5: What is a confidence interval? How to calculate the confidence interval, explain with an example."
   ]
  },
  {
   "cell_type": "markdown",
   "id": "6593df9d-8495-40a5-a3b1-a2597f64ae55",
   "metadata": {},
   "source": [
    "**Confidence Interval:**\n",
    "\n",
    "A confidence interval is a statistical tool used to estimate the range within which a population parameter, such as a mean or proportion, is likely to lie. It provides a level of uncertainty around a point estimate, giving a range of values rather than a single point.\n",
    "\n",
    "The general form of a confidence interval is:\n",
    "\n",
    "\\[ \\text{Point Estimate} \\pm \\text{Margin of Error} \\]\n",
    "\n",
    "The margin of error is influenced by factors such as the sample size and the chosen level of confidence. The confidence interval is often expressed with a specified confidence level, such as 95% or 99%.\n",
    "\n",
    "**Calculating a Confidence Interval:**\n",
    "\n",
    "The formula for a confidence interval for the population mean (\\(\\mu\\)) is:\n",
    "\n",
    "\\[ \\text{Confidence Interval} = \\bar{X} \\pm \\left( \\frac{t \\cdot s}{\\sqrt{n}} \\right) \\]\n",
    "\n",
    "where:\n",
    "- \\(\\bar{X}\\) is the sample mean,\n",
    "- \\(s\\) is the sample standard deviation,\n",
    "- \\(n\\) is the sample size,\n",
    "- \\(t\\) is the critical t-value corresponding to the chosen confidence level and degrees of freedom.\n",
    "\n",
    "**Example:**\n",
    "\n",
    "Suppose we want to estimate the average height of a population. We take a random sample of 30 individuals and find that the sample mean height (\\(\\bar{X}\\)) is 65 inches with a sample standard deviation (\\(s\\)) of 3 inches.\n",
    "\n",
    "1. **Choose Confidence Level:**\n",
    "   - Let's choose a 95% confidence level.\n",
    "\n",
    "2. **Determine Degrees of Freedom:**\n",
    "   - For a t-distribution, degrees of freedom (\\(df\\)) are \\(n - 1\\).\n",
    "   - \\(df = 30 - 1 = 29\\).\n",
    "\n",
    "3. **Find Critical t-Value:**\n",
    "   - Using statistical software or a t-table, find the critical t-value for a 95% confidence level with 29 degrees of freedom.\n",
    "   - Let's assume the critical t-value is approximately 2.045.\n",
    "\n",
    "4. **Calculate Margin of Error:**\n",
    "   - \\(\\text{Margin of Error} = \\frac{t \\cdot s}{\\sqrt{n}} = \\frac{2.045 \\cdot 3}{\\sqrt{30}} \\approx 1.189\\).\n",
    "\n",
    "5. **Calculate Confidence Interval:**\n",
    "   - \\(\\text{Confidence Interval} = \\bar{X} \\pm \\text{Margin of Error} = 65 \\pm 1.189\\).\n",
    "\n",
    "So, the 95% confidence interval for the population mean height is approximately (63.811, 66.189) inches. This means we are 95% confident that the true population mean height falls within this interval."
   ]
  },
  {
   "cell_type": "markdown",
   "id": "74c7deeb-9378-45c6-98fc-b88dbef93505",
   "metadata": {},
   "source": [
    "## Q6. Use Bayes' Theorem to calculate the probability of an event occurring given prior knowledge of the event's probability and new evidence. Provide a sample problem and solution."
   ]
  },
  {
   "cell_type": "markdown",
   "id": "5638680a-e049-4873-8401-252b4f19c0f3",
   "metadata": {},
   "source": [
    "Certainly! Let's consider a classic example known as the \"Monty Hall Problem.\" In this problem, a contestant is on a game show. The game involves three doors. Behind one door is a car (the prize), and behind the other two doors are goats.\n",
    "\n",
    "Here are the steps using Bayes' Theorem:\n",
    "\n",
    "**Problem:**\n",
    "1. You choose one of the three doors, say Door 1.\n",
    "2. The host, who knows what's behind each door, opens another door, revealing a goat. Let's say the host opens Door 3, showing a goat.\n",
    "3. The host then gives you the option to stick with your original choice (Door 1) or switch to the remaining unopened door (Door 2).\n",
    "\n",
    "**Bayes' Theorem:**\n",
    "\\[ P(\\text{Car behind Door 1 | Host opens Door 3}) = \\frac{P(\\text{Host opens Door 3 | Car behind Door 1}) \\cdot P(\\text{Car behind Door 1})}{P(\\text{Host opens Door 3})} \\]\n",
    "\n",
    "**Assumptions:**\n",
    "- Initially, each door has a \\(1/3\\) chance of having the car behind it.\n",
    "- The host will always reveal a goat behind one of the unchosen doors.\n",
    "\n",
    "**Calculations:**\n",
    "1. \\( P(\\text{Host opens Door 3 | Car behind Door 1}) = 1/2 \\) (The host has two choices for which door to open, both with a goat behind them).\n",
    "2. \\( P(\\text{Car behind Door 1}) = 1/3 \\) (Initial probability of the car being behind Door 1).\n",
    "3. \\( P(\\text{Host opens Door 3}) = P(\\text{Host opens Door 3 | Car behind Door 1}) \\cdot P(\\text{Car behind Door 1}) + P(\\text{Host opens Door 3 | Car behind Door 2}) \\cdot P(\\text{Car behind Door 2}) + P(\\text{Host opens Door 3 | Car behind Door 3}) \\cdot P(\\text{Car behind Door 3}) \\)\n",
    "   - \\( P(\\text{Host opens Door 3 | Car behind Door 2}) = 1 \\) (The host must open Door 3 since Door 2 has the car).\n",
    "   - \\( P(\\text{Host opens Door 3 | Car behind Door 3}) = 0 \\) (The host cannot open the door with the car).\n",
    "   - \\( P(\\text{Car behind Door 2}) = 1/3 \\) and \\( P(\\text{Car behind Door 3}) = 1/3 \\).\n",
    "   - Therefore, \\( P(\\text{Host opens Door 3}) = (1/2) \\cdot (1/3) + 1 \\cdot (1/3) + 0 \\cdot (1/3) = 1/2 + 1/3 = 5/6 \\).\n",
    "\n",
    "Now, substitute these values into Bayes' Theorem:\n",
    "\n",
    "\\[ P(\\text{Car behind Door 1 | Host opens Door 3}) = \\frac{(1/2) \\cdot (1/3)}{5/6} = \\frac{1/6}{5/6} = \\frac{1}{5} \\]\n",
    "\n",
    "So, given that the host opens Door 3 and reveals a goat, switching to Door 2 has a probability of \\(1/5\\) of winning the car, while sticking with Door 1 has a probability of \\(4/5\\). This result may seem counterintuitive, but it's a classic demonstration of how Bayesian reasoning can lead to unexpected outcomes."
   ]
  },
  {
   "cell_type": "markdown",
   "id": "1c58b995-9bd5-4528-a636-c51c83b21431",
   "metadata": {},
   "source": [
    "## Q7. Calculate the 95% confidence interval for a sample of data with a mean of 50 and a standard deviation of 5. Interpret the results."
   ]
  },
  {
   "cell_type": "markdown",
   "id": "0caa5a49-0af7-4a2d-b7a3-8fe4078b89a7",
   "metadata": {},
   "source": [
    "To calculate the 95% confidence interval for a sample of data with a mean of 50 and a standard deviation of 5, we can use the formula for the confidence interval:\n",
    "\n",
    "\\[ \\text{Confidence Interval} = \\bar{X} \\pm \\left( \\frac{t \\cdot s}{\\sqrt{n}} \\right) \\]\n",
    "\n",
    "Where:\n",
    "- \\(\\bar{X}\\) is the sample mean,\n",
    "- \\(s\\) is the sample standard deviation,\n",
    "- \\(n\\) is the sample size,\n",
    "- \\(t\\) is the critical t-value for a 95% confidence level and degrees of freedom (\\(n - 1\\)).\n",
    "\n",
    "Assuming a sample size of 30 (you can adjust this based on your actual sample size), we need to find the critical t-value for a 95% confidence level with 29 degrees of freedom. Let's assume it's approximately 2.045.\n",
    "\n",
    "\\[ \\text{Confidence Interval} = 50 \\pm \\left( \\frac{2.045 \\cdot 5}{\\sqrt{30}} \\right) \\]\n",
    "\n",
    "Now, let's calculate the margin of error:\n",
    "\n",
    "\\[ \\text{Margin of Error} = \\frac{2.045 \\cdot 5}{\\sqrt{30}} \\approx 2.34 \\]\n",
    "\n",
    "Finally, calculate the confidence interval:\n",
    "\n",
    "\\[ \\text{Confidence Interval} = (50 - 2.34, 50 + 2.34) \\]\n",
    "\n",
    "This results in a 95% confidence interval of approximately (47.66, 52.34).\n",
    "\n",
    "**Interpretation:**\n",
    "We are 95% confident that the true population mean lies within the interval from 47.66 to 52.34. This means that if we were to take many samples and compute a 95% confidence interval for each, we would expect about 95% of those intervals to contain the true population mean. The margin of error gives us a range of values within which we believe the true population mean is likely to fall."
   ]
  },
  {
   "cell_type": "markdown",
   "id": "b1d2b272-26dc-4bc6-8382-f4ef8c097c02",
   "metadata": {},
   "source": [
    "## Q8. What is the margin of error in a confidence interval? How does sample size affect the margin of error? Provide an example of a scenario where a larger sample size would result in a smaller margin of error."
   ]
  },
  {
   "cell_type": "markdown",
   "id": "b782289c-69b5-4cf8-961b-064e26f8b25c",
   "metadata": {},
   "source": [
    "**Margin of Error in a Confidence Interval:**\n",
    "\n",
    "The margin of error (MOE) is the range above and below a point estimate within which the true population parameter is likely to fall with a certain level of confidence. It quantifies the uncertainty associated with estimating a population parameter based on a sample.\n",
    "\n",
    "**Formula for Margin of Error:**\n",
    "\n",
    "\\[ \\text{Margin of Error} = \\frac{t \\cdot s}{\\sqrt{n}} \\]\n",
    "\n",
    "Where:\n",
    "- \\( t \\) is the critical t-value or z-value depending on the confidence level and distribution.\n",
    "- \\( s \\) is the sample standard deviation.\n",
    "- \\( n \\) is the sample size.\n",
    "\n",
    "**Effect of Sample Size on Margin of Error:**\n",
    "\n",
    "1. **Inverse Relationship:** The margin of error is inversely proportional to the square root of the sample size (\\( n \\)). As the sample size increases, the square root of \\( n \\) increases, resulting in a smaller margin of error.\n",
    "\n",
    "2. **Larger Sample, Smaller Margin of Error:** Increasing the sample size leads to a more precise estimate. With a larger sample, the variability within the sample tends to reflect the variability in the population more accurately, resulting in a smaller margin of error.\n",
    "\n",
    "**Example Scenario:**\n",
    "\n",
    "Let's consider an example comparing the margin of error for two different sample sizes.\n",
    "\n",
    "Suppose we are estimating the average height of a population. We have two scenarios:\n",
    "\n",
    "- **Scenario 1 (Smaller Sample):**\n",
    "  - Sample size (\\( n_1 \\)) = 25\n",
    "  - Margin of Error (\\( MOE_1 \\)) = \\( \\frac{t \\cdot s}{\\sqrt{n_1}} \\)\n",
    "\n",
    "- **Scenario 2 (Larger Sample):**\n",
    "  - Sample size (\\( n_2 \\)) = 100\n",
    "  - Margin of Error (\\( MOE_2 \\)) = \\( \\frac{t \\cdot s}{\\sqrt{n_2}} \\)\n",
    "\n",
    "Assuming other factors remain constant, the margin of error for Scenario 2 (\\( MOE_2 \\)) will be smaller than the margin of error for Scenario 1 (\\( MOE_1 \\)) due to the larger sample size in Scenario 2.\n",
    "\n",
    "This reflects the principle that larger sample sizes provide more information and result in more precise estimates of population parameters."
   ]
  },
  {
   "cell_type": "markdown",
   "id": "88553acf-5d61-4acb-b556-64d89f2b72d7",
   "metadata": {},
   "source": [
    "## Q9. Calculate the z-score for a data point with a value of 75, a population mean of 70, and a population standard deviation of 5. Interpret the results."
   ]
  },
  {
   "cell_type": "markdown",
   "id": "67166fa3-cff8-4bdc-ac75-8db1765f03ad",
   "metadata": {},
   "source": [
    "The z-score (or standard score) for a data point in a normal distribution is calculated using the formula:\n",
    "\n",
    "\\[ Z = \\frac{X - \\mu}{\\sigma} \\]\n",
    "\n",
    "Where:\n",
    "- \\( Z \\) is the z-score,\n",
    "- \\( X \\) is the data point,\n",
    "- \\( \\mu \\) is the population mean,\n",
    "- \\( \\sigma \\) is the population standard deviation.\n",
    "\n",
    "In your case:\n",
    "- \\( X = 75 \\) (the data point),\n",
    "- \\( \\mu = 70 \\) (the population mean),\n",
    "- \\( \\sigma = 5 \\) (the population standard deviation).\n",
    "\n",
    "\\[ Z = \\frac{75 - 70}{5} = 1 \\]\n",
    "\n",
    "**Interpretation:**\n",
    "A z-score of 1 indicates that the data point (75) is 1 standard deviation above the mean in a normal distribution. It provides a measure of how many standard deviations a data point is from the mean. Positive z-scores represent values above the mean, while negative z-scores represent values below the mean.\n",
    "\n",
    "In this specific example, a z-score of 1 suggests that the data point (75) is moderately above the average (mean of 70) in the context of the population's distribution."
   ]
  },
  {
   "cell_type": "markdown",
   "id": "f5573d0d-0453-4e28-b804-cd0ce1b46f02",
   "metadata": {},
   "source": [
    "## Q10. In a study of the effectiveness of a new weight loss drug, a sample of 50 participants lost an average of 6 pounds with a standard deviation of 2.5 pounds. Conduct a hypothesis test to determine if the drug is significantly effective at a 95% confidence level using a t-test."
   ]
  },
  {
   "cell_type": "markdown",
   "id": "c59e59ce-f1af-4ffb-bb93-a59e22c3794c",
   "metadata": {},
   "source": [
    "To conduct a hypothesis test for the effectiveness of the weight loss drug, we will perform a one-sample t-test. The null hypothesis (\\(H_0\\)) and alternative hypothesis (\\(H_1\\)) are typically set up as follows:\n",
    "\n",
    "\\[ H_0: \\mu = \\mu_0 \\]\n",
    "\\[ H_1: \\mu \\neq \\mu_0 \\]\n",
    "\n",
    "where:\n",
    "- \\( \\mu \\) is the population mean (effectiveness of the drug),\n",
    "- \\( \\mu_0 \\) is the hypothesized population mean under the null hypothesis.\n",
    "\n",
    "In this case, assuming no weight loss, the null hypothesis is that the average weight loss (\\( \\mu \\)) is zero. The alternative hypothesis is that the average weight loss is different from zero.\n",
    "\n",
    "The formula for the t-statistic in a one-sample t-test is:\n",
    "\n",
    "\\[ t = \\frac{\\bar{X} - \\mu_0}{\\frac{s}{\\sqrt{n}}} \\]\n",
    "\n",
    "where:\n",
    "- \\( \\bar{X} \\) is the sample mean,\n",
    "- \\( \\mu_0 \\) is the hypothesized population mean under the null hypothesis,\n",
    "- \\( s \\) is the sample standard deviation,\n",
    "- \\( n \\) is the sample size.\n",
    "\n",
    "Given:\n",
    "- \\( \\bar{X} = 6 \\) pounds,\n",
    "- \\( s = 2.5 \\) pounds,\n",
    "- \\( n = 50 \\) participants.\n",
    "\n",
    "Let's assume a 95% confidence level, which corresponds to a two-tailed test with a significance level (\\(\\alpha\\)) of 0.05. For a two-tailed test, the critical t-value will be obtained with \\(df = n - 1 = 49\\).\n",
    "\n",
    "Perform the calculations:\n",
    "\n",
    "\\[ t = \\frac{6 - 0}{\\frac{2.5}{\\sqrt{50}}} \\]\n",
    "\n",
    "Now, find the critical t-value for a two-tailed test with 49 degrees of freedom using a t-table or statistical software.\n",
    "\n",
    "Compare the calculated t-statistic with the critical t-value to make a decision about rejecting the null hypothesis. If the calculated t-statistic falls in the rejection region (beyond the critical values), you would reject the null hypothesis and conclude that the weight loss drug is significantly effective. Otherwise, you would fail to reject the null hypothesis.\n",
    "\n",
    "Please note that the specific critical t-values and the decision will depend on the actual values obtained from the calculations."
   ]
  },
  {
   "cell_type": "markdown",
   "id": "6424a484-004b-492c-a815-3436297140a7",
   "metadata": {},
   "source": [
    "## Q11. In a survey of 500 people, 65% reported being satisfied with their current job. Calculate the 95% confidence interval for the true proportion of people who are satisfied with their job."
   ]
  },
  {
   "cell_type": "markdown",
   "id": "c602647c-6535-4e33-8782-3b9351d91a3a",
   "metadata": {},
   "source": [
    "To calculate the confidence interval for the true proportion of people satisfied with their job, we can use the formula for the confidence interval for a population proportion:\n",
    "\n",
    "\\[ \\text{Confidence Interval} = \\hat{p} \\pm z \\times \\sqrt{\\frac{\\hat{p}(1 - \\hat{p})}{n}} \\]\n",
    "\n",
    "Where:\n",
    "- \\(\\hat{p}\\) is the sample proportion,\n",
    "- \\(z\\) is the critical z-value for the desired confidence level,\n",
    "- \\(n\\) is the sample size.\n",
    "\n",
    "Given:\n",
    "- Sample proportion (\\(\\hat{p}\\)) = 0.65,\n",
    "- Sample size (\\(n\\)) = 500.\n",
    "\n",
    "**Critical z-value for 95% Confidence Level:**\n",
    "For a 95% confidence level (two-tailed test), the critical z-value is approximately 1.96.\n",
    "\n",
    "Now, substitute the values into the formula:\n",
    "\n",
    "\\[ \\text{Confidence Interval} = 0.65 \\pm 1.96 \\times \\sqrt{\\frac{0.65 \\times (1 - 0.65)}{500}} \\]\n",
    "\n",
    "Calculate the margin of error:\n",
    "\n",
    "\\[ \\text{Margin of Error} = 1.96 \\times \\sqrt{\\frac{0.65 \\times (1 - 0.65)}{500}} \\]\n",
    "\n",
    "Now, calculate the confidence interval:\n",
    "\n",
    "\\[ \\text{Confidence Interval} = (0.65 - \\text{Margin of Error}, 0.65 + \\text{Margin of Error}) \\]\n",
    "\n",
    "Perform the calculations to obtain the numerical values for the confidence interval. The result will be a range within which we are 95% confident the true proportion of people satisfied with their job lies."
   ]
  },
  {
   "cell_type": "markdown",
   "id": "f0d421bb-b216-40b9-83a2-5271f5387d90",
   "metadata": {},
   "source": [
    "## Q12. A researcher is testing the effectiveness of two different teaching methods on student performance. Sample A has a mean score of 85 with a standard deviation of 6, while sample B has a mean score of 82 with a standard deviation of 5. Conduct a hypothesis test to determine if the two teaching methods have a significant difference in student performance using a t-test with a significance level of 0.01."
   ]
  },
  {
   "cell_type": "markdown",
   "id": "4a1e94a2-f257-4aef-a188-40858ba8b110",
   "metadata": {},
   "source": [
    "To test whether the two teaching methods have a significant difference in student performance, we can conduct an independent samples t-test. The null hypothesis (\\(H_0\\)) and alternative hypothesis (\\(H_1\\)) are typically set up as follows:\n",
    "\n",
    "\\[ H_0: \\mu_A = \\mu_B \\]\n",
    "\\[ H_1: \\mu_A \\neq \\mu_B \\]\n",
    "\n",
    "where:\n",
    "- \\(\\mu_A\\) is the population mean for Sample A,\n",
    "- \\(\\mu_B\\) is the population mean for Sample B.\n",
    "\n",
    "The formula for the t-statistic in an independent samples t-test is:\n",
    "\n",
    "\\[ t = \\frac{\\bar{X}_A - \\bar{X}_B}{\\sqrt{\\frac{s_A^2}{n_A} + \\frac{s_B^2}{n_B}}} \\]\n",
    "\n",
    "where:\n",
    "- \\(\\bar{X}_A\\) and \\(\\bar{X}_B\\) are the sample means for Sample A and Sample B, respectively,\n",
    "- \\(s_A\\) and \\(s_B\\) are the sample standard deviations for Sample A and Sample B, respectively,\n",
    "- \\(n_A\\) and \\(n_B\\) are the sample sizes for Sample A and Sample B, respectively.\n",
    "\n",
    "Given:\n",
    "- Sample A: \\(\\bar{X}_A = 85\\), \\(s_A = 6\\), \\(n_A\\) (sample size for A) is unknown in the given information.\n",
    "- Sample B: \\(\\bar{X}_B = 82\\), \\(s_B = 5\\), \\(n_B\\) (sample size for B) is unknown in the given information.\n",
    "\n",
    "Since the sample sizes (\\(n_A\\) and \\(n_B\\)) are not provided, we cannot directly calculate the t-statistic. If you have the actual sample sizes, please provide them. The degrees of freedom for the t-test would be \\(df = n_A + n_B - 2\\).\n",
    "\n",
    "However, assuming you have the sample sizes, you would calculate the t-statistic, compare it with the critical t-value for a two-tailed test with the given significance level (\\(\\alpha = 0.01\\)), and make a decision regarding the null hypothesis. If the calculated t-statistic falls in the rejection region, you would reject the null hypothesis, suggesting a significant difference in student performance between the two teaching methods."
   ]
  },
  {
   "cell_type": "markdown",
   "id": "0b76da07-16d3-4f44-8dcd-c14cf3570568",
   "metadata": {},
   "source": [
    "## Q13. A population has a mean of 60 and a standard deviation of 8. A sample of 50 observations has a mean of 65. Calculate the 90% confidence interval for the true population mean."
   ]
  },
  {
   "cell_type": "markdown",
   "id": "6055f423-d587-4a05-9bd4-243cd8a24641",
   "metadata": {},
   "source": [
    "To calculate the confidence interval for the true population mean, we can use the formula:\n",
    "\n",
    "\\[ \\text{Confidence Interval} = \\bar{X} \\pm z \\times \\frac{s}{\\sqrt{n}} \\]\n",
    "\n",
    "where:\n",
    "- \\(\\bar{X}\\) is the sample mean,\n",
    "- \\(z\\) is the critical z-value for the desired confidence level,\n",
    "- \\(s\\) is the sample standard deviation,\n",
    "- \\(n\\) is the sample size.\n",
    "\n",
    "Given:\n",
    "- Population mean (\\(\\mu\\)) = 60,\n",
    "- Population standard deviation (\\(\\sigma\\)) = 8,\n",
    "- Sample mean (\\(\\bar{X}\\)) = 65,\n",
    "- Sample size (\\(n\\)) = 50.\n",
    "\n",
    "**Calculate the critical z-value:**\n",
    "For a 90% confidence level, which is a two-tailed test, the critical z-value is approximately 1.645. You can obtain this value from a standard normal distribution table.\n",
    "\n",
    "**Substitute the values into the formula:**\n",
    "\\[ \\text{Confidence Interval} = 65 \\pm 1.645 \\times \\frac{8}{\\sqrt{50}} \\]\n",
    "\n",
    "**Calculate the margin of error:**\n",
    "\\[ \\text{Margin of Error} = 1.645 \\times \\frac{8}{\\sqrt{50}} \\]\n",
    "\n",
    "**Calculate the confidence interval:**\n",
    "\\[ \\text{Confidence Interval} = (65 - \\text{Margin of Error}, 65 + \\text{Margin of Error}) \\]\n",
    "\n",
    "Perform the calculations to obtain the numerical values for the confidence interval. The result will be a range within which we are 90% confident that the true population mean lies."
   ]
  },
  {
   "cell_type": "markdown",
   "id": "a3080d9e-dc3c-41ac-88da-61041c6548dd",
   "metadata": {},
   "source": [
    "## Q14. In a study of the effects of caffeine on reaction time, a sample of 30 participants had an average reaction time of 0.25 seconds with a standard deviation of 0.05 seconds. Conduct a hypothesis test to determine if the caffeine has a significant effect on reaction time at a 90% confidence level using a t-test."
   ]
  },
  {
   "cell_type": "markdown",
   "id": "6f636403-a661-4018-bdc0-79555c3d24f1",
   "metadata": {},
   "source": [
    "To conduct a hypothesis test for the effects of caffeine on reaction time, we can perform a one-sample t-test. The null hypothesis (\\(H_0\\)) and alternative hypothesis (\\(H_1\\)) are typically set up as follows:\n",
    "\n",
    "\\[ H_0: \\mu = \\mu_0 \\]\n",
    "\\[ H_1: \\mu \\neq \\mu_0 \\]\n",
    "\n",
    "where:\n",
    "- \\(\\mu\\) is the population mean (the true effect of caffeine),\n",
    "- \\(\\mu_0\\) is the hypothesized population mean under the null hypothesis.\n",
    "\n",
    "In this case, the null hypothesis might be that caffeine has no effect on reaction time, so \\( \\mu_0 = 0 \\). The alternative hypothesis is that caffeine has a significant effect, making \\( \\mu \\) different from 0.\n",
    "\n",
    "The formula for the t-statistic in a one-sample t-test is:\n",
    "\n",
    "\\[ t = \\frac{\\bar{X} - \\mu_0}{\\frac{s}{\\sqrt{n}}} \\]\n",
    "\n",
    "where:\n",
    "- \\(\\bar{X}\\) is the sample mean,\n",
    "- \\(\\mu_0\\) is the hypothesized population mean under the null hypothesis,\n",
    "- \\(s\\) is the sample standard deviation,\n",
    "- \\(n\\) is the sample size.\n",
    "\n",
    "Given:\n",
    "- Sample mean (\\(\\bar{X}\\)) = 0.25 seconds,\n",
    "- Sample standard deviation (\\(s\\)) = 0.05 seconds,\n",
    "- Sample size (\\(n\\)) = 30.\n",
    "\n",
    "**Calculate the t-statistic:**\n",
    "\\[ t = \\frac{0.25 - 0}{\\frac{0.05}{\\sqrt{30}}} \\]\n",
    "\n",
    "**Degrees of Freedom (\\(df\\)):**\n",
    "For a one-sample t-test, degrees of freedom are \\(df = n - 1 = 30 - 1 = 29\\).\n",
    "\n",
    "**Critical t-values:**\n",
    "For a two-tailed test at a 90% confidence level, the critical t-values can be obtained from a t-table or statistical software. Let's assume a critical t-value of approximately \\(\\pm 1.699\\).\n",
    "\n",
    "**Compare the t-statistic with critical t-values:**\n",
    "If the calculated t-statistic falls outside the range defined by the critical t-values (\\(-1.699\\) to \\(1.699\\)), you would reject the null hypothesis and conclude that caffeine has a significant effect on reaction time.\n",
    "\n",
    "Perform the calculations to determine the t-statistic and make the decision about the null hypothesis."
   ]
  },
  {
   "cell_type": "code",
   "execution_count": null,
   "id": "ad4f8fff-6658-410a-a08c-d6fd17e1ebb7",
   "metadata": {},
   "outputs": [],
   "source": []
  }
 ],
 "metadata": {
  "kernelspec": {
   "display_name": "Python 3 (ipykernel)",
   "language": "python",
   "name": "python3"
  },
  "language_info": {
   "codemirror_mode": {
    "name": "ipython",
    "version": 3
   },
   "file_extension": ".py",
   "mimetype": "text/x-python",
   "name": "python",
   "nbconvert_exporter": "python",
   "pygments_lexer": "ipython3",
   "version": "3.10.8"
  }
 },
 "nbformat": 4,
 "nbformat_minor": 5
}
