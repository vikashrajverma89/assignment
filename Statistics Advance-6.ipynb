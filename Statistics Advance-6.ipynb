{
 "cells": [
  {
   "cell_type": "markdown",
   "id": "bfe9ebef-5730-4bf2-93fa-9dbc06ed178e",
   "metadata": {},
   "source": [
    "## Q1. Explain the assumptions required to use ANOVA and provide examples of violations that could impact the validity of the results."
   ]
  },
  {
   "cell_type": "markdown",
   "id": "78487754-0712-4718-98d4-60720d9b17b1",
   "metadata": {},
   "source": [
    "Analysis of Variance (ANOVA) is a statistical technique used to compare means among three or more groups. To use ANOVA, certain assumptions must be met. Violations of these assumptions can impact the validity of the results. Here are the assumptions and examples of potential violations:\n",
    "\n",
    "### Assumptions of ANOVA:\n",
    "\n",
    "1. **Independence of Observations:**\n",
    "   - **Violation Example:** In a repeated measures design, where the same participants are used in all conditions, observations within each group are not independent.\n",
    "\n",
    "2. **Homogeneity of Variances (Homoscedasticity):**\n",
    "   - **Violation Example:** The variances of the different groups are not approximately equal. This is known as heteroscedasticity.\n",
    "   \n",
    "3. **Normality of Residuals:**\n",
    "   - **Violation Example:** The residuals (differences between observed and predicted values) are not normally distributed for each group.\n",
    "\n",
    "### Potential Violations:\n",
    "\n",
    "1. **Outliers:**\n",
    "   - **Impact:** Outliers can affect the assumption of normality and homogeneity of variances.\n",
    "   - **Example:** An extreme value in one group may distort the overall variance and normality assumptions.\n",
    "\n",
    "2. **Unequal Group Sizes:**\n",
    "   - **Impact:** Unequal group sizes can affect the validity of ANOVA results.\n",
    "   - **Example:** One group having a significantly larger sample size than others may impact the homogeneity of variances assumption.\n",
    "\n",
    "3. **Non-Parametric Distributions:**\n",
    "   - **Impact:** If the data are not normally distributed, ANOVA results may be less reliable.\n",
    "   - **Example:** If the data are heavily skewed or follow a non-normal distribution.\n",
    "\n",
    "4. **Heterogeneous Variances:**\n",
    "   - **Impact:** Violation of homogeneity of variances assumption can lead to inaccurate p-values.\n",
    "   - **Example:** One group having much larger variance than others.\n",
    "\n",
    "5. **Non-Independence:**\n",
    "   - **Impact:** In cases of non-independence, the assumptions of ANOVA may be violated.\n",
    "   - **Example:** Observations within groups are not independent, such as in a repeated measures design.\n",
    "\n",
    "It's important to note that ANOVA is robust to violations of normality and homogeneity of variances, especially when group sizes are equal or nearly equal. However, if violations are severe, or if sample sizes are very unequal, alternative methods or transformations may be considered. Checking the assumptions through diagnostic plots and statistical tests is crucial for the reliability of ANOVA results."
   ]
  },
  {
   "cell_type": "markdown",
   "id": "e39c742c-2b82-4590-9489-332fe4dda306",
   "metadata": {},
   "source": [
    "## Q2. What are the three types of ANOVA, and in what situations would each be used?"
   ]
  },
  {
   "cell_type": "markdown",
   "id": "ca0d74ee-77f6-4c59-aa89-2f6d02d35825",
   "metadata": {},
   "source": [
    "There are three main types of Analysis of Variance (ANOVA), each designed for different situations:\n",
    "\n",
    "1. **One-Way ANOVA:**\n",
    "   - **Use Case:** Used when there is one independent variable with more than two levels or groups.\n",
    "   - **Example:** Comparing mean scores of students exposed to different teaching methods (e.g., Method A, Method B, Method C).\n",
    "\n",
    "2. **Two-Way ANOVA:**\n",
    "   - **Use Case:** Used when there are two independent variables.\n",
    "   - **Example:** Examining the effects of both gender and treatment on exam scores (e.g., Male/Female x Treatment A/Treatment B).\n",
    "\n",
    "3. **Repeated Measures ANOVA:**\n",
    "   - **Use Case:** Used when measurements are taken on the same set of subjects at multiple time points or under different conditions.\n",
    "   - **Example:** Assessing the impact of a drug treatment on the same group of patients at multiple time points.\n",
    "\n",
    "### More Details:\n",
    "\n",
    "1. **One-Way ANOVA:**\n",
    "   - **Key Feature:** Analyzes the variance between groups while assuming independence of observations and equal variances across groups.\n",
    "   - **When to Use:**\n",
    "     - Comparing means across more than two groups.\n",
    "     - Testing if there are any statistically significant differences among the group means.\n",
    "\n",
    "2. **Two-Way ANOVA:**\n",
    "   - **Key Feature:** Incorporates two independent variables and examines how each variable interacts with the other.\n",
    "   - **When to Use:**\n",
    "     - Assessing the impact of two factors simultaneously.\n",
    "     - Examining if there is an interaction effect between the two factors.\n",
    "\n",
    "3. **Repeated Measures ANOVA:**\n",
    "   - **Key Feature:** Analyzes changes in measurements taken on the same subjects at multiple time points or under different conditions.\n",
    "   - **When to Use:**\n",
    "     - Assessing changes over time within the same subjects.\n",
    "     - Investigating the effect of different conditions on the same subjects.\n",
    "\n",
    "In summary, the choice between one-way ANOVA, two-way ANOVA, or repeated measures ANOVA depends on the specific study design and the number of independent variables involved. If there's only one independent variable, use one-way ANOVA. If there are two independent variables or factors, use two-way ANOVA. If measurements are repeated on the same subjects, use repeated measures ANOVA."
   ]
  },
  {
   "cell_type": "markdown",
   "id": "ce301296-8036-49df-a417-04756ceababe",
   "metadata": {},
   "source": [
    "## Q3. What is the partitioning of variance in ANOVA, and why is it important to understand this concept?"
   ]
  },
  {
   "cell_type": "markdown",
   "id": "24cc9af1-8954-4f0d-bd04-f91b965637b5",
   "metadata": {},
   "source": [
    "The partitioning of variance in Analysis of Variance (ANOVA) refers to the division of the total variability in the data into different components or sources. Understanding this concept is crucial for interpreting the results of ANOVA and gaining insights into the factors that contribute to variability in the dependent variable.\n",
    "\n",
    "In ANOVA, the total variability in the data is decomposed into three main components:\n",
    "\n",
    "1. **Total Sum of Squares (SST):**\n",
    "   - Represents the total variability in the data, calculated as the sum of the squared differences between each individual data point and the overall mean.\n",
    "\n",
    "   \\[ SST = \\sum_{i=1}^{n} (Y_i - \\bar{Y})^2 \\]\n",
    "\n",
    "2. **Between-Group Sum of Squares (SSB):**\n",
    "   - Represents the variability between the group means, calculated as the sum of the squared differences between each group mean and the overall mean.\n",
    "\n",
    "   \\[ SSB = \\sum_{j=1}^{k} n_j (\\bar{Y}_j - \\bar{Y})^2 \\]\n",
    "\n",
    "   where \\(k\\) is the number of groups, \\(n_j\\) is the sample size of group \\(j\\), \\(\\bar{Y}_j\\) is the mean of group \\(j\\), and \\(\\bar{Y}\\) is the overall mean.\n",
    "\n",
    "3. **Within-Group Sum of Squares (SSW):**\n",
    "   - Represents the variability within each group, calculated as the sum of the squared differences between each individual data point and its respective group mean.\n",
    "\n",
    "   \\[ SSW = \\sum_{j=1}^{k} \\sum_{i=1}^{n_j} (Y_{ij} - \\bar{Y}_j)^2 \\]\n",
    "\n",
    "   where \\(Y_{ij}\\) is the \\(i\\)-th observation in group \\(j\\), \\(\\bar{Y}_j\\) is the mean of group \\(j\\), and \\(n_j\\) is the sample size of group \\(j\\).\n",
    "\n",
    "The key relationship is given by:\n",
    "\n",
    "\\[ SST = SSB + SSW \\]\n",
    "\n",
    "Understanding the partitioning of variance is important for the following reasons:\n",
    "\n",
    "1. **Identification of Sources of Variation:**\n",
    "   - Helps identify whether the observed differences in means are due to true group differences (Between-Group Variability) or random variability within groups (Within-Group Variability).\n",
    "\n",
    "2. **Calculation of F-Statistic:**\n",
    "   - The ratio of Between-Group Variability to Within-Group Variability (F-statistic) is used to assess whether the group means are significantly different.\n",
    "\n",
    "3. **Interpretation of Results:**\n",
    "   - Provides a clearer interpretation of the factors contributing to the overall variability in the data, aiding in the understanding of the experimental design and potential sources of effect.\n",
    "\n",
    "In summary, partitioning of variance in ANOVA helps researchers understand the distribution of variability in their data and aids in drawing meaningful conclusions about the significance of group differences. It forms the basis for hypothesis testing in ANOVA."
   ]
  },
  {
   "cell_type": "markdown",
   "id": "97b77512-d839-465b-bcf5-58173ad95d2c",
   "metadata": {},
   "source": [
    "## Q4. How would you calculate the total sum of squares (SST), explained sum of squares (SSE), and residual sum of squares (SSR) in a one-way ANOVA using Python?"
   ]
  },
  {
   "cell_type": "code",
   "execution_count": 1,
   "id": "49be0cda-d76d-449d-9d99-8c6e1329e84d",
   "metadata": {},
   "outputs": [
    {
     "name": "stdout",
     "output_type": "stream",
     "text": [
      "Total Sum of Squares (SST): 230.39999999999998\n",
      "Explained Sum of Squares (SSE): 46.79999999999999\n",
      "Residual Sum of Squares (SSR): 183.60000000000002\n"
     ]
    }
   ],
   "source": [
    "import numpy as np\n",
    "from scipy.stats import f_oneway\n",
    "\n",
    "# Example data (replace this with your actual data)\n",
    "group1 = [10, 12, 14, 16, 18]\n",
    "group2 = [8, 9, 12, 15, 20]\n",
    "group3 = [5, 8, 10, 12, 14]\n",
    "\n",
    "# Combine data from all groups\n",
    "all_data = np.concatenate([group1, group2, group3])\n",
    "\n",
    "# Calculate overall mean\n",
    "overall_mean = np.mean(all_data)\n",
    "\n",
    "# Calculate Total Sum of Squares (SST)\n",
    "sst = np.sum((all_data - overall_mean)**2)\n",
    "\n",
    "# Calculate group means\n",
    "group1_mean = np.mean(group1)\n",
    "group2_mean = np.mean(group2)\n",
    "group3_mean = np.mean(group3)\n",
    "\n",
    "# Calculate Explained Sum of Squares (SSE)\n",
    "sse = len(group1) * (group1_mean - overall_mean)**2 + len(group2) * (group2_mean - overall_mean)**2 + len(group3) * (group3_mean - overall_mean)**2\n",
    "\n",
    "# Calculate Residual Sum of Squares (SSR)\n",
    "ssr = np.sum((group1 - group1_mean)**2) + np.sum((group2 - group2_mean)**2) + np.sum((group3 - group3_mean)**2)\n",
    "\n",
    "# Check the relationship: SST = SSE + SSR\n",
    "assert np.allclose(sst, sse + ssr)\n",
    "\n",
    "# Print the results\n",
    "print(f\"Total Sum of Squares (SST): {sst}\")\n",
    "print(f\"Explained Sum of Squares (SSE): {sse}\")\n",
    "print(f\"Residual Sum of Squares (SSR): {ssr}\")\n"
   ]
  },
  {
   "cell_type": "markdown",
   "id": "cf1e122d-519a-4b5c-93a0-ef977cc0d6f6",
   "metadata": {},
   "source": [
    "## Q5. In a two-way ANOVA, how would you calculate the main effects and interaction effects using Python?"
   ]
  },
  {
   "cell_type": "code",
   "execution_count": 2,
   "id": "bd021a5c-8c47-4e9b-9127-0e1953eb9fdc",
   "metadata": {},
   "outputs": [
    {
     "name": "stdout",
     "output_type": "stream",
     "text": [
      "Main Effect A: 12.650903203723608\n",
      "Main Effect B: 0.30555635428504374\n",
      "Interaction Effect: 1.0\n"
     ]
    }
   ],
   "source": [
    "import pandas as pd\n",
    "import statsmodels.api as sm\n",
    "from statsmodels.formula.api import ols\n",
    "\n",
    "# Example data (replace this with your actual data)\n",
    "data = {\n",
    "    'A': [10, 12, 14, 16, 18, 8, 9, 12, 15, 20],\n",
    "    'B': [5, 8, 10, 12, 14, 15, 18, 20, 22, 25],\n",
    "    'Y': [25, 30, 35, 40, 45, 20, 25, 30, 35, 40]\n",
    "}\n",
    "\n",
    "df = pd.DataFrame(data)\n",
    "\n",
    "# Fit a two-way ANOVA model\n",
    "formula = 'Y ~ A + B + A:B'\n",
    "model = ols(formula, data=df).fit()\n",
    "anova_table = sm.stats.anova_lm(model, typ=2)\n",
    "\n",
    "# Extract main effects and interaction effect\n",
    "main_effect_A = anova_table.loc['A', 'sum_sq'] / anova_table.loc['A:B', 'sum_sq'].sum()\n",
    "main_effect_B = anova_table.loc['B', 'sum_sq'] / anova_table.loc['A:B', 'sum_sq'].sum()\n",
    "interaction_effect = anova_table.loc['A:B', 'sum_sq'] / anova_table.loc['A:B', 'sum_sq'].sum()\n",
    "\n",
    "# Print the results\n",
    "print(f\"Main Effect A: {main_effect_A}\")\n",
    "print(f\"Main Effect B: {main_effect_B}\")\n",
    "print(f\"Interaction Effect: {interaction_effect}\")\n"
   ]
  },
  {
   "cell_type": "markdown",
   "id": "b040e294-3420-45d5-8a4c-713db0546f34",
   "metadata": {},
   "source": [
    "## Q6. Suppose you conducted a one-way ANOVA and obtained an F-statistic of 5.23 and a p-value of 0.02. What can you conclude about the differences between the groups, and how would you interpret these results?"
   ]
  },
  {
   "cell_type": "markdown",
   "id": "366adb36-fad5-4845-8d7e-61d71ddde7bb",
   "metadata": {},
   "source": [
    "In a one-way ANOVA, the F-statistic is used to test the null hypothesis that the means of several groups are equal. The associated p-value indicates the probability of observing such extreme F-statistic under the assumption that the null hypothesis is true. Here's how to interpret the results:\n",
    "\n",
    "1. **F-Statistic:**\n",
    "   - The F-statistic measures the ratio of the variance between groups to the variance within groups. In your case, the F-statistic is 5.23.\n",
    "\n",
    "2. **P-Value:**\n",
    "   - The p-value (0.02) is the probability of observing an F-statistic as extreme as the one obtained if the null hypothesis (that there are no differences between group means) is true.\n",
    "\n",
    "### Interpretation:\n",
    "\n",
    "- **Null Hypothesis (H0):** The means of all groups are equal.\n",
    "- **Alternative Hypothesis (H1):** At least one group mean is different.\n",
    "\n",
    "- **Conclusion:**\n",
    "  - Since the p-value (0.02) is less than the common significance level of 0.05, you would reject the null hypothesis.\n",
    "  - There is sufficient evidence to suggest that there are significant differences between at least two groups.\n",
    "\n",
    "- **Practical Interpretation:**\n",
    "  - The differences between group means are statistically significant.\n",
    "  - You may need to conduct post-hoc tests or pairwise comparisons to identify which specific groups are different from each other.\n",
    "\n",
    "- **Caution:**\n",
    "  - The rejection of the null hypothesis does not provide information about which specific groups are different. Post-hoc tests or pairwise comparisons are typically used for this purpose.\n",
    "\n",
    "In summary, with an F-statistic of 5.23 and a p-value of 0.02, you would conclude that there are statistically significant differences between at least two groups. Further analyses would be needed to identify which specific groups contribute to these differences."
   ]
  },
  {
   "cell_type": "markdown",
   "id": "dca40bf5-3393-4bb1-b885-1271c3279ebc",
   "metadata": {},
   "source": [
    "## Q7. In a repeated measures ANOVA, how would you handle missing data, and what are the potential consequences of using different methods to handle missing data?"
   ]
  },
  {
   "cell_type": "markdown",
   "id": "83971a64-de8c-452f-82de-81a603fe9331",
   "metadata": {},
   "source": [
    "Handling missing data in a repeated measures ANOVA requires careful consideration, as different methods can have implications for the validity and reliability of the results. Here are common approaches and their potential consequences:\n",
    "\n",
    "### Common Approaches to Handling Missing Data:\n",
    "\n",
    "1. **Complete Case Analysis (CCA):**\n",
    "   - **Approach:** Exclude cases with missing data.\n",
    "   - **Consequences:**\n",
    "     - Reduces the sample size.\n",
    "     - May introduce bias if missing data are not completely random (i.e., if missingness is related to the outcome).\n",
    "\n",
    "2. **Mean Imputation:**\n",
    "   - **Approach:** Replace missing values with the mean of the observed values for that variable.\n",
    "   - **Consequences:**\n",
    "     - Preserves the sample size.\n",
    "     - May underestimate the variability and introduce bias if the missing data are not missing completely at random.\n",
    "\n",
    "3. **Last Observation Carried Forward (LOCF) or Next Observation Carried Backward (NOCB):**\n",
    "   - **Approach:** Impute missing values with the last observed value (LOCF) or the next observed value (NOCB).\n",
    "   - **Consequences:**\n",
    "     - Preserves the sample size.\n",
    "     - Assumes that the value does not change between observations, which may not be valid.\n",
    "\n",
    "4. **Interpolation or Extrapolation:**\n",
    "   - **Approach:** Use statistical techniques to estimate missing values based on observed data.\n",
    "   - **Consequences:**\n",
    "     - Preserves the sample size.\n",
    "     - Assumptions about the underlying data distribution may affect the accuracy of imputations.\n",
    "\n",
    "5. **Multiple Imputation:**\n",
    "   - **Approach:** Generate multiple plausible values for missing data, creating multiple datasets, and averaging the results.\n",
    "   - **Consequences:**\n",
    "     - Preserves the sample size.\n",
    "     - Accounts for uncertainty in imputation, providing more accurate standard errors and confidence intervals.\n",
    "\n",
    "### Potential Consequences of Using Different Methods:\n",
    "\n",
    "1. **Bias:**\n",
    "   - Some methods may introduce bias if missing data are related to the outcome or if the missingness mechanism is not completely random.\n",
    "\n",
    "2. **Precision:**\n",
    "   - Methods that impute missing values can affect the precision of estimates, potentially leading to incorrect standard errors and confidence intervals.\n",
    "\n",
    "3. **Validity:**\n",
    "   - Choosing inappropriate methods can compromise the validity of statistical inferences and lead to incorrect conclusions.\n",
    "\n",
    "4. **Generalizability:**\n",
    "   - The choice of method may impact the generalizability of the results to the broader population.\n",
    "\n",
    "### Recommendations:\n",
    "\n",
    "- **Multiple Imputation:**\n",
    "  - Multiple imputation is generally considered a robust approach, especially when the missing data mechanism is not completely at random.\n",
    "\n",
    "- **Consider the Nature of Missingness:**\n",
    "  - Understanding why data are missing can inform the choice of an appropriate method.\n",
    "\n",
    "- **Sensitivity Analysis:**\n",
    "  - Perform sensitivity analyses to assess the impact of different imputation methods on the results.\n",
    "\n",
    "- **Transparent Reporting:**\n",
    "  - Clearly report the method used for handling missing data and acknowledge potential limitations.\n",
    "\n",
    "It's essential to carefully consider the characteristics of the dataset, the reasons for missingness, and the assumptions of the chosen method when handling missing data in a repeated measures ANOVA. Consulting with statisticians or experts in missing data handling is advisable for complex analyses."
   ]
  },
  {
   "cell_type": "markdown",
   "id": "f42143e9-4014-4d51-9467-652580949877",
   "metadata": {},
   "source": [
    "## Q8. What are some common post-hoc tests used after ANOVA, and when would you use each one? Provide an example of a situation where a post-hoc test might be necessary."
   ]
  },
  {
   "cell_type": "markdown",
   "id": "2937663b-78eb-4138-b871-25733a69b67a",
   "metadata": {},
   "source": [
    "Post-hoc tests are conducted after an Analysis of Variance (ANOVA) when the overall ANOVA test indicates that there are significant differences among group means. These tests help identify which specific groups differ from each other. Common post-hoc tests include:\n",
    "\n",
    "1. **Tukey's Honestly Significant Difference (HSD):**\n",
    "   - **When to Use:**\n",
    "     - Used when you have more than two groups.\n",
    "   - **Example:**\n",
    "     - In a study comparing the effectiveness of three different teaching methods, the ANOVA indicates a significant difference. Tukey's HSD can be used to identify which pairs of teaching methods have significantly different means.\n",
    "\n",
    "2. **Bonferroni Correction:**\n",
    "   - **When to Use:**\n",
    "     - Used when you have more than two groups.\n",
    "   - **Example:**\n",
    "     - In a clinical trial with multiple treatment groups, if the ANOVA suggests a significant difference, the Bonferroni correction can be used to adjust the significance level for multiple comparisons.\n",
    "\n",
    "3. **Dunnett's Test:**\n",
    "   - **When to Use:**\n",
    "     - Used when comparing multiple treatment groups to a control group.\n",
    "   - **Example:**\n",
    "     - In a drug trial with a control group and several experimental groups, Dunnett's test can determine which experimental groups differ significantly from the control group.\n",
    "\n",
    "4. **Scheffe's Test:**\n",
    "   - **When to Use:**\n",
    "     - Used when comparing all possible combinations of groups, especially in cases where sample sizes may be unequal.\n",
    "   - **Example:**\n",
    "     - In an educational study with multiple schools, Scheffe's test can be applied to identify pairs of schools with significantly different mean test scores.\n",
    "\n",
    "5. **Games-Howell Test:**\n",
    "   - **When to Use:**\n",
    "     - Used when sample sizes are unequal and variances are not assumed to be equal.\n",
    "   - **Example:**\n",
    "     - In a study comparing the productivity of different departments in a company where the sample sizes vary, the Games-Howell test can be applied.\n",
    "\n",
    "6. **Holm's Procedure:**\n",
    "   - **When to Use:**\n",
    "     - Used when conducting multiple pairwise comparisons.\n",
    "   - **Example:**\n",
    "     - In a marketing study comparing the performance of different advertising strategies, Holm's procedure can be applied to adjust for multiple comparisons.\n",
    "\n",
    "### Example Situation:\n",
    "\n",
    "Consider a study evaluating the impact of three different diets (Low-Fat, Mediterranean, and Low-Carb) on weight loss. After conducting a one-way ANOVA, if the ANOVA indicates a significant difference among the three diet groups, a post-hoc test (e.g., Tukey's HSD) would be appropriate to identify which specific pairs of diets have significantly different mean weight loss.\n",
    "\n",
    "In this example, the post-hoc test helps pinpoint the specific diets that lead to significantly different outcomes, providing more detailed information than the ANOVA alone."
   ]
  },
  {
   "cell_type": "markdown",
   "id": "eda7ed88-9238-42f4-9397-4d3ac904c91f",
   "metadata": {},
   "source": [
    "## Q9. A researcher wants to compare the mean weight loss of three diets: A, B, and C. They collect data from 50 participants who were randomly assigned to one of the diets. Conduct a one-way ANOVA using Python to determine if there are any significant differences between the mean weight loss of the three diets. Report the F-statistic and p-value, and interpret the results."
   ]
  },
  {
   "cell_type": "code",
   "execution_count": 4,
   "id": "51ad4ec9-cfa0-4e05-a0e2-59481bdaed28",
   "metadata": {},
   "outputs": [
    {
     "name": "stdout",
     "output_type": "stream",
     "text": [
      "F-Statistic: 18.54733956787377\n",
      "P-Value: 6.565884424029676e-08\n",
      "There is a significant difference between the mean weight loss of the three diets.\n"
     ]
    }
   ],
   "source": [
    "import numpy as np\n",
    "from scipy.stats import f_oneway\n",
    "\n",
    "# Example data (replace this with your actual data)\n",
    "diet_A = np.random.normal(5, 2, 50)  # Replace with actual data for Diet A\n",
    "diet_B = np.random.normal(6, 2, 50)  # Replace with actual data for Diet B\n",
    "diet_C = np.random.normal(4, 2, 50)  # Replace with actual data for Diet C\n",
    "\n",
    "# Concatenate data from all diets\n",
    "all_data = [diet_A, diet_B, diet_C]\n",
    "\n",
    "# Perform one-way ANOVA\n",
    "f_statistic, p_value = f_oneway(*all_data)\n",
    "\n",
    "# Report the results\n",
    "print(f\"F-Statistic: {f_statistic}\")\n",
    "print(f\"P-Value: {p_value}\")\n",
    "\n",
    "# Interpretation\n",
    "if p_value < 0.05:\n",
    "    print(\"There is a significant difference between the mean weight loss of the three diets.\")\n",
    "else:\n",
    "    print(\"There is no significant difference between the mean weight loss of the three diets.\")\n"
   ]
  },
  {
   "cell_type": "markdown",
   "id": "4519c81c-d72d-4c30-bbf8-821c0f354538",
   "metadata": {},
   "source": [
    "## Q10. A company wants to know if there are any significant differences in the average time it takes to complete a task using three different software programs: Program A, Program B, and Program C. They randomly assign 30 employees to one of the programs and record the time it takes each employee to complete the task. Conduct a two-way ANOVA using Python to determine if there are any main effects or interaction effects between the software programs and employee experience level (novice vs. experienced). Report the F-statistics and p-values, and interpret the results."
   ]
  },
  {
   "cell_type": "markdown",
   "id": "170357ee-34b3-4486-b7a1-f4b7674b62c1",
   "metadata": {},
   "source": [
    "To conduct a two-way ANOVA in Python, you can use the statsmodels library. Here's an example code snippet assuming you have the data for the time it takes to complete the task, the software program used, and the experience level of each employee:"
   ]
  },
  {
   "cell_type": "code",
   "execution_count": 10,
   "id": "82c3a984-ff7e-4a5c-9699-c520962ce6ee",
   "metadata": {},
   "outputs": [
    {
     "name": "stdout",
     "output_type": "stream",
     "text": [
      "                                sum_sq    df         F    PR(>F)\n",
      "C(Software)                   8.337633   2.0  0.193670  0.824297\n",
      "C(Experience)                31.851905   1.0  1.479736  0.227223\n",
      "C(Software):C(Experience)    52.479686   2.0  1.219018  0.300694\n",
      "Residual                   1808.132913  84.0       NaN       NaN\n"
     ]
    }
   ],
   "source": [
    "import numpy as np\n",
    "import pandas as pd\n",
    "from statsmodels.formula.api import ols\n",
    "from statsmodels.stats.anova import anova_lm\n",
    "\n",
    "# Generating example data\n",
    "np.random.seed(42)\n",
    "\n",
    "# Create a DataFrame with random data for completion times\n",
    "data = pd.DataFrame({\n",
    "    'Software': np.random.choice(['A', 'B', 'C'], size=90),\n",
    "    'Experience': np.random.choice(['Novice', 'Experienced'], size=90),\n",
    "    'Time': np.random.normal(loc=20, scale=5, size=90)\n",
    "})\n",
    "\n",
    "# Two-way ANOVA\n",
    "formula = 'Time ~ C(Software) + C(Experience) + C(Software):C(Experience)'\n",
    "model = ols(formula, data).fit()\n",
    "anova_table = anova_lm(model, typ=2)\n",
    "\n",
    "# Print the results\n",
    "print(anova_table)\n"
   ]
  },
  {
   "cell_type": "markdown",
   "id": "98db2694-a99d-4b57-8690-6b1895877277",
   "metadata": {},
   "source": [
    "## Q11. An educational researcher is interested in whether a new teaching method improves student test scores. They randomly assign 100 students to either the control group (traditional teaching method) or the experimental group (new teaching method) and administer a test at the end of the semester. Conduct a two-sample t-test using Python to determine if there are any significant differences in test scores between the two groups. If the results are significant, follow up with a post-hoc test to determine which group(s) differ significantly from each other."
   ]
  },
  {
   "cell_type": "code",
   "execution_count": 11,
   "id": "e3f78c9c-e72a-4caf-a130-ce6922b98919",
   "metadata": {},
   "outputs": [
    {
     "name": "stdout",
     "output_type": "stream",
     "text": [
      "Two-sample t-test results:\n",
      "t-statistic: -3.597192759749614\n",
      "p-value: 0.0004062796020362504\n",
      "The difference in test scores between the two groups is significant.\n",
      "\n",
      "Post-hoc test (Tukey's HSD):\n",
      "   Multiple Comparison of Means - Tukey HSD, FWER=0.05   \n",
      "=========================================================\n",
      " group1    group2    meandiff p-adj  lower  upper  reject\n",
      "---------------------------------------------------------\n",
      "Control Experimental    5.222 0.0004 2.3593 8.0848   True\n",
      "---------------------------------------------------------\n"
     ]
    }
   ],
   "source": [
    "import numpy as np\n",
    "from scipy import stats\n",
    "import statsmodels.stats.multicomp as multi\n",
    "\n",
    "# Generating random test scores for demonstration\n",
    "np.random.seed(0)  # for reproducibility\n",
    "control_scores = np.random.normal(loc=70, scale=10, size=100)\n",
    "experimental_scores = np.random.normal(loc=75, scale=10, size=100)\n",
    "\n",
    "# Performing two-sample t-test\n",
    "t_statistic, p_value = stats.ttest_ind(control_scores, experimental_scores)\n",
    "print(\"Two-sample t-test results:\")\n",
    "print(\"t-statistic:\", t_statistic)\n",
    "print(\"p-value:\", p_value)\n",
    "\n",
    "# Checking for significance\n",
    "alpha = 0.05\n",
    "if p_value < alpha:\n",
    "    print(\"The difference in test scores between the two groups is significant.\")\n",
    "else:\n",
    "    print(\"There is no significant difference in test scores between the two groups.\")\n",
    "\n",
    "# Performing post-hoc test (e.g., Tukey's HSD)\n",
    "data = np.concatenate([control_scores, experimental_scores])\n",
    "group_labels = ['Control'] * 100 + ['Experimental'] * 100\n",
    "posthoc = multi.pairwise_tukeyhsd(data, group_labels)\n",
    "\n",
    "print(\"\\nPost-hoc test (Tukey's HSD):\")\n",
    "print(posthoc)\n"
   ]
  },
  {
   "cell_type": "markdown",
   "id": "76750e42-4dbf-4a80-9f46-735dd19f0bc1",
   "metadata": {},
   "source": [
    "## Q12. A researcher wants to know if there are any significant differences in the average daily sales of three retail stores: Store A, Store B, and Store C. They randomly select 30 days and record the sales for each store on those days. Conduct a repeated measures ANOVA using Python to determine if there are any significant differences in sales between the three stores. If the results are significant, follow up with a post- hoc test to determine which store(s) differ significantly from each other."
   ]
  },
  {
   "cell_type": "code",
   "execution_count": 12,
   "id": "8f47e38d-2af7-44dc-9720-e2c166a1f87e",
   "metadata": {},
   "outputs": [
    {
     "name": "stdout",
     "output_type": "stream",
     "text": [
      "Repeated Measures ANOVA results:\n",
      "                sum_sq    df         F   PR(>F)\n",
      "C(Store)   3572.373739   2.0  4.498661  0.01383\n",
      "Residual  34543.226476  87.0       NaN      NaN\n",
      "\n",
      "The average daily sales between the three stores are significantly different.\n",
      "\n",
      "Post-hoc test (Tukey's HSD):\n",
      " Multiple Comparison of Means - Tukey HSD, FWER=0.05 \n",
      "=====================================================\n",
      "group1 group2 meandiff p-adj   lower    upper  reject\n",
      "-----------------------------------------------------\n",
      "     A      B -14.6476 0.0151 -26.9155 -2.3797   True\n",
      "     A      C -11.5315 0.0699 -23.7994  0.7363  False\n",
      "     B      C    3.116 0.8174  -9.1519 15.3839  False\n",
      "-----------------------------------------------------\n"
     ]
    }
   ],
   "source": [
    "import numpy as np\n",
    "import pandas as pd\n",
    "from scipy.stats import f_oneway\n",
    "import statsmodels.api as sm\n",
    "from statsmodels.formula.api import ols\n",
    "\n",
    "# Generating random daily sales data for demonstration\n",
    "np.random.seed(0)  # for reproducibility\n",
    "data = {\n",
    "    'Store': np.repeat(['A', 'B', 'C'], 30),\n",
    "    'Sales': np.random.normal(loc=100, scale=20, size=90)\n",
    "}\n",
    "\n",
    "df = pd.DataFrame(data)\n",
    "\n",
    "# Performing repeated measures ANOVA\n",
    "formula = 'Sales ~ C(Store)'\n",
    "model = ols(formula, df).fit()\n",
    "anova_table = sm.stats.anova_lm(model, typ=2)\n",
    "\n",
    "print(\"Repeated Measures ANOVA results:\")\n",
    "print(anova_table)\n",
    "\n",
    "# Checking for significance\n",
    "alpha = 0.05\n",
    "p_value_anova = anova_table['PR(>F)'][0]\n",
    "\n",
    "if p_value_anova < alpha:\n",
    "    print(\"\\nThe average daily sales between the three stores are significantly different.\")\n",
    "    \n",
    "    # Performing post-hoc test (e.g., Tukey's HSD)\n",
    "    posthoc = sm.stats.multicomp.pairwise_tukeyhsd(df['Sales'], df['Store'])\n",
    "\n",
    "    print(\"\\nPost-hoc test (Tukey's HSD):\")\n",
    "    print(posthoc)\n",
    "\n",
    "else:\n",
    "    print(\"\\nThere is no significant difference in average daily sales between the three stores.\")\n"
   ]
  },
  {
   "cell_type": "code",
   "execution_count": null,
   "id": "13eae799-3508-42e5-84e9-e8b8f5b1d732",
   "metadata": {},
   "outputs": [],
   "source": []
  }
 ],
 "metadata": {
  "kernelspec": {
   "display_name": "Python 3 (ipykernel)",
   "language": "python",
   "name": "python3"
  },
  "language_info": {
   "codemirror_mode": {
    "name": "ipython",
    "version": 3
   },
   "file_extension": ".py",
   "mimetype": "text/x-python",
   "name": "python",
   "nbconvert_exporter": "python",
   "pygments_lexer": "ipython3",
   "version": "3.10.8"
  }
 },
 "nbformat": 4,
 "nbformat_minor": 5
}
