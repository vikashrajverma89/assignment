{
 "cells": [
  {
   "cell_type": "markdown",
   "id": "b9a8840d-4ad3-46de-80d6-fe1488940bf2",
   "metadata": {},
   "source": [
    "## Q1. Write a Python function that takes in two arrays of data and calculates the F-value for a variance ratio test. The function should return the F-value and the corresponding p-value for the test."
   ]
  },
  {
   "cell_type": "code",
   "execution_count": 1,
   "id": "5a54799b-a36e-4208-9f06-e44204007699",
   "metadata": {},
   "outputs": [
    {
     "name": "stdout",
     "output_type": "stream",
     "text": [
      "F-value: 7.692307692307691\n",
      "p-value: 0.02416573061824416\n"
     ]
    }
   ],
   "source": [
    "from scipy.stats import f_oneway\n",
    "\n",
    "def variance_ratio_test(array1, array2):\n",
    "    \"\"\"\n",
    "    Perform a variance ratio test between two arrays of data.\n",
    "\n",
    "    Parameters:\n",
    "    - array1: First array of data.\n",
    "    - array2: Second array of data.\n",
    "\n",
    "    Returns:\n",
    "    - f_value: The calculated F-value for the variance ratio test.\n",
    "    - p_value: The corresponding p-value for the test.\n",
    "    \"\"\"\n",
    "    # Perform variance ratio test (F-test)\n",
    "    f_value, p_value = f_oneway(array1, array2)\n",
    "\n",
    "    return f_value, p_value\n",
    "\n",
    "# Example usage:\n",
    "data1 = [10, 12, 15, 8, 11]\n",
    "data2 = [14, 16, 18, 13, 15]\n",
    "\n",
    "f_value, p_value = variance_ratio_test(data1, data2)\n",
    "\n",
    "print(\"F-value:\", f_value)\n",
    "print(\"p-value:\", p_value)\n"
   ]
  },
  {
   "cell_type": "markdown",
   "id": "573fef74-20ef-471e-82ed-ced1b25db092",
   "metadata": {},
   "source": [
    "## Q2. Given a significance level of 0.05 and the degrees of freedom for the numerator and denominator of an F-distribution, write a Python function that returns the critical F-value for a two-tailed test."
   ]
  },
  {
   "cell_type": "code",
   "execution_count": 2,
   "id": "d041411a-55cc-4759-8d1d-68eb1d4dd18c",
   "metadata": {},
   "outputs": [
    {
     "name": "stdout",
     "output_type": "stream",
     "text": [
      "Critical F-value for a two-tailed test: 3.8587\n"
     ]
    }
   ],
   "source": [
    "from scipy.stats import f\n",
    "\n",
    "def critical_f_value(alpha, df_num, df_denom):\n",
    "    \"\"\"\n",
    "    Calculate the critical F-value for a two-tailed test.\n",
    "\n",
    "    Parameters:\n",
    "    - alpha: Significance level (e.g., 0.05 for a 5% significance level).\n",
    "    - df_num: Degrees of freedom for the numerator.\n",
    "    - df_denom: Degrees of freedom for the denominator.\n",
    "\n",
    "    Returns:\n",
    "    - critical_f: The critical F-value for the two-tailed test.\n",
    "    \"\"\"\n",
    "    # Calculate critical F-value\n",
    "    critical_f = f.ppf(1 - alpha/2, df_num, df_denom)\n",
    "\n",
    "    return critical_f\n",
    "\n",
    "# Example usage:\n",
    "alpha = 0.05\n",
    "df_num = 3\n",
    "df_denom = 20\n",
    "\n",
    "critical_f = critical_f_value(alpha, df_num, df_denom)\n",
    "print(f\"Critical F-value for a two-tailed test: {critical_f:.4f}\")\n"
   ]
  },
  {
   "cell_type": "markdown",
   "id": "2428c599-4c62-4fce-ba64-59384dac621a",
   "metadata": {},
   "source": [
    "## Q3. Write a Python program that generates random samples from two normal distributions with known variances and uses an F-test to determine if the variances are equal. The program should output the F- value, degrees of freedom, and p-value for the test."
   ]
  },
  {
   "cell_type": "code",
   "execution_count": 3,
   "id": "a935a7f1-8119-4133-84c1-22c10df1a465",
   "metadata": {},
   "outputs": [
    {
     "name": "stdout",
     "output_type": "stream",
     "text": [
      "F-value: 1.4485238079262464\n",
      "Degrees of freedom (numerator): 29\n",
      "Degrees of freedom (denominator): 29\n",
      "p-value: 0.32394803632962454\n"
     ]
    }
   ],
   "source": [
    "import numpy as np\n",
    "from scipy.stats import f\n",
    "\n",
    "def compare_variances(data1, data2):\n",
    "    \"\"\"\n",
    "    Perform an F-test to compare the variances of two datasets.\n",
    "\n",
    "    Parameters:\n",
    "    - data1: First dataset (array-like).\n",
    "    - data2: Second dataset (array-like).\n",
    "\n",
    "    Returns:\n",
    "    - f_value: The calculated F-value for the variance ratio test.\n",
    "    - df_num: Degrees of freedom for the numerator.\n",
    "    - df_denom: Degrees of freedom for the denominator.\n",
    "    - p_value: The corresponding p-value for the test.\n",
    "    \"\"\"\n",
    "    # Calculate F-test statistics\n",
    "    var1 = np.var(data1, ddof=1)\n",
    "    var2 = np.var(data2, ddof=1)\n",
    "    df_num = len(data1) - 1\n",
    "    df_denom = len(data2) - 1\n",
    "\n",
    "    # Perform F-test\n",
    "    f_value = var1 / var2 if var1 > var2 else var2 / var1\n",
    "    p_value = 2 * min(f.cdf(f_value, df_num, df_denom), 1 - f.cdf(f_value, df_num, df_denom))\n",
    "\n",
    "    return f_value, df_num, df_denom, p_value\n",
    "\n",
    "# Example usage:\n",
    "np.random.seed(0)  # for reproducibility\n",
    "\n",
    "# Generating random samples from two normal distributions\n",
    "data1 = np.random.normal(loc=10, scale=5, size=30)\n",
    "data2 = np.random.normal(loc=12, scale=5, size=30)\n",
    "\n",
    "# Performing F-test\n",
    "f_value, df_num, df_denom, p_value = compare_variances(data1, data2)\n",
    "\n",
    "# Output results\n",
    "print(\"F-value:\", f_value)\n",
    "print(\"Degrees of freedom (numerator):\", df_num)\n",
    "print(\"Degrees of freedom (denominator):\", df_denom)\n",
    "print(\"p-value:\", p_value)\n"
   ]
  },
  {
   "cell_type": "markdown",
   "id": "7a280b30-3943-4e8d-a727-b893fcb13504",
   "metadata": {},
   "source": [
    "## Q4.The variances of two populations are known to be 10 and 15. A sample of 12 observations is taken from each population. Conduct an F-test at the 5% significance level to determine if the variances are significantly different."
   ]
  },
  {
   "cell_type": "code",
   "execution_count": 4,
   "id": "85c4a172-11da-47f9-bf5f-7bcf7f399147",
   "metadata": {},
   "outputs": [
    {
     "name": "stdout",
     "output_type": "stream",
     "text": [
      "F-statistic: 0.6666666666666666\n",
      "Critical F-value: 3.473699051085809\n",
      "Degrees of freedom (numerator): 11\n",
      "Degrees of freedom (denominator): 11\n",
      "p-value: 0.5123897987357996\n",
      "Fail to reject the null hypothesis. There is no significant difference in variances.\n"
     ]
    }
   ],
   "source": [
    "from scipy.stats import f\n",
    "\n",
    "# Given data\n",
    "variance1 = 10\n",
    "variance2 = 15\n",
    "sample_size = 12\n",
    "alpha = 0.05\n",
    "\n",
    "# Calculate the F-statistic\n",
    "f_statistic = variance1 / variance2\n",
    "\n",
    "# Degrees of freedom\n",
    "df_num = sample_size - 1\n",
    "df_denom = sample_size - 1\n",
    "\n",
    "# Calculate critical F-value\n",
    "critical_f_value = f.ppf(1 - alpha/2, df_num, df_denom)\n",
    "\n",
    "# Conduct the F-test\n",
    "p_value = 2 * min(f.cdf(f_statistic, df_num, df_denom), 1 - f.cdf(f_statistic, df_num, df_denom))\n",
    "\n",
    "# Output results\n",
    "print(\"F-statistic:\", f_statistic)\n",
    "print(\"Critical F-value:\", critical_f_value)\n",
    "print(\"Degrees of freedom (numerator):\", df_num)\n",
    "print(\"Degrees of freedom (denominator):\", df_denom)\n",
    "print(\"p-value:\", p_value)\n",
    "\n",
    "# Compare with the critical region\n",
    "if f_statistic > critical_f_value:\n",
    "    print(\"Reject the null hypothesis. The variances are significantly different.\")\n",
    "else:\n",
    "    print(\"Fail to reject the null hypothesis. There is no significant difference in variances.\")\n"
   ]
  },
  {
   "cell_type": "markdown",
   "id": "6aa0a0ab-8d08-40a2-ba90-563c5bf39557",
   "metadata": {},
   "source": [
    "## Q5. A manufacturer claims that the variance of the diameter of a certain product is 0.005. A sample of 25 products is taken, and the sample variance is found to be 0.006. Conduct an F-test at the 1% significance level to determine if the claim is justified."
   ]
  },
  {
   "cell_type": "code",
   "execution_count": 5,
   "id": "6997caf3-35d9-4024-aa78-65f390a226fb",
   "metadata": {},
   "outputs": [
    {
     "name": "stdout",
     "output_type": "stream",
     "text": [
      "F-statistic: 28.799999999999997\n",
      "Critical F-value: 6234.6308935330835\n",
      "Degrees of freedom (numerator): 24\n",
      "Degrees of freedom (denominator): 1\n",
      "p-value: 0.14625497838405432\n",
      "Fail to reject the null hypothesis. The claimed variance is justified.\n"
     ]
    }
   ],
   "source": [
    "from scipy.stats import f\n",
    "\n",
    "# Given data\n",
    "claimed_variance = 0.005\n",
    "sample_variance = 0.006\n",
    "sample_size = 25\n",
    "alpha = 0.01  # 1% significance level\n",
    "\n",
    "# Degrees of freedom\n",
    "df_num = sample_size - 1\n",
    "df_denom = 1  # Since we are comparing with a specific value (claimed variance)\n",
    "\n",
    "# Calculate the F-statistic\n",
    "f_statistic = (sample_variance / claimed_variance) * df_num\n",
    "\n",
    "# Calculate critical F-value\n",
    "critical_f_value = f.ppf(1 - alpha, df_num, df_denom)\n",
    "\n",
    "# Conduct the F-test\n",
    "p_value = 1 - f.cdf(f_statistic, df_num, df_denom)\n",
    "\n",
    "# Output results\n",
    "print(\"F-statistic:\", f_statistic)\n",
    "print(\"Critical F-value:\", critical_f_value)\n",
    "print(\"Degrees of freedom (numerator):\", df_num)\n",
    "print(\"Degrees of freedom (denominator):\", df_denom)\n",
    "print(\"p-value:\", p_value)\n",
    "\n",
    "# Compare with the critical region\n",
    "if f_statistic > critical_f_value:\n",
    "    print(\"Reject the null hypothesis. The claimed variance is not justified.\")\n",
    "else:\n",
    "    print(\"Fail to reject the null hypothesis. The claimed variance is justified.\")\n"
   ]
  },
  {
   "cell_type": "markdown",
   "id": "fe5ca1b1-feae-4a15-aa78-b4ada976117d",
   "metadata": {},
   "source": [
    "## Q6. Write a Python function that takes in the degrees of freedom for the numerator and denominator of an F-distribution and calculates the mean and variance of the distribution. The function should return the mean and variance as a tuple."
   ]
  },
  {
   "cell_type": "code",
   "execution_count": 6,
   "id": "6b70e9a3-0547-4e3d-8463-fae40366abbd",
   "metadata": {},
   "outputs": [
    {
     "name": "stdout",
     "output_type": "stream",
     "text": [
      "Mean of F-distribution: 1.1111\n",
      "Variance of F-distribution: 1.0802\n"
     ]
    }
   ],
   "source": [
    "def f_distribution_mean_variance(df_num, df_denom):\n",
    "    \"\"\"\n",
    "    Calculate the mean and variance of an F-distribution.\n",
    "\n",
    "    Parameters:\n",
    "    - df_num: Degrees of freedom for the numerator.\n",
    "    - df_denom: Degrees of freedom for the denominator.\n",
    "\n",
    "    Returns:\n",
    "    - mean: Mean of the F-distribution.\n",
    "    - variance: Variance of the F-distribution.\n",
    "    \"\"\"\n",
    "    mean = df_denom / (df_denom - 2)\n",
    "    variance = (2 * df_denom**2 * (df_num + df_denom - 2)) / (df_num * (df_denom - 2)**2 * (df_denom - 4))\n",
    "\n",
    "    return mean, variance\n",
    "\n",
    "# Example usage:\n",
    "df_num = 3\n",
    "df_denom = 20\n",
    "\n",
    "mean, variance = f_distribution_mean_variance(df_num, df_denom)\n",
    "\n",
    "print(f\"Mean of F-distribution: {mean:.4f}\")\n",
    "print(f\"Variance of F-distribution: {variance:.4f}\")\n"
   ]
  },
  {
   "cell_type": "markdown",
   "id": "8c01f051-574d-4883-bc16-453eed05cea7",
   "metadata": {},
   "source": [
    "## Q7. A random sample of 10 measurements is taken from a normal population with unknown variance. The sample variance is found to be 25. Another random sample of 15 measurements is taken from another normal population with unknown variance, and the sample variance is found to be 20. Conduct an F-test at the 10% significance level to determine if the variances are significantly different."
   ]
  },
  {
   "cell_type": "code",
   "execution_count": 7,
   "id": "4777f66e-efb0-494e-a97d-adc4880f77e7",
   "metadata": {},
   "outputs": [
    {
     "name": "stdout",
     "output_type": "stream",
     "text": [
      "F-statistic: 1.25\n",
      "Critical F-value: 3.0254727242822095\n",
      "Degrees of freedom (numerator): 14\n",
      "Degrees of freedom (denominator): 9\n",
      "p-value: 0.7537416997292505\n",
      "Fail to reject the null hypothesis. There is no significant difference in variances.\n"
     ]
    }
   ],
   "source": [
    "from scipy.stats import f\n",
    "\n",
    "# Given data\n",
    "sample_variance1 = 25\n",
    "sample_size1 = 10\n",
    "sample_variance2 = 20\n",
    "sample_size2 = 15\n",
    "alpha = 0.10  # 10% significance level\n",
    "\n",
    "# Degrees of freedom\n",
    "df_num1 = sample_size1 - 1\n",
    "df_num2 = sample_size2 - 1\n",
    "\n",
    "# Calculate the F-statistic\n",
    "f_statistic = sample_variance1 / sample_variance2 if sample_variance1 > sample_variance2 else sample_variance2 / sample_variance1\n",
    "\n",
    "# Degrees of freedom for the numerator and denominator\n",
    "df_num = max(df_num1, df_num2)\n",
    "df_denom = min(df_num1, df_num2)\n",
    "\n",
    "# Calculate critical F-value\n",
    "critical_f_value = f.ppf(1 - alpha/2, df_num, df_denom)\n",
    "\n",
    "# Conduct the F-test\n",
    "p_value = 2 * min(f.cdf(f_statistic, df_num, df_denom), 1 - f.cdf(f_statistic, df_num, df_denom))\n",
    "\n",
    "# Output results\n",
    "print(\"F-statistic:\", f_statistic)\n",
    "print(\"Critical F-value:\", critical_f_value)\n",
    "print(\"Degrees of freedom (numerator):\", df_num)\n",
    "print(\"Degrees of freedom (denominator):\", df_denom)\n",
    "print(\"p-value:\", p_value)\n",
    "\n",
    "# Compare with the critical region\n",
    "if f_statistic > critical_f_value or f_statistic < 1/critical_f_value:\n",
    "    print(\"Reject the null hypothesis. The variances are significantly different.\")\n",
    "else:\n",
    "    print(\"Fail to reject the null hypothesis. There is no significant difference in variances.\")\n"
   ]
  },
  {
   "cell_type": "markdown",
   "id": "8e4b812d-37d1-466f-884a-d7096c695d81",
   "metadata": {},
   "source": [
    "## Q8. The following data represent the waiting times in minutes at two different restaurants on a Saturday night: Restaurant A: 24, 25, 28, 23, 22, 20, 27; Restaurant B: 31, 33, 35, 30, 32, 36. Conduct an F-test at the 5% significance level to determine if the variances are significantly different."
   ]
  },
  {
   "cell_type": "code",
   "execution_count": 9,
   "id": "75060ad9-7f95-418b-b638-3ea020b3140e",
   "metadata": {},
   "outputs": [
    {
     "name": "stdout",
     "output_type": "stream",
     "text": [
      "F-statistic: 1.4551907719609583\n",
      "Critical F-value: 6.977701858535566\n",
      "Degrees of freedom (numerator): 6\n",
      "Degrees of freedom (denominator): 5\n",
      "p-value: 0.6974815747937484\n",
      "Fail to reject the null hypothesis. There is no significant difference in variances.\n"
     ]
    }
   ],
   "source": [
    "from scipy.stats import f\n",
    "\n",
    "# Given data\n",
    "data_a = [24, 25, 28, 23, 22, 20, 27]\n",
    "data_b = [31, 33, 35, 30, 32, 36]\n",
    "alpha = 0.05  # 5% significance level\n",
    "\n",
    "# Calculate sample variances\n",
    "variance_a = sum((x - sum(data_a) / len(data_a))**2 for x in data_a) / (len(data_a) - 1)\n",
    "variance_b = sum((x - sum(data_b) / len(data_b))**2 for x in data_b) / (len(data_b) - 1)\n",
    "\n",
    "# Calculate the F-statistic\n",
    "f_statistic = variance_a / variance_b if variance_a > variance_b else variance_b / variance_a\n",
    "\n",
    "# Degrees of freedom\n",
    "df_num_a = len(data_a) - 1\n",
    "df_num_b = len(data_b) - 1\n",
    "df_num = max(df_num_a, df_num_b)\n",
    "df_denom = min(df_num_a, df_num_b)\n",
    "\n",
    "# Calculate critical F-value\n",
    "critical_f_value = f.ppf(1 - alpha/2, df_num, df_denom)\n",
    "\n",
    "# Conduct the F-test\n",
    "p_value = 2 * min(f.cdf(f_statistic, df_num, df_denom), 1 - f.cdf(f_statistic, df_num, df_denom))\n",
    "\n",
    "# Output results\n",
    "print(\"F-statistic:\", f_statistic)\n",
    "print(\"Critical F-value:\", critical_f_value)\n",
    "print(\"Degrees of freedom (numerator):\", df_num)\n",
    "print(\"Degrees of freedom (denominator):\", df_denom)\n",
    "print(\"p-value:\", p_value)\n",
    "\n",
    "# Compare with the critical region\n",
    "if f_statistic > critical_f_value or f_statistic < 1/critical_f_value:\n",
    "    print(\"Reject the null hypothesis. The variances are significantly different.\")\n",
    "else:\n",
    "    print(\"Fail to reject the null hypothesis. There is no significant difference in variances.\")\n"
   ]
  },
  {
   "cell_type": "markdown",
   "id": "2ca7d807-61f1-4f3f-a283-36fadbd2cb1a",
   "metadata": {},
   "source": [
    "## Q9. The following data represent the test scores of two groups of students: Group A: 80, 85, 90, 92, 87, 83; Group B: 75, 78, 82, 79, 81, 84. Conduct an F-test at the 1% significance level to determine if the variances are significantly different."
   ]
  },
  {
   "cell_type": "code",
   "execution_count": 10,
   "id": "046f9374-9000-4490-8a3d-8a072505c84a",
   "metadata": {},
   "outputs": [
    {
     "name": "stdout",
     "output_type": "stream",
     "text": [
      "F-statistic: 1.9442622950819677\n",
      "Critical F-value: 14.939605459912224\n",
      "Degrees of freedom (numerator): 5\n",
      "Degrees of freedom (denominator): 5\n",
      "p-value: 0.4831043549070688\n",
      "Fail to reject the null hypothesis. There is no significant difference in variances.\n"
     ]
    }
   ],
   "source": [
    "from scipy.stats import f\n",
    "\n",
    "# Given data\n",
    "group_a = [80, 85, 90, 92, 87, 83]\n",
    "group_b = [75, 78, 82, 79, 81, 84]\n",
    "alpha = 0.01  # 1% significance level\n",
    "\n",
    "# Calculate sample variances\n",
    "variance_a = sum((x - sum(group_a) / len(group_a))**2 for x in group_a) / (len(group_a) - 1)\n",
    "variance_b = sum((x - sum(group_b) / len(group_b))**2 for x in group_b) / (len(group_b) - 1)\n",
    "\n",
    "# Calculate the F-statistic\n",
    "f_statistic = variance_a / variance_b if variance_a > variance_b else variance_b / variance_a\n",
    "\n",
    "# Degrees of freedom\n",
    "df_num_a = len(group_a) - 1\n",
    "df_num_b = len(group_b) - 1\n",
    "df_num = max(df_num_a, df_num_b)\n",
    "df_denom = min(df_num_a, df_num_b)\n",
    "\n",
    "# Calculate critical F-value\n",
    "critical_f_value = f.ppf(1 - alpha/2, df_num, df_denom)\n",
    "\n",
    "# Conduct the F-test\n",
    "p_value = 2 * min(f.cdf(f_statistic, df_num, df_denom), 1 - f.cdf(f_statistic, df_num, df_denom))\n",
    "\n",
    "# Output results\n",
    "print(\"F-statistic:\", f_statistic)\n",
    "print(\"Critical F-value:\", critical_f_value)\n",
    "print(\"Degrees of freedom (numerator):\", df_num)\n",
    "print(\"Degrees of freedom (denominator):\", df_denom)\n",
    "print(\"p-value:\", p_value)\n",
    "\n",
    "# Compare with the critical region\n",
    "if f_statistic > critical_f_value or f_statistic < 1/critical_f_value:\n",
    "    print(\"Reject the null hypothesis. The variances are significantly different.\")\n",
    "else:\n",
    "    print(\"Fail to reject the null hypothesis. There is no significant difference in variances.\")\n"
   ]
  },
  {
   "cell_type": "code",
   "execution_count": null,
   "id": "e4a68ba3-ba1d-4eb5-9c59-b2cb23d57813",
   "metadata": {},
   "outputs": [],
   "source": []
  }
 ],
 "metadata": {
  "kernelspec": {
   "display_name": "Python 3 (ipykernel)",
   "language": "python",
   "name": "python3"
  },
  "language_info": {
   "codemirror_mode": {
    "name": "ipython",
    "version": 3
   },
   "file_extension": ".py",
   "mimetype": "text/x-python",
   "name": "python",
   "nbconvert_exporter": "python",
   "pygments_lexer": "ipython3",
   "version": "3.10.8"
  }
 },
 "nbformat": 4,
 "nbformat_minor": 5
}
